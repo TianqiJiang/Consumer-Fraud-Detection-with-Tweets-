{
 "cells": [
  {
   "cell_type": "markdown",
   "metadata": {},
   "source": [
    "# Build the table for Visualization \n",
    "\n",
    "Transform format and combine OAG, CFPB and Tweets together. "
   ]
  },
  {
   "cell_type": "code",
   "execution_count": 638,
   "metadata": {
    "collapsed": true
   },
   "outputs": [],
   "source": [
    "import pandas as pd\n",
    "import geopandas as gpd\n",
    "import pickle"
   ]
  },
  {
   "cell_type": "markdown",
   "metadata": {},
   "source": [
    "## OAG"
   ]
  },
  {
   "cell_type": "markdown",
   "metadata": {},
   "source": [
    "import oag data with firm name"
   ]
  },
  {
   "cell_type": "code",
   "execution_count": 388,
   "metadata": {
    "collapsed": false,
    "scrolled": false
   },
   "outputs": [],
   "source": [
    "oag_data = pd.read_pickle('max_OAG_firm_list_v2.pkl')"
   ]
  },
  {
   "cell_type": "code",
   "execution_count": 389,
   "metadata": {
    "collapsed": false,
    "scrolled": false
   },
   "outputs": [],
   "source": [
    "# oag_data.head(100)"
   ]
  },
  {
   "cell_type": "code",
   "execution_count": 390,
   "metadata": {
    "collapsed": false
   },
   "outputs": [
    {
     "data": {
      "text/plain": [
       "8188"
      ]
     },
     "execution_count": 390,
     "metadata": {},
     "output_type": "execute_result"
    }
   ],
   "source": [
    "oag_data = oag_data[oag_data[\"COMPLAINANT_STATE\"]=='NY']\n",
    "oag_data = oag_data.drop_duplicates(subset=['MATTER_ID'])\n",
    "len(oag_data)"
   ]
  },
  {
   "cell_type": "code",
   "execution_count": 391,
   "metadata": {
    "collapsed": false
   },
   "outputs": [],
   "source": [
    "# oag_data.columns"
   ]
  },
  {
   "cell_type": "code",
   "execution_count": 392,
   "metadata": {
    "collapsed": true
   },
   "outputs": [],
   "source": [
    "oag_df = oag_data.loc[:,['MATTER_ID','cusp_firm_name','COMPLAINT_DATE','COMPLAINANT_ZIP','COMPLAINT_DESCRIPTION']]"
   ]
  },
  {
   "cell_type": "code",
   "execution_count": 393,
   "metadata": {
    "collapsed": false
   },
   "outputs": [],
   "source": [
    "oag_df['MATTER_ID'] = oag_df['MATTER_ID'].apply(lambda x: int(''.join(x.split(','))))"
   ]
  },
  {
   "cell_type": "code",
   "execution_count": 394,
   "metadata": {
    "collapsed": false
   },
   "outputs": [
    {
     "name": "stdout",
     "output_type": "stream",
     "text": [
      "<class 'pandas.core.frame.DataFrame'>\n",
      "Int64Index: 8188 entries, 0 to 12342\n",
      "Data columns (total 5 columns):\n",
      "MATTER_ID                8188 non-null int64\n",
      "cusp_firm_name           8188 non-null object\n",
      "COMPLAINT_DATE           8188 non-null object\n",
      "COMPLAINANT_ZIP          8188 non-null int64\n",
      "COMPLAINT_DESCRIPTION    8186 non-null object\n",
      "dtypes: int64(2), object(3)\n",
      "memory usage: 383.8+ KB\n"
     ]
    }
   ],
   "source": [
    "oag_df.info()"
   ]
  },
  {
   "cell_type": "markdown",
   "metadata": {},
   "source": [
    "import oag data with category label"
   ]
  },
  {
   "cell_type": "code",
   "execution_count": 395,
   "metadata": {
    "collapsed": true
   },
   "outputs": [],
   "source": [
    "oag_label = pd.read_pickle('../data/OAG_corpus_with_CUSP_code.pkl')"
   ]
  },
  {
   "cell_type": "code",
   "execution_count": 396,
   "metadata": {
    "collapsed": false
   },
   "outputs": [],
   "source": [
    "oag_label = oag_label.loc[:,['MATTER_ID','cusp_code','CUSP_NAAG']]"
   ]
  },
  {
   "cell_type": "code",
   "execution_count": 397,
   "metadata": {
    "collapsed": true
   },
   "outputs": [],
   "source": [
    "oag_label = oag_label.drop_duplicates(subset=['MATTER_ID'])"
   ]
  },
  {
   "cell_type": "code",
   "execution_count": 398,
   "metadata": {
    "collapsed": false
   },
   "outputs": [],
   "source": [
    "cusp_code_index = oag_label.iloc[:,1:].drop_duplicates(subset=['cusp_code'])"
   ]
  },
  {
   "cell_type": "code",
   "execution_count": 399,
   "metadata": {
    "collapsed": false
   },
   "outputs": [
    {
     "data": {
      "text/html": [
       "<div>\n",
       "<table border=\"1\" class=\"dataframe\">\n",
       "  <thead>\n",
       "    <tr style=\"text-align: right;\">\n",
       "      <th></th>\n",
       "      <th>cusp_code</th>\n",
       "      <th>CUSP_NAAG</th>\n",
       "    </tr>\n",
       "  </thead>\n",
       "  <tbody>\n",
       "    <tr>\n",
       "      <th>0</th>\n",
       "      <td>2</td>\n",
       "      <td>scams</td>\n",
       "    </tr>\n",
       "    <tr>\n",
       "      <th>1</th>\n",
       "      <td>4</td>\n",
       "      <td>financial</td>\n",
       "    </tr>\n",
       "    <tr>\n",
       "      <th>2</th>\n",
       "      <td>8</td>\n",
       "      <td>travel</td>\n",
       "    </tr>\n",
       "    <tr>\n",
       "      <th>4</th>\n",
       "      <td>5</td>\n",
       "      <td>good_n_services</td>\n",
       "    </tr>\n",
       "    <tr>\n",
       "      <th>5</th>\n",
       "      <td>1</td>\n",
       "      <td>None</td>\n",
       "    </tr>\n",
       "    <tr>\n",
       "      <th>7</th>\n",
       "      <td>7</td>\n",
       "      <td>utilities</td>\n",
       "    </tr>\n",
       "    <tr>\n",
       "      <th>11</th>\n",
       "      <td>0</td>\n",
       "      <td>Residential</td>\n",
       "    </tr>\n",
       "    <tr>\n",
       "      <th>14</th>\n",
       "      <td>3</td>\n",
       "      <td>misc</td>\n",
       "    </tr>\n",
       "    <tr>\n",
       "      <th>143</th>\n",
       "      <td>6</td>\n",
       "      <td>government</td>\n",
       "    </tr>\n",
       "  </tbody>\n",
       "</table>\n",
       "</div>"
      ],
      "text/plain": [
       "     cusp_code        CUSP_NAAG\n",
       "0            2            scams\n",
       "1            4        financial\n",
       "2            8           travel\n",
       "4            5  good_n_services\n",
       "5            1             None\n",
       "7            7        utilities\n",
       "11           0      Residential\n",
       "14           3             misc\n",
       "143          6       government"
      ]
     },
     "execution_count": 399,
     "metadata": {},
     "output_type": "execute_result"
    }
   ],
   "source": [
    "cusp_code_index"
   ]
  },
  {
   "cell_type": "code",
   "execution_count": 400,
   "metadata": {
    "collapsed": false
   },
   "outputs": [
    {
     "name": "stdout",
     "output_type": "stream",
     "text": [
      "8188\n",
      "12416\n"
     ]
    }
   ],
   "source": [
    "print len(oag_df)\n",
    "print len(oag_label)"
   ]
  },
  {
   "cell_type": "code",
   "execution_count": 407,
   "metadata": {
    "collapsed": false
   },
   "outputs": [],
   "source": [
    "oag_with_label = oag_df.merge(oag_label, on='MATTER_ID', how = 'inner')"
   ]
  },
  {
   "cell_type": "code",
   "execution_count": 408,
   "metadata": {
    "collapsed": false
   },
   "outputs": [
    {
     "data": {
      "text/plain": [
       "8166"
      ]
     },
     "execution_count": 408,
     "metadata": {},
     "output_type": "execute_result"
    }
   ],
   "source": [
    "len(oag_with_label)"
   ]
  },
  {
   "cell_type": "code",
   "execution_count": 409,
   "metadata": {
    "collapsed": true
   },
   "outputs": [],
   "source": [
    "oag_with_label.dropna(subset=['COMPLAINT_DESCRIPTION'], inplace=True)"
   ]
  },
  {
   "cell_type": "code",
   "execution_count": 410,
   "metadata": {
    "collapsed": false
   },
   "outputs": [],
   "source": [
    "oag_with_label = oag_with_label.drop(['MATTER_ID','CUSP_NAAG'], axis=1)"
   ]
  },
  {
   "cell_type": "code",
   "execution_count": 412,
   "metadata": {
    "collapsed": true
   },
   "outputs": [],
   "source": [
    "oag_with_label = oag_with_label[oag_with_label['cusp_code'] != 1]"
   ]
  },
  {
   "cell_type": "code",
   "execution_count": 414,
   "metadata": {
    "collapsed": true
   },
   "outputs": [],
   "source": [
    "oag_with_label['cusp_code'] = oag_with_label['cusp_code'].replace(0,1)"
   ]
  },
  {
   "cell_type": "code",
   "execution_count": 415,
   "metadata": {
    "collapsed": false
   },
   "outputs": [
    {
     "data": {
      "text/plain": [
       "array([2, 3, 5, 4, 8, 7, 1, 6])"
      ]
     },
     "execution_count": 415,
     "metadata": {},
     "output_type": "execute_result"
    }
   ],
   "source": [
    "oag_with_label['cusp_code'].unique()"
   ]
  },
  {
   "cell_type": "markdown",
   "metadata": {},
   "source": [
    "import zip to county FIPS inference"
   ]
  },
  {
   "cell_type": "code",
   "execution_count": 426,
   "metadata": {
    "collapsed": true
   },
   "outputs": [],
   "source": [
    "zip_code_table = pd.read_csv('../data/New_York_State_ZIP_Codes-County_FIPS_Cross-Reference.csv')"
   ]
  },
  {
   "cell_type": "code",
   "execution_count": 427,
   "metadata": {
    "collapsed": false
   },
   "outputs": [],
   "source": [
    "zip_code_table = zip_code_table.loc[:,[\"County Name\",\"County FIPS\",\"ZIP Code\",'zip3']]"
   ]
  },
  {
   "cell_type": "code",
   "execution_count": 428,
   "metadata": {
    "collapsed": true
   },
   "outputs": [],
   "source": [
    "zip_code_table = zip_code_table.dropna(subset=['ZIP Code'])\n",
    "zip_code_table = zip_code_table.drop_duplicates(subset=['ZIP Code'])"
   ]
  },
  {
   "cell_type": "code",
   "execution_count": 429,
   "metadata": {
    "collapsed": false,
    "scrolled": true
   },
   "outputs": [
    {
     "data": {
      "text/html": [
       "<div>\n",
       "<table border=\"1\" class=\"dataframe\">\n",
       "  <thead>\n",
       "    <tr style=\"text-align: right;\">\n",
       "      <th></th>\n",
       "      <th>County Name</th>\n",
       "      <th>County FIPS</th>\n",
       "      <th>ZIP Code</th>\n",
       "      <th>zip3</th>\n",
       "    </tr>\n",
       "  </thead>\n",
       "  <tbody>\n",
       "    <tr>\n",
       "      <th>0</th>\n",
       "      <td>Albany</td>\n",
       "      <td>36001</td>\n",
       "      <td>12046</td>\n",
       "      <td>120</td>\n",
       "    </tr>\n",
       "    <tr>\n",
       "      <th>1</th>\n",
       "      <td>Albany</td>\n",
       "      <td>36001</td>\n",
       "      <td>12083</td>\n",
       "      <td>120</td>\n",
       "    </tr>\n",
       "    <tr>\n",
       "      <th>2</th>\n",
       "      <td>Albany</td>\n",
       "      <td>36001</td>\n",
       "      <td>12085</td>\n",
       "      <td>120</td>\n",
       "    </tr>\n",
       "    <tr>\n",
       "      <th>3</th>\n",
       "      <td>Albany</td>\n",
       "      <td>36001</td>\n",
       "      <td>12201</td>\n",
       "      <td>122</td>\n",
       "    </tr>\n",
       "    <tr>\n",
       "      <th>4</th>\n",
       "      <td>Albany</td>\n",
       "      <td>36001</td>\n",
       "      <td>12203</td>\n",
       "      <td>122</td>\n",
       "    </tr>\n",
       "  </tbody>\n",
       "</table>\n",
       "</div>"
      ],
      "text/plain": [
       "  County Name  County FIPS  ZIP Code  zip3\n",
       "0      Albany        36001     12046   120\n",
       "1      Albany        36001     12083   120\n",
       "2      Albany        36001     12085   120\n",
       "3      Albany        36001     12201   122\n",
       "4      Albany        36001     12203   122"
      ]
     },
     "execution_count": 429,
     "metadata": {},
     "output_type": "execute_result"
    }
   ],
   "source": [
    "zip_code_table.head()"
   ]
  },
  {
   "cell_type": "code",
   "execution_count": 432,
   "metadata": {
    "collapsed": false
   },
   "outputs": [],
   "source": [
    "oag_with_county = oag_with_label.merge(zip_code_table, left_on='COMPLAINANT_ZIP', right_on='ZIP Code', how='inner')"
   ]
  },
  {
   "cell_type": "code",
   "execution_count": 433,
   "metadata": {
    "collapsed": false
   },
   "outputs": [
    {
     "data": {
      "text/plain": [
       "7030"
      ]
     },
     "execution_count": 433,
     "metadata": {},
     "output_type": "execute_result"
    }
   ],
   "source": [
    "len(oag_with_county)"
   ]
  },
  {
   "cell_type": "code",
   "execution_count": 434,
   "metadata": {
    "collapsed": false,
    "scrolled": true
   },
   "outputs": [],
   "source": [
    "oag_with_county = oag_with_county.loc[:,['cusp_firm_name','cusp_code','COMPLAINT_DATE','County FIPS','COMPLAINT_DESCRIPTION']]"
   ]
  },
  {
   "cell_type": "code",
   "execution_count": 437,
   "metadata": {
    "collapsed": false
   },
   "outputs": [],
   "source": [
    "oag_final = oag_with_county"
   ]
  },
  {
   "cell_type": "code",
   "execution_count": 609,
   "metadata": {
    "collapsed": true
   },
   "outputs": [],
   "source": [
    "oag_final.columns = ['Company','Category','Date','County_FIPS','Description']"
   ]
  },
  {
   "cell_type": "code",
   "execution_count": 624,
   "metadata": {
    "collapsed": true
   },
   "outputs": [],
   "source": [
    "oag_final.loc[:,'Data Source'] = 'OAG Online'"
   ]
  },
  {
   "cell_type": "code",
   "execution_count": 672,
   "metadata": {
    "collapsed": true
   },
   "outputs": [],
   "source": [
    "oag_final.Date = oag_final.Date.apply(lambda x: x.split(' ')[0])"
   ]
  },
  {
   "cell_type": "code",
   "execution_count": 689,
   "metadata": {
    "collapsed": false
   },
   "outputs": [],
   "source": [
    "for i in range(len(oag_final)):\n",
    "    original = oag_final.iloc[i,2].split('/')\n",
    "    if len(original[0]) == 1:\n",
    "        original[0] = '0' + original[0]\n",
    "    if len(original[1]) == 1:\n",
    "        original[1] = '0' + original[1]\n",
    "    original[2] = '20' + original[2]\n",
    "    new = '/'.join(original)\n",
    "    oag_final.iloc[i,2] = new"
   ]
  },
  {
   "cell_type": "code",
   "execution_count": 700,
   "metadata": {
    "collapsed": false
   },
   "outputs": [
    {
     "data": {
      "text/html": [
       "<div>\n",
       "<table border=\"1\" class=\"dataframe\">\n",
       "  <thead>\n",
       "    <tr style=\"text-align: right;\">\n",
       "      <th></th>\n",
       "      <th>Company</th>\n",
       "      <th>Category</th>\n",
       "      <th>Date</th>\n",
       "      <th>County_FIPS</th>\n",
       "      <th>Description</th>\n",
       "      <th>Data Source</th>\n",
       "    </tr>\n",
       "  </thead>\n",
       "  <tbody>\n",
       "    <tr>\n",
       "      <th>0</th>\n",
       "      <td>ticketmaster</td>\n",
       "      <td>2</td>\n",
       "      <td>06/07/2016</td>\n",
       "      <td>36061</td>\n",
       "      <td>I attempted to purchase two tickets to see ---...</td>\n",
       "      <td>OAG Online</td>\n",
       "    </tr>\n",
       "    <tr>\n",
       "      <th>1</th>\n",
       "      <td>apple company</td>\n",
       "      <td>5</td>\n",
       "      <td>06/07/2016</td>\n",
       "      <td>36061</td>\n",
       "      <td>I had to contact them including - personal tim...</td>\n",
       "      <td>OAG Online</td>\n",
       "    </tr>\n",
       "    <tr>\n",
       "      <th>2</th>\n",
       "      <td>planet fitness</td>\n",
       "      <td>5</td>\n",
       "      <td>09/09/2015</td>\n",
       "      <td>36061</td>\n",
       "      <td>Note User indicated supporting documents will ...</td>\n",
       "      <td>OAG Online</td>\n",
       "    </tr>\n",
       "    <tr>\n",
       "      <th>3</th>\n",
       "      <td>jason starr</td>\n",
       "      <td>1</td>\n",
       "      <td>05/17/2016</td>\n",
       "      <td>36061</td>\n",
       "      <td>Was hired to paint and do basic construction w...</td>\n",
       "      <td>OAG Online</td>\n",
       "    </tr>\n",
       "    <tr>\n",
       "      <th>4</th>\n",
       "      <td>american airlines</td>\n",
       "      <td>8</td>\n",
       "      <td>04/04/2016</td>\n",
       "      <td>36061</td>\n",
       "      <td>Note User indicated supporting documents will ...</td>\n",
       "      <td>OAG Online</td>\n",
       "    </tr>\n",
       "  </tbody>\n",
       "</table>\n",
       "</div>"
      ],
      "text/plain": [
       "             Company  Category        Date  County_FIPS  \\\n",
       "0       ticketmaster         2  06/07/2016        36061   \n",
       "1      apple company         5  06/07/2016        36061   \n",
       "2     planet fitness         5  09/09/2015        36061   \n",
       "3        jason starr         1  05/17/2016        36061   \n",
       "4  american airlines         8  04/04/2016        36061   \n",
       "\n",
       "                                         Description Data Source  \n",
       "0  I attempted to purchase two tickets to see ---...  OAG Online  \n",
       "1  I had to contact them including - personal tim...  OAG Online  \n",
       "2  Note User indicated supporting documents will ...  OAG Online  \n",
       "3  Was hired to paint and do basic construction w...  OAG Online  \n",
       "4  Note User indicated supporting documents will ...  OAG Online  "
      ]
     },
     "execution_count": 700,
     "metadata": {},
     "output_type": "execute_result"
    }
   ],
   "source": [
    "oag_final.head()"
   ]
  },
  {
   "cell_type": "code",
   "execution_count": 702,
   "metadata": {
    "collapsed": false
   },
   "outputs": [
    {
     "name": "stdout",
     "output_type": "stream",
     "text": [
      "<class 'pandas.core.frame.DataFrame'>\n",
      "Int64Index: 7030 entries, 0 to 7029\n",
      "Data columns (total 6 columns):\n",
      "Company        7030 non-null object\n",
      "Category       7030 non-null int64\n",
      "Date           7030 non-null object\n",
      "County_FIPS    7030 non-null int64\n",
      "Description    7030 non-null object\n",
      "Data Source    7030 non-null object\n",
      "dtypes: int64(2), object(4)\n",
      "memory usage: 384.5+ KB\n"
     ]
    }
   ],
   "source": [
    "oag_final.info()"
   ]
  },
  {
   "cell_type": "code",
   "execution_count": 698,
   "metadata": {
    "collapsed": false,
    "scrolled": false
   },
   "outputs": [],
   "source": [
    "company_list_oag = list(oag_final.Company.unique())"
   ]
  },
  {
   "cell_type": "code",
   "execution_count": 699,
   "metadata": {
    "collapsed": false
   },
   "outputs": [
    {
     "data": {
      "text/plain": [
       "5359"
      ]
     },
     "execution_count": 699,
     "metadata": {},
     "output_type": "execute_result"
    }
   ],
   "source": [
    "len(company_list_oag)"
   ]
  },
  {
   "cell_type": "markdown",
   "metadata": {},
   "source": [
    "## CFPB"
   ]
  },
  {
   "cell_type": "code",
   "execution_count": 489,
   "metadata": {
    "collapsed": true
   },
   "outputs": [],
   "source": [
    "cfpb_data = pd.read_csv('../data/maxs_CFPBv1.csv',index_col=0)"
   ]
  },
  {
   "cell_type": "code",
   "execution_count": 490,
   "metadata": {
    "collapsed": false,
    "scrolled": false
   },
   "outputs": [
    {
     "data": {
      "text/plain": [
       "249875"
      ]
     },
     "execution_count": 490,
     "metadata": {},
     "output_type": "execute_result"
    }
   ],
   "source": [
    "len(cfpb_data)"
   ]
  },
  {
   "cell_type": "code",
   "execution_count": 491,
   "metadata": {
    "collapsed": false
   },
   "outputs": [],
   "source": [
    "# cfpb_data.columns"
   ]
  },
  {
   "cell_type": "code",
   "execution_count": 492,
   "metadata": {
    "collapsed": true
   },
   "outputs": [],
   "source": [
    "cfpb_data.loc[:,'categoary'] = 4"
   ]
  },
  {
   "cell_type": "code",
   "execution_count": 502,
   "metadata": {
    "collapsed": true
   },
   "outputs": [],
   "source": [
    "cfpb_ = cfpb_data.loc[:, ['cusp_firm_name','categoary','Date received','ZIP code','Consumer complaint narrative']]"
   ]
  },
  {
   "cell_type": "code",
   "execution_count": 503,
   "metadata": {
    "collapsed": false
   },
   "outputs": [],
   "source": [
    "cfpb_.dropna(subset=['Consumer complaint narrative'], inplace=True)\n",
    "cfpb_.reset_index(drop=True, inplace=True)"
   ]
  },
  {
   "cell_type": "code",
   "execution_count": 504,
   "metadata": {
    "collapsed": false
   },
   "outputs": [],
   "source": [
    "cfpb_.loc[:,'zip3'] = cfpb_.loc[:,'ZIP code'].apply(lambda x: int(x[:3]) if x[2] != '-' else False)"
   ]
  },
  {
   "cell_type": "code",
   "execution_count": 505,
   "metadata": {
    "collapsed": true
   },
   "outputs": [],
   "source": [
    "cfpb_.dropna(subset=[\"ZIP code\"], inplace=True)"
   ]
  },
  {
   "cell_type": "code",
   "execution_count": 506,
   "metadata": {
    "collapsed": false
   },
   "outputs": [],
   "source": [
    "cfpb_.drop([\"ZIP code\"], axis=1, inplace=True)"
   ]
  },
  {
   "cell_type": "code",
   "execution_count": 604,
   "metadata": {
    "collapsed": false
   },
   "outputs": [],
   "source": [
    "# cfpb_.head()"
   ]
  },
  {
   "cell_type": "code",
   "execution_count": 508,
   "metadata": {
    "collapsed": false,
    "scrolled": true
   },
   "outputs": [
    {
     "data": {
      "text/plain": [
       "25072"
      ]
     },
     "execution_count": 508,
     "metadata": {},
     "output_type": "execute_result"
    }
   ],
   "source": [
    "len(cfpb_)"
   ]
  },
  {
   "cell_type": "code",
   "execution_count": 509,
   "metadata": {
    "collapsed": false
   },
   "outputs": [],
   "source": [
    "zip_code_table_cfpb = zip_code_table.drop_duplicates(subset=['zip3'])"
   ]
  },
  {
   "cell_type": "code",
   "execution_count": 511,
   "metadata": {
    "collapsed": true
   },
   "outputs": [],
   "source": [
    "cfpb_final = cfpb_.merge(zip_code_table_cfpb, on='zip3', how='inner')"
   ]
  },
  {
   "cell_type": "code",
   "execution_count": 512,
   "metadata": {
    "collapsed": false
   },
   "outputs": [
    {
     "data": {
      "text/plain": [
       "24975"
      ]
     },
     "execution_count": 512,
     "metadata": {},
     "output_type": "execute_result"
    }
   ],
   "source": [
    "len(cfpb_final)"
   ]
  },
  {
   "cell_type": "code",
   "execution_count": 515,
   "metadata": {
    "collapsed": false
   },
   "outputs": [],
   "source": [
    "cfpb_final = cfpb_final.loc[:,['cusp_firm_name','categoary','Date received','County FIPS','Consumer complaint narrative']]"
   ]
  },
  {
   "cell_type": "code",
   "execution_count": 611,
   "metadata": {
    "collapsed": true
   },
   "outputs": [],
   "source": [
    "cfpb_final.columns = ['Company','Category','Date','County_FIPS','Description']"
   ]
  },
  {
   "cell_type": "code",
   "execution_count": 626,
   "metadata": {
    "collapsed": true
   },
   "outputs": [],
   "source": [
    "cfpb_final.loc[:,'Data Source'] = 'CFPB'"
   ]
  },
  {
   "cell_type": "code",
   "execution_count": 627,
   "metadata": {
    "collapsed": false
   },
   "outputs": [
    {
     "data": {
      "text/html": [
       "<div>\n",
       "<table border=\"1\" class=\"dataframe\">\n",
       "  <thead>\n",
       "    <tr style=\"text-align: right;\">\n",
       "      <th></th>\n",
       "      <th>Company</th>\n",
       "      <th>Category</th>\n",
       "      <th>Date</th>\n",
       "      <th>County_FIPS</th>\n",
       "      <th>Description</th>\n",
       "      <th>Data Source</th>\n",
       "    </tr>\n",
       "  </thead>\n",
       "  <tbody>\n",
       "    <tr>\n",
       "      <th>0</th>\n",
       "      <td>santander bank us</td>\n",
       "      <td>4</td>\n",
       "      <td>04/06/2015</td>\n",
       "      <td>36085</td>\n",
       "      <td>I was contemplating cashing in some US Savings...</td>\n",
       "      <td>CFPB</td>\n",
       "    </tr>\n",
       "    <tr>\n",
       "      <th>1</th>\n",
       "      <td>santander bank us</td>\n",
       "      <td>4</td>\n",
       "      <td>05/29/2015</td>\n",
       "      <td>36085</td>\n",
       "      <td>I inadvertently used a Santander account to pa...</td>\n",
       "      <td>CFPB</td>\n",
       "    </tr>\n",
       "    <tr>\n",
       "      <th>2</th>\n",
       "      <td>chase</td>\n",
       "      <td>4</td>\n",
       "      <td>04/29/2016</td>\n",
       "      <td>36085</td>\n",
       "      <td>Follow up to complaint # XXXX - Dated XXXX/XXX...</td>\n",
       "      <td>CFPB</td>\n",
       "    </tr>\n",
       "    <tr>\n",
       "      <th>3</th>\n",
       "      <td>chase</td>\n",
       "      <td>4</td>\n",
       "      <td>04/29/2016</td>\n",
       "      <td>36085</td>\n",
       "      <td>Follow up to complaint # XXXX - Dated XXXX/XXX...</td>\n",
       "      <td>CFPB</td>\n",
       "    </tr>\n",
       "    <tr>\n",
       "      <th>4</th>\n",
       "      <td>chase</td>\n",
       "      <td>4</td>\n",
       "      <td>03/31/2016</td>\n",
       "      <td>36085</td>\n",
       "      <td>I have a major issue with J P Morgan Chase. I ...</td>\n",
       "      <td>CFPB</td>\n",
       "    </tr>\n",
       "  </tbody>\n",
       "</table>\n",
       "</div>"
      ],
      "text/plain": [
       "             Company  Category        Date  County_FIPS  \\\n",
       "0  santander bank us         4  04/06/2015        36085   \n",
       "1  santander bank us         4  05/29/2015        36085   \n",
       "2              chase         4  04/29/2016        36085   \n",
       "3              chase         4  04/29/2016        36085   \n",
       "4              chase         4  03/31/2016        36085   \n",
       "\n",
       "                                         Description Data Source  \n",
       "0  I was contemplating cashing in some US Savings...        CFPB  \n",
       "1  I inadvertently used a Santander account to pa...        CFPB  \n",
       "2  Follow up to complaint # XXXX - Dated XXXX/XXX...        CFPB  \n",
       "3  Follow up to complaint # XXXX - Dated XXXX/XXX...        CFPB  \n",
       "4  I have a major issue with J P Morgan Chase. I ...        CFPB  "
      ]
     },
     "execution_count": 627,
     "metadata": {},
     "output_type": "execute_result"
    }
   ],
   "source": [
    "cfpb_final.head()"
   ]
  },
  {
   "cell_type": "code",
   "execution_count": 703,
   "metadata": {
    "collapsed": false
   },
   "outputs": [
    {
     "name": "stdout",
     "output_type": "stream",
     "text": [
      "<class 'pandas.core.frame.DataFrame'>\n",
      "Int64Index: 24975 entries, 0 to 24974\n",
      "Data columns (total 6 columns):\n",
      "Company        24975 non-null object\n",
      "Category       24975 non-null int64\n",
      "Date           24975 non-null object\n",
      "County_FIPS    24975 non-null int64\n",
      "Description    24975 non-null object\n",
      "Data Source    24975 non-null object\n",
      "dtypes: int64(2), object(4)\n",
      "memory usage: 1.3+ MB\n"
     ]
    }
   ],
   "source": [
    "cfpb_final.info()"
   ]
  },
  {
   "cell_type": "code",
   "execution_count": 522,
   "metadata": {
    "collapsed": false
   },
   "outputs": [],
   "source": [
    "company_list_cfpb = list(cfpb_final.cusp_firm_name.unique())"
   ]
  },
  {
   "cell_type": "code",
   "execution_count": 659,
   "metadata": {
    "collapsed": true
   },
   "outputs": [],
   "source": [
    "cfpb_final.to_csv('cfpb_date_test.csv')"
   ]
  },
  {
   "cell_type": "markdown",
   "metadata": {},
   "source": [
    "### firmlist check"
   ]
  },
  {
   "cell_type": "code",
   "execution_count": 551,
   "metadata": {
    "collapsed": false
   },
   "outputs": [
    {
     "name": "stdout",
     "output_type": "stream",
     "text": [
      "445\n",
      "5359\n"
     ]
    }
   ],
   "source": [
    "print len(company_list_cfpb)\n",
    "print len(company_list_oag)"
   ]
  },
  {
   "cell_type": "code",
   "execution_count": 552,
   "metadata": {
    "collapsed": false
   },
   "outputs": [],
   "source": [
    "test = [i for i in company_list_cfpb if i in company_list_oag]"
   ]
  },
  {
   "cell_type": "code",
   "execution_count": 553,
   "metadata": {
    "collapsed": false
   },
   "outputs": [
    {
     "data": {
      "text/plain": [
       "48"
      ]
     },
     "execution_count": 553,
     "metadata": {},
     "output_type": "execute_result"
    }
   ],
   "source": [
    "len(test)"
   ]
  },
  {
   "cell_type": "code",
   "execution_count": 554,
   "metadata": {
    "collapsed": false
   },
   "outputs": [],
   "source": [
    "# sorted(company_list_cfpb)"
   ]
  },
  {
   "cell_type": "code",
   "execution_count": 555,
   "metadata": {
    "collapsed": false
   },
   "outputs": [],
   "source": [
    "# sorted(company_list_oag)"
   ]
  },
  {
   "cell_type": "code",
   "execution_count": 556,
   "metadata": {
    "collapsed": true
   },
   "outputs": [],
   "source": [
    "firm_df = pd.read_pickle('firmlist.pkl')"
   ]
  },
  {
   "cell_type": "code",
   "execution_count": 594,
   "metadata": {
    "collapsed": false
   },
   "outputs": [
    {
     "data": {
      "text/html": [
       "<div>\n",
       "<table border=\"1\" class=\"dataframe\">\n",
       "  <thead>\n",
       "    <tr style=\"text-align: right;\">\n",
       "      <th></th>\n",
       "      <th>firm</th>\n",
       "      <th>cusp_firm_name</th>\n",
       "      <th>length</th>\n",
       "      <th>num_of_words</th>\n",
       "      <th>splits</th>\n",
       "      <th>search</th>\n",
       "    </tr>\n",
       "  </thead>\n",
       "  <tbody>\n",
       "    <tr>\n",
       "      <th>0</th>\n",
       "      <td>ticketmaster</td>\n",
       "      <td>ticketmaster</td>\n",
       "      <td>12</td>\n",
       "      <td>1</td>\n",
       "      <td>[ticketmaster]</td>\n",
       "      <td>ticketmaster</td>\n",
       "    </tr>\n",
       "    <tr>\n",
       "      <th>1</th>\n",
       "      <td>argo real estate llc</td>\n",
       "      <td>argo real estate</td>\n",
       "      <td>14</td>\n",
       "      <td>4</td>\n",
       "      <td>[argo, real, estate, llc]</td>\n",
       "      <td>argorealestate</td>\n",
       "    </tr>\n",
       "    <tr>\n",
       "      <th>2</th>\n",
       "      <td>acura of westchester</td>\n",
       "      <td>acura of westchester</td>\n",
       "      <td>18</td>\n",
       "      <td>3</td>\n",
       "      <td>[acura, of, westchester]</td>\n",
       "      <td>acuraofwestchester</td>\n",
       "    </tr>\n",
       "    <tr>\n",
       "      <th>3</th>\n",
       "      <td>galaxy moving systems</td>\n",
       "      <td>galaxy moving systems</td>\n",
       "      <td>19</td>\n",
       "      <td>3</td>\n",
       "      <td>[galaxy, moving, systems]</td>\n",
       "      <td>galaxymovingsystems</td>\n",
       "    </tr>\n",
       "    <tr>\n",
       "      <th>4</th>\n",
       "      <td>apple company</td>\n",
       "      <td>apple company</td>\n",
       "      <td>12</td>\n",
       "      <td>2</td>\n",
       "      <td>[apple, company]</td>\n",
       "      <td>applecompany</td>\n",
       "    </tr>\n",
       "  </tbody>\n",
       "</table>\n",
       "</div>"
      ],
      "text/plain": [
       "                    firm         cusp_firm_name  length  num_of_words  \\\n",
       "0           ticketmaster           ticketmaster      12             1   \n",
       "1   argo real estate llc       argo real estate      14             4   \n",
       "2   acura of westchester   acura of westchester      18             3   \n",
       "3  galaxy moving systems  galaxy moving systems      19             3   \n",
       "4          apple company          apple company      12             2   \n",
       "\n",
       "                      splits               search  \n",
       "0             [ticketmaster]         ticketmaster  \n",
       "1  [argo, real, estate, llc]       argorealestate  \n",
       "2   [acura, of, westchester]   acuraofwestchester  \n",
       "3  [galaxy, moving, systems]  galaxymovingsystems  \n",
       "4           [apple, company]         applecompany  "
      ]
     },
     "execution_count": 594,
     "metadata": {},
     "output_type": "execute_result"
    }
   ],
   "source": [
    "firm_df.head()"
   ]
  },
  {
   "cell_type": "code",
   "execution_count": 557,
   "metadata": {
    "collapsed": false
   },
   "outputs": [],
   "source": [
    "firmlist = list(firm_df.cusp_firm_name.unique())"
   ]
  },
  {
   "cell_type": "code",
   "execution_count": 558,
   "metadata": {
    "collapsed": false
   },
   "outputs": [
    {
     "data": {
      "text/plain": [
       "12830"
      ]
     },
     "execution_count": 558,
     "metadata": {},
     "output_type": "execute_result"
    }
   ],
   "source": [
    "len(firmlist)"
   ]
  },
  {
   "cell_type": "code",
   "execution_count": 561,
   "metadata": {
    "collapsed": false
   },
   "outputs": [
    {
     "data": {
      "text/plain": [
       "0"
      ]
     },
     "execution_count": 561,
     "metadata": {},
     "output_type": "execute_result"
    }
   ],
   "source": [
    "check_oag = [i for i in company_list_oag if i not in firmlist]\n",
    "len(check_oag)"
   ]
  },
  {
   "cell_type": "code",
   "execution_count": 562,
   "metadata": {
    "collapsed": false
   },
   "outputs": [
    {
     "data": {
      "text/plain": [
       "0"
      ]
     },
     "execution_count": 562,
     "metadata": {},
     "output_type": "execute_result"
    }
   ],
   "source": [
    "check_cfpb = [i for i in company_list_cfpb if i not in firmlist]\n",
    "len(check_cfpb)"
   ]
  },
  {
   "cell_type": "code",
   "execution_count": 582,
   "metadata": {
    "collapsed": true
   },
   "outputs": [],
   "source": [
    "whole_firm_list = list(set(company_list_cfpb+company_list_oag))"
   ]
  },
  {
   "cell_type": "code",
   "execution_count": 583,
   "metadata": {
    "collapsed": false
   },
   "outputs": [
    {
     "data": {
      "text/plain": [
       "5756"
      ]
     },
     "execution_count": 583,
     "metadata": {},
     "output_type": "execute_result"
    }
   ],
   "source": [
    "len(whole_firm_list)"
   ]
  },
  {
   "cell_type": "code",
   "execution_count": 590,
   "metadata": {
    "collapsed": false
   },
   "outputs": [],
   "source": [
    "# sorted(whole_firm_list)"
   ]
  },
  {
   "cell_type": "code",
   "execution_count": 598,
   "metadata": {
    "collapsed": false
   },
   "outputs": [],
   "source": [
    "mask = [j for j,i in enumerate(list(firm_df['cusp_firm_name'])) if i in whole_firm_list]"
   ]
  },
  {
   "cell_type": "code",
   "execution_count": 601,
   "metadata": {
    "collapsed": true
   },
   "outputs": [],
   "source": [
    "firm_df_update = firm_df.iloc[mask,:]"
   ]
  },
  {
   "cell_type": "code",
   "execution_count": 602,
   "metadata": {
    "collapsed": false
   },
   "outputs": [
    {
     "data": {
      "text/plain": [
       "5756"
      ]
     },
     "execution_count": 602,
     "metadata": {},
     "output_type": "execute_result"
    }
   ],
   "source": [
    "len(firm_df_update)"
   ]
  },
  {
   "cell_type": "code",
   "execution_count": 606,
   "metadata": {
    "collapsed": false,
    "scrolled": false
   },
   "outputs": [
    {
     "data": {
      "text/html": [
       "<div>\n",
       "<table border=\"1\" class=\"dataframe\">\n",
       "  <thead>\n",
       "    <tr style=\"text-align: right;\">\n",
       "      <th></th>\n",
       "      <th>firm</th>\n",
       "      <th>cusp_firm_name</th>\n",
       "      <th>length</th>\n",
       "      <th>num_of_words</th>\n",
       "      <th>splits</th>\n",
       "      <th>search</th>\n",
       "    </tr>\n",
       "  </thead>\n",
       "  <tbody>\n",
       "    <tr>\n",
       "      <th>0</th>\n",
       "      <td>ticketmaster</td>\n",
       "      <td>ticketmaster</td>\n",
       "      <td>12</td>\n",
       "      <td>1</td>\n",
       "      <td>[ticketmaster]</td>\n",
       "      <td>ticketmaster</td>\n",
       "    </tr>\n",
       "    <tr>\n",
       "      <th>1</th>\n",
       "      <td>argo real estate llc</td>\n",
       "      <td>argo real estate</td>\n",
       "      <td>14</td>\n",
       "      <td>4</td>\n",
       "      <td>[argo, real, estate, llc]</td>\n",
       "      <td>argorealestate</td>\n",
       "    </tr>\n",
       "    <tr>\n",
       "      <th>2</th>\n",
       "      <td>acura of westchester</td>\n",
       "      <td>acura of westchester</td>\n",
       "      <td>18</td>\n",
       "      <td>3</td>\n",
       "      <td>[acura, of, westchester]</td>\n",
       "      <td>acuraofwestchester</td>\n",
       "    </tr>\n",
       "    <tr>\n",
       "      <th>4</th>\n",
       "      <td>apple company</td>\n",
       "      <td>apple company</td>\n",
       "      <td>12</td>\n",
       "      <td>2</td>\n",
       "      <td>[apple, company]</td>\n",
       "      <td>applecompany</td>\n",
       "    </tr>\n",
       "    <tr>\n",
       "      <th>7</th>\n",
       "      <td>time warner cable</td>\n",
       "      <td>time warner</td>\n",
       "      <td>10</td>\n",
       "      <td>2</td>\n",
       "      <td>[time, warner]</td>\n",
       "      <td>timewarner</td>\n",
       "    </tr>\n",
       "  </tbody>\n",
       "</table>\n",
       "</div>"
      ],
      "text/plain": [
       "                   firm        cusp_firm_name  length  num_of_words  \\\n",
       "0          ticketmaster          ticketmaster      12             1   \n",
       "1  argo real estate llc      argo real estate      14             4   \n",
       "2  acura of westchester  acura of westchester      18             3   \n",
       "4         apple company         apple company      12             2   \n",
       "7     time warner cable           time warner      10             2   \n",
       "\n",
       "                      splits              search  \n",
       "0             [ticketmaster]        ticketmaster  \n",
       "1  [argo, real, estate, llc]      argorealestate  \n",
       "2   [acura, of, westchester]  acuraofwestchester  \n",
       "4           [apple, company]        applecompany  \n",
       "7             [time, warner]          timewarner  "
      ]
     },
     "execution_count": 606,
     "metadata": {},
     "output_type": "execute_result"
    }
   ],
   "source": [
    "firm_df_update.head()"
   ]
  },
  {
   "cell_type": "code",
   "execution_count": 639,
   "metadata": {
    "collapsed": false
   },
   "outputs": [],
   "source": [
    "pickle.dump(firm_df_update, open('firmlist_update.pkl', 'wb')) "
   ]
  },
  {
   "cell_type": "markdown",
   "metadata": {},
   "source": [
    "## Tweet"
   ]
  },
  {
   "cell_type": "code",
   "execution_count": 643,
   "metadata": {
    "collapsed": true
   },
   "outputs": [],
   "source": [
    "tweet_df = pd.read_csv('tweets_result.csv', index_col=0)"
   ]
  },
  {
   "cell_type": "code",
   "execution_count": 648,
   "metadata": {
    "collapsed": false
   },
   "outputs": [
    {
     "data": {
      "text/html": [
       "<div>\n",
       "<table border=\"1\" class=\"dataframe\">\n",
       "  <thead>\n",
       "    <tr style=\"text-align: right;\">\n",
       "      <th></th>\n",
       "      <th>tweet</th>\n",
       "      <th>date</th>\n",
       "      <th>GEOID</th>\n",
       "      <th>category</th>\n",
       "      <th>firm</th>\n",
       "    </tr>\n",
       "  </thead>\n",
       "  <tbody>\n",
       "    <tr>\n",
       "      <th>0</th>\n",
       "      <td>@Newsweek instead of firing shots @realDonaldT...</td>\n",
       "      <td>Fri Apr 29 01:28:10 +0000 2016</td>\n",
       "      <td>36081</td>\n",
       "      <td>6</td>\n",
       "      <td>unknown</td>\n",
       "    </tr>\n",
       "    <tr>\n",
       "      <th>1</th>\n",
       "      <td>Totally feel awful today. So let's get to pump...</td>\n",
       "      <td>Fri Apr 29 15:18:08 +0000 2016</td>\n",
       "      <td>36081</td>\n",
       "      <td>5</td>\n",
       "      <td>unknown</td>\n",
       "    </tr>\n",
       "    <tr>\n",
       "      <th>2</th>\n",
       "      <td>Marketing Campaign Manager - RMS Computer Corp...</td>\n",
       "      <td>Fri Apr 29 19:20:14 +0000 2016</td>\n",
       "      <td>36081</td>\n",
       "      <td>2</td>\n",
       "      <td>unknown</td>\n",
       "    </tr>\n",
       "    <tr>\n",
       "      <th>3</th>\n",
       "      <td>If you have had a joint replacement and taken ...</td>\n",
       "      <td>Wed May 11 15:41:47 +0000 2016</td>\n",
       "      <td>36081</td>\n",
       "      <td>5</td>\n",
       "      <td>unknown</td>\n",
       "    </tr>\n",
       "    <tr>\n",
       "      <th>4</th>\n",
       "      <td>Time for Zumba session number two! #gymhopping...</td>\n",
       "      <td>Wed May 11 23:07:38 +0000 2016</td>\n",
       "      <td>36081</td>\n",
       "      <td>5</td>\n",
       "      <td>24hourfitness</td>\n",
       "    </tr>\n",
       "  </tbody>\n",
       "</table>\n",
       "</div>"
      ],
      "text/plain": [
       "                                               tweet  \\\n",
       "0  @Newsweek instead of firing shots @realDonaldT...   \n",
       "1  Totally feel awful today. So let's get to pump...   \n",
       "2  Marketing Campaign Manager - RMS Computer Corp...   \n",
       "3  If you have had a joint replacement and taken ...   \n",
       "4  Time for Zumba session number two! #gymhopping...   \n",
       "\n",
       "                             date  GEOID  category           firm  \n",
       "0  Fri Apr 29 01:28:10 +0000 2016  36081         6        unknown  \n",
       "1  Fri Apr 29 15:18:08 +0000 2016  36081         5        unknown  \n",
       "2  Fri Apr 29 19:20:14 +0000 2016  36081         2        unknown  \n",
       "3  Wed May 11 15:41:47 +0000 2016  36081         5        unknown  \n",
       "4  Wed May 11 23:07:38 +0000 2016  36081         5  24hourfitness  "
      ]
     },
     "execution_count": 648,
     "metadata": {},
     "output_type": "execute_result"
    }
   ],
   "source": [
    "tweet_df.head()"
   ]
  },
  {
   "cell_type": "code",
   "execution_count": 650,
   "metadata": {
    "collapsed": true
   },
   "outputs": [],
   "source": [
    "tweet_final = tweet_df.loc[:,['firm','category','date','GEOID','tweet']]"
   ]
  },
  {
   "cell_type": "code",
   "execution_count": 652,
   "metadata": {
    "collapsed": true
   },
   "outputs": [],
   "source": [
    "tweet_final.loc[:, 'datasource'] = 'Twitter'"
   ]
  },
  {
   "cell_type": "code",
   "execution_count": 653,
   "metadata": {
    "collapsed": false
   },
   "outputs": [],
   "source": [
    "tweet_final.columns = cfpb_final.columns"
   ]
  },
  {
   "cell_type": "code",
   "execution_count": 712,
   "metadata": {
    "collapsed": false
   },
   "outputs": [],
   "source": [
    "firm_df_ = firm_df_update.drop_duplicates(subset=['search'])"
   ]
  },
  {
   "cell_type": "code",
   "execution_count": 714,
   "metadata": {
    "collapsed": false
   },
   "outputs": [],
   "source": [
    "tweet_final_ = tweet_final.merge(firm_df_, left_on='Company', right_on='search', how='left')"
   ]
  },
  {
   "cell_type": "code",
   "execution_count": 717,
   "metadata": {
    "collapsed": false
   },
   "outputs": [],
   "source": [
    "tweet_final_ = tweet_final_.loc[:,['cusp_firm_name','Category','Date','County_FIPS','Description','Data Source']]"
   ]
  },
  {
   "cell_type": "code",
   "execution_count": 721,
   "metadata": {
    "collapsed": false
   },
   "outputs": [],
   "source": [
    "tweet_final_ = tweet_final_.rename(columns={'cusp_firm_name': 'Company'})"
   ]
  },
  {
   "cell_type": "code",
   "execution_count": 744,
   "metadata": {
    "collapsed": true
   },
   "outputs": [],
   "source": [
    "Month_list = ['Jan','Feb','Mar','Apr','May','Jun','Jul','Aug','Sep','Oct','Nov','Dec']"
   ]
  },
  {
   "cell_type": "code",
   "execution_count": 756,
   "metadata": {
    "collapsed": false
   },
   "outputs": [],
   "source": [
    "for i in range(len(tweet_final_)):\n",
    "    original = tweet_final_.iloc[i,2].split(' ')\n",
    "    month = str(Month_list.index(original[1])+1)\n",
    "    if len(month) == 1:\n",
    "        month = '0' + month\n",
    "    day = original[2]\n",
    "    year = original[-1]\n",
    "    new = '/'.join([month,day,year])\n",
    "    tweet_final_.iloc[i,2] = new"
   ]
  },
  {
   "cell_type": "code",
   "execution_count": 767,
   "metadata": {
    "collapsed": false
   },
   "outputs": [
    {
     "data": {
      "text/html": [
       "<div>\n",
       "<table border=\"1\" class=\"dataframe\">\n",
       "  <thead>\n",
       "    <tr style=\"text-align: right;\">\n",
       "      <th></th>\n",
       "      <th>Company</th>\n",
       "      <th>Category</th>\n",
       "      <th>Date</th>\n",
       "      <th>County_FIPS</th>\n",
       "      <th>Description</th>\n",
       "      <th>Data Source</th>\n",
       "    </tr>\n",
       "  </thead>\n",
       "  <tbody>\n",
       "    <tr>\n",
       "      <th>0</th>\n",
       "      <td>unknown</td>\n",
       "      <td>6</td>\n",
       "      <td>04/29/2016</td>\n",
       "      <td>36081</td>\n",
       "      <td>@Newsweek instead of firing shots @realDonaldT...</td>\n",
       "      <td>Twitter</td>\n",
       "    </tr>\n",
       "    <tr>\n",
       "      <th>1</th>\n",
       "      <td>unknown</td>\n",
       "      <td>5</td>\n",
       "      <td>04/29/2016</td>\n",
       "      <td>36081</td>\n",
       "      <td>Totally feel awful today. So let's get to pump...</td>\n",
       "      <td>Twitter</td>\n",
       "    </tr>\n",
       "    <tr>\n",
       "      <th>2</th>\n",
       "      <td>unknown</td>\n",
       "      <td>2</td>\n",
       "      <td>04/29/2016</td>\n",
       "      <td>36081</td>\n",
       "      <td>Marketing Campaign Manager - RMS Computer Corp...</td>\n",
       "      <td>Twitter</td>\n",
       "    </tr>\n",
       "    <tr>\n",
       "      <th>3</th>\n",
       "      <td>unknown</td>\n",
       "      <td>5</td>\n",
       "      <td>05/11/2016</td>\n",
       "      <td>36081</td>\n",
       "      <td>If you have had a joint replacement and taken ...</td>\n",
       "      <td>Twitter</td>\n",
       "    </tr>\n",
       "    <tr>\n",
       "      <th>4</th>\n",
       "      <td>24 hour fitness</td>\n",
       "      <td>5</td>\n",
       "      <td>05/11/2016</td>\n",
       "      <td>36081</td>\n",
       "      <td>Time for Zumba session number two! #gymhopping...</td>\n",
       "      <td>Twitter</td>\n",
       "    </tr>\n",
       "  </tbody>\n",
       "</table>\n",
       "</div>"
      ],
      "text/plain": [
       "           Company  Category        Date  County_FIPS  \\\n",
       "0          unknown         6  04/29/2016        36081   \n",
       "1          unknown         5  04/29/2016        36081   \n",
       "2          unknown         2  04/29/2016        36081   \n",
       "3          unknown         5  05/11/2016        36081   \n",
       "4  24 hour fitness         5  05/11/2016        36081   \n",
       "\n",
       "                                         Description Data Source  \n",
       "0  @Newsweek instead of firing shots @realDonaldT...     Twitter  \n",
       "1  Totally feel awful today. So let's get to pump...     Twitter  \n",
       "2  Marketing Campaign Manager - RMS Computer Corp...     Twitter  \n",
       "3  If you have had a joint replacement and taken ...     Twitter  \n",
       "4  Time for Zumba session number two! #gymhopping...     Twitter  "
      ]
     },
     "execution_count": 767,
     "metadata": {},
     "output_type": "execute_result"
    }
   ],
   "source": [
    "tweet_final_.head()"
   ]
  },
  {
   "cell_type": "code",
   "execution_count": 768,
   "metadata": {
    "collapsed": false
   },
   "outputs": [
    {
     "name": "stdout",
     "output_type": "stream",
     "text": [
      "<class 'pandas.core.frame.DataFrame'>\n",
      "Int64Index: 244 entries, 0 to 243\n",
      "Data columns (total 6 columns):\n",
      "Company        244 non-null object\n",
      "Category       244 non-null int64\n",
      "Date           244 non-null object\n",
      "County_FIPS    244 non-null int64\n",
      "Description    244 non-null object\n",
      "Data Source    244 non-null object\n",
      "dtypes: int64(2), object(4)\n",
      "memory usage: 13.3+ KB\n"
     ]
    }
   ],
   "source": [
    "tweet_final_.info()"
   ]
  },
  {
   "cell_type": "markdown",
   "metadata": {},
   "source": [
    "# Combine"
   ]
  },
  {
   "cell_type": "code",
   "execution_count": 772,
   "metadata": {
    "collapsed": false
   },
   "outputs": [],
   "source": [
    "oag_cfpb_tweet_list = [oag_final, cfpb_final, tweet_final_]\n",
    "oag_cfpb_tweet = pd.concat(oag_cfpb_tweet_list)"
   ]
  },
  {
   "cell_type": "code",
   "execution_count": 848,
   "metadata": {
    "collapsed": false
   },
   "outputs": [
    {
     "name": "stdout",
     "output_type": "stream",
     "text": [
      "7030\n",
      "24975\n",
      "244\n",
      "32249\n"
     ]
    }
   ],
   "source": [
    "for i in oag_cfpb_tweet_list:\n",
    "    print len(i)\n",
    "print len(oag_cfpb_tweet)"
   ]
  },
  {
   "cell_type": "code",
   "execution_count": 774,
   "metadata": {
    "collapsed": false
   },
   "outputs": [],
   "source": [
    "index_list = ['Residential', 'Scams', 'Miscellaneous', 'Financial', 'Good & Services', 'Government', 'Utilities', 'Travel']"
   ]
  },
  {
   "cell_type": "code",
   "execution_count": 776,
   "metadata": {
    "collapsed": false
   },
   "outputs": [],
   "source": [
    "oag_cfpb_tweet['Category'] = oag_cfpb_tweet['Category'].apply(lambda x: index_list[x-1])"
   ]
  },
  {
   "cell_type": "code",
   "execution_count": 786,
   "metadata": {
    "collapsed": false
   },
   "outputs": [],
   "source": [
    "oag_cfpb_tweet['Company'] = oag_cfpb_tweet['Company'].apply(lambda x: x.title())"
   ]
  },
  {
   "cell_type": "code",
   "execution_count": 795,
   "metadata": {
    "collapsed": false
   },
   "outputs": [],
   "source": [
    "county_infer = zip_code_table.loc[:,['County Name','County FIPS']].drop_duplicates(subset=['County FIPS'])\n",
    "# county_infer"
   ]
  },
  {
   "cell_type": "code",
   "execution_count": 797,
   "metadata": {
    "collapsed": false
   },
   "outputs": [],
   "source": [
    "oag_cfpb_tweet = oag_cfpb_tweet.merge(county_infer, left_on='County_FIPS', right_on='County FIPS' ,how='left')"
   ]
  },
  {
   "cell_type": "code",
   "execution_count": 799,
   "metadata": {
    "collapsed": false
   },
   "outputs": [],
   "source": [
    "oag_cfpb_tweet = oag_cfpb_tweet.drop(['County FIPS'], axis=1)"
   ]
  },
  {
   "cell_type": "code",
   "execution_count": 812,
   "metadata": {
    "collapsed": false,
    "scrolled": false
   },
   "outputs": [
    {
     "data": {
      "text/html": [
       "<div>\n",
       "<table border=\"1\" class=\"dataframe\">\n",
       "  <thead>\n",
       "    <tr style=\"text-align: right;\">\n",
       "      <th></th>\n",
       "      <th>Company</th>\n",
       "      <th>Category</th>\n",
       "      <th>Date</th>\n",
       "      <th>County_FIPS</th>\n",
       "      <th>Description</th>\n",
       "      <th>Data Source</th>\n",
       "      <th>County Name</th>\n",
       "    </tr>\n",
       "  </thead>\n",
       "  <tbody>\n",
       "    <tr>\n",
       "      <th>0</th>\n",
       "      <td>Ticketmaster</td>\n",
       "      <td>Scams</td>\n",
       "      <td>06/07/2016</td>\n",
       "      <td>36061</td>\n",
       "      <td>I attempted to purchase two tickets to see ---...</td>\n",
       "      <td>OAG Online</td>\n",
       "      <td>New York</td>\n",
       "    </tr>\n",
       "    <tr>\n",
       "      <th>1</th>\n",
       "      <td>Apple Company</td>\n",
       "      <td>Good &amp; Services</td>\n",
       "      <td>06/07/2016</td>\n",
       "      <td>36061</td>\n",
       "      <td>I had to contact them including - personal tim...</td>\n",
       "      <td>OAG Online</td>\n",
       "      <td>New York</td>\n",
       "    </tr>\n",
       "    <tr>\n",
       "      <th>2</th>\n",
       "      <td>Planet Fitness</td>\n",
       "      <td>Good &amp; Services</td>\n",
       "      <td>09/09/2015</td>\n",
       "      <td>36061</td>\n",
       "      <td>Note User indicated supporting documents will ...</td>\n",
       "      <td>OAG Online</td>\n",
       "      <td>New York</td>\n",
       "    </tr>\n",
       "    <tr>\n",
       "      <th>3</th>\n",
       "      <td>Jason Starr</td>\n",
       "      <td>Residential</td>\n",
       "      <td>05/17/2016</td>\n",
       "      <td>36061</td>\n",
       "      <td>Was hired to paint and do basic construction w...</td>\n",
       "      <td>OAG Online</td>\n",
       "      <td>New York</td>\n",
       "    </tr>\n",
       "    <tr>\n",
       "      <th>4</th>\n",
       "      <td>American Airlines</td>\n",
       "      <td>Travel</td>\n",
       "      <td>04/04/2016</td>\n",
       "      <td>36061</td>\n",
       "      <td>Note User indicated supporting documents will ...</td>\n",
       "      <td>OAG Online</td>\n",
       "      <td>New York</td>\n",
       "    </tr>\n",
       "  </tbody>\n",
       "</table>\n",
       "</div>"
      ],
      "text/plain": [
       "             Company         Category        Date  County_FIPS  \\\n",
       "0       Ticketmaster            Scams  06/07/2016        36061   \n",
       "1      Apple Company  Good & Services  06/07/2016        36061   \n",
       "2     Planet Fitness  Good & Services  09/09/2015        36061   \n",
       "3        Jason Starr      Residential  05/17/2016        36061   \n",
       "4  American Airlines           Travel  04/04/2016        36061   \n",
       "\n",
       "                                         Description Data Source County Name  \n",
       "0  I attempted to purchase two tickets to see ---...  OAG Online    New York  \n",
       "1  I had to contact them including - personal tim...  OAG Online    New York  \n",
       "2  Note User indicated supporting documents will ...  OAG Online    New York  \n",
       "3  Was hired to paint and do basic construction w...  OAG Online    New York  \n",
       "4  Note User indicated supporting documents will ...  OAG Online    New York  "
      ]
     },
     "execution_count": 812,
     "metadata": {},
     "output_type": "execute_result"
    }
   ],
   "source": [
    "oag_cfpb_tweet.head()"
   ]
  },
  {
   "cell_type": "code",
   "execution_count": 831,
   "metadata": {
    "collapsed": false
   },
   "outputs": [],
   "source": [
    "county_population = pd.read_csv('../data/county population.csv')"
   ]
  },
  {
   "cell_type": "code",
   "execution_count": 832,
   "metadata": {
    "collapsed": false
   },
   "outputs": [],
   "source": [
    "county_population['County'] = county_population['County'].apply(lambda x: ' '.join(x.split()[:-1]))\n",
    "county_population.columns = ['County Name','County Population']"
   ]
  },
  {
   "cell_type": "code",
   "execution_count": 839,
   "metadata": {
    "collapsed": false
   },
   "outputs": [],
   "source": [
    "# county_population"
   ]
  },
  {
   "cell_type": "code",
   "execution_count": 836,
   "metadata": {
    "collapsed": false,
    "scrolled": true
   },
   "outputs": [],
   "source": [
    "oag_cfpb_tweet = oag_cfpb_tweet.merge(county_population, on='County Name', how='left')"
   ]
  },
  {
   "cell_type": "code",
   "execution_count": 845,
   "metadata": {
    "collapsed": false
   },
   "outputs": [
    {
     "data": {
      "text/html": [
       "<div>\n",
       "<table border=\"1\" class=\"dataframe\">\n",
       "  <thead>\n",
       "    <tr style=\"text-align: right;\">\n",
       "      <th></th>\n",
       "      <th>Company</th>\n",
       "      <th>Category</th>\n",
       "      <th>Date</th>\n",
       "      <th>County_FIPS</th>\n",
       "      <th>Description</th>\n",
       "      <th>Data Source</th>\n",
       "      <th>County Name</th>\n",
       "      <th>County Population</th>\n",
       "    </tr>\n",
       "  </thead>\n",
       "  <tbody>\n",
       "    <tr>\n",
       "      <th>0</th>\n",
       "      <td>Ticketmaster</td>\n",
       "      <td>Scams</td>\n",
       "      <td>06/07/2016</td>\n",
       "      <td>36061</td>\n",
       "      <td>I attempted to purchase two tickets to see ---...</td>\n",
       "      <td>OAG Online</td>\n",
       "      <td>New York</td>\n",
       "      <td>1644518.0</td>\n",
       "    </tr>\n",
       "    <tr>\n",
       "      <th>1</th>\n",
       "      <td>Apple Company</td>\n",
       "      <td>Good &amp; Services</td>\n",
       "      <td>06/07/2016</td>\n",
       "      <td>36061</td>\n",
       "      <td>I had to contact them including - personal tim...</td>\n",
       "      <td>OAG Online</td>\n",
       "      <td>New York</td>\n",
       "      <td>1644518.0</td>\n",
       "    </tr>\n",
       "    <tr>\n",
       "      <th>2</th>\n",
       "      <td>Planet Fitness</td>\n",
       "      <td>Good &amp; Services</td>\n",
       "      <td>09/09/2015</td>\n",
       "      <td>36061</td>\n",
       "      <td>Note User indicated supporting documents will ...</td>\n",
       "      <td>OAG Online</td>\n",
       "      <td>New York</td>\n",
       "      <td>1644518.0</td>\n",
       "    </tr>\n",
       "    <tr>\n",
       "      <th>3</th>\n",
       "      <td>Jason Starr</td>\n",
       "      <td>Residential</td>\n",
       "      <td>05/17/2016</td>\n",
       "      <td>36061</td>\n",
       "      <td>Was hired to paint and do basic construction w...</td>\n",
       "      <td>OAG Online</td>\n",
       "      <td>New York</td>\n",
       "      <td>1644518.0</td>\n",
       "    </tr>\n",
       "    <tr>\n",
       "      <th>4</th>\n",
       "      <td>American Airlines</td>\n",
       "      <td>Travel</td>\n",
       "      <td>04/04/2016</td>\n",
       "      <td>36061</td>\n",
       "      <td>Note User indicated supporting documents will ...</td>\n",
       "      <td>OAG Online</td>\n",
       "      <td>New York</td>\n",
       "      <td>1644518.0</td>\n",
       "    </tr>\n",
       "  </tbody>\n",
       "</table>\n",
       "</div>"
      ],
      "text/plain": [
       "             Company         Category        Date  County_FIPS  \\\n",
       "0       Ticketmaster            Scams  06/07/2016        36061   \n",
       "1      Apple Company  Good & Services  06/07/2016        36061   \n",
       "2     Planet Fitness  Good & Services  09/09/2015        36061   \n",
       "3        Jason Starr      Residential  05/17/2016        36061   \n",
       "4  American Airlines           Travel  04/04/2016        36061   \n",
       "\n",
       "                                         Description Data Source County Name  \\\n",
       "0  I attempted to purchase two tickets to see ---...  OAG Online    New York   \n",
       "1  I had to contact them including - personal tim...  OAG Online    New York   \n",
       "2  Note User indicated supporting documents will ...  OAG Online    New York   \n",
       "3  Was hired to paint and do basic construction w...  OAG Online    New York   \n",
       "4  Note User indicated supporting documents will ...  OAG Online    New York   \n",
       "\n",
       "   County Population  \n",
       "0          1644518.0  \n",
       "1          1644518.0  \n",
       "2          1644518.0  \n",
       "3          1644518.0  \n",
       "4          1644518.0  "
      ]
     },
     "execution_count": 845,
     "metadata": {},
     "output_type": "execute_result"
    }
   ],
   "source": [
    "oag_cfpb_tweet.head()"
   ]
  },
  {
   "cell_type": "code",
   "execution_count": 846,
   "metadata": {
    "collapsed": false
   },
   "outputs": [
    {
     "name": "stdout",
     "output_type": "stream",
     "text": [
      "<class 'pandas.core.frame.DataFrame'>\n",
      "Int64Index: 32249 entries, 0 to 32248\n",
      "Data columns (total 8 columns):\n",
      "Company              32249 non-null object\n",
      "Category             32249 non-null object\n",
      "Date                 32249 non-null object\n",
      "County_FIPS          32249 non-null int64\n",
      "Description          32249 non-null object\n",
      "Data Source          32249 non-null object\n",
      "County Name          32163 non-null object\n",
      "County Population    32163 non-null float64\n",
      "dtypes: float64(1), int64(1), object(6)\n",
      "memory usage: 2.2+ MB\n"
     ]
    }
   ],
   "source": [
    "oag_cfpb_tweet.info()"
   ]
  },
  {
   "cell_type": "code",
   "execution_count": 847,
   "metadata": {
    "collapsed": false
   },
   "outputs": [],
   "source": [
    "oag_cfpb_tweet.to_csv('oag_cfpb_tweet.csv')"
   ]
  }
 ],
 "metadata": {
  "kernelspec": {
   "display_name": "Python 2",
   "language": "python",
   "name": "python2"
  },
  "language_info": {
   "codemirror_mode": {
    "name": "ipython",
    "version": 2
   },
   "file_extension": ".py",
   "mimetype": "text/x-python",
   "name": "python",
   "nbconvert_exporter": "python",
   "pygments_lexer": "ipython2",
   "version": "2.7.12"
  }
 },
 "nbformat": 4,
 "nbformat_minor": 0
}
