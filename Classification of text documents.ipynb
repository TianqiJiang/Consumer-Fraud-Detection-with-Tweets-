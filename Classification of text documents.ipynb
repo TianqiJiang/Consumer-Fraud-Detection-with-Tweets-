{
 "cells": [
  {
   "cell_type": "markdown",
   "metadata": {},
   "source": [
    "# Classification of text documents"
   ]
  },
  {
   "cell_type": "code",
   "execution_count": 2,
   "metadata": {
    "collapsed": false
   },
   "outputs": [
    {
     "name": "stdout",
     "output_type": "stream",
     "text": [
      "Populating the interactive namespace from numpy and matplotlib\n"
     ]
    }
   ],
   "source": [
    "import nltk\n",
    "import pandas as pd\n",
    "%pylab inline\n",
    "from nltk.corpus import stopwords\n",
    "import gensim\n",
    "from gensim import corpora, models, similarities\n",
    "import re\n",
    "import random\n",
    "import time\n",
    "import pickle\n",
    "\n",
    "import sklearn\n",
    "from sklearn.cross_validation import train_test_split, cross_val_score\n",
    "from sklearn.naive_bayes import GaussianNB\n",
    "from sklearn.metrics import precision_score, recall_score\n",
    "from sklearn.svm import SVC\n",
    "from sklearn.ensemble import RandomForestClassifier\n",
    "from sklearn.neighbors import KNeighborsClassifier"
   ]
  },
  {
   "cell_type": "markdown",
   "metadata": {},
   "source": [
    "### Import OAG data"
   ]
  },
  {
   "cell_type": "code",
   "execution_count": 3,
   "metadata": {
    "collapsed": false
   },
   "outputs": [
    {
     "name": "stdout",
     "output_type": "stream",
     "text": [
      "15034\n"
     ]
    }
   ],
   "source": [
    "# load OAG online data\n",
    "oag_data = pd.read_csv(\"../data/OAG Complaints-Online_Final.csv\")\n",
    "oag_doc = list(oag_data['COMPLAINT_DESCRIPTION'])\n",
    "print len(oag_doc)"
   ]
  },
  {
   "cell_type": "code",
   "execution_count": 4,
   "metadata": {
    "collapsed": false
   },
   "outputs": [
    {
     "name": "stdout",
     "output_type": "stream",
     "text": [
      "[nan, 'Note User indicated supporting documents will be mailed within - days They rent cars for Uber to TLC drivers in NYC  There cars are problematic and inoperableYou can see the google reviews or BBB complaints against themThey have our ---- usd deposit and one week of rent --- plus loss of wages for two drivers ie ---- usd']\n"
     ]
    }
   ],
   "source": [
    "# remove duplicate\n",
    "oag_doc = list(set(oag_doc))\n",
    "print oag_doc[:2]"
   ]
  },
  {
   "cell_type": "code",
   "execution_count": 5,
   "metadata": {
    "collapsed": false
   },
   "outputs": [
    {
     "name": "stdout",
     "output_type": "stream",
     "text": [
      "11635\n"
     ]
    }
   ],
   "source": [
    "# remove nan\n",
    "oag_doc = oag_doc[1:]\n",
    "print len(oag_doc)"
   ]
  },
  {
   "cell_type": "markdown",
   "metadata": {},
   "source": [
    "### Import Tweets"
   ]
  },
  {
   "cell_type": "code",
   "execution_count": 249,
   "metadata": {
    "collapsed": false
   },
   "outputs": [
    {
     "name": "stdout",
     "output_type": "stream",
     "text": [
      "7401520\n"
     ]
    }
   ],
   "source": [
    "# load tweets\n",
    "twitterdata = pd.read_csv(\"../data/fraud_list_svarmit_location_v1.csv\", header=None)\n",
    "print len(twitterdata)"
   ]
  },
  {
   "cell_type": "code",
   "execution_count": 254,
   "metadata": {
    "collapsed": false
   },
   "outputs": [
    {
     "data": {
      "text/html": [
       "<div>\n",
       "<table border=\"1\" class=\"dataframe\">\n",
       "  <thead>\n",
       "    <tr style=\"text-align: right;\">\n",
       "      <th></th>\n",
       "      <th>tweet</th>\n",
       "      <th>date</th>\n",
       "      <th>unknow1</th>\n",
       "      <th>unknow2</th>\n",
       "      <th>unknow3</th>\n",
       "      <th>unknow4</th>\n",
       "      <th>unknow5</th>\n",
       "      <th>place</th>\n",
       "      <th>geolocation</th>\n",
       "      <th>unknow6</th>\n",
       "    </tr>\n",
       "  </thead>\n",
       "  <tbody>\n",
       "    <tr>\n",
       "      <th>0</th>\n",
       "      <td>I hate when ppl be like, if u an Mercedes ain'...</td>\n",
       "      <td>Fri Apr 29 00:35:25 +0000 2016</td>\n",
       "      <td>False</td>\n",
       "      <td>0.0</td>\n",
       "      <td>725845912573087745</td>\n",
       "      <td>3.306932e+09</td>\n",
       "      <td>312</td>\n",
       "      <td>Brooklyn, NY</td>\n",
       "      <td>[[-74.041878, 40.570842], [-74.041878, 40.7394...</td>\n",
       "      <td>[]</td>\n",
       "    </tr>\n",
       "    <tr>\n",
       "      <th>1</th>\n",
       "      <td>RT @Adel__Almalki: #tech #news ( #EggTV )U.S. ...</td>\n",
       "      <td>Fri Apr 29 00:35:25 +0000 2016</td>\n",
       "      <td>False</td>\n",
       "      <td>0.0</td>\n",
       "      <td>725845913244033027</td>\n",
       "      <td>7.220385e+17</td>\n",
       "      <td>10</td>\n",
       "      <td>NaN</td>\n",
       "      <td>NaN</td>\n",
       "      <td>[{u'indices': [19, 24], u'text': u'tech'}, {u'...</td>\n",
       "    </tr>\n",
       "    <tr>\n",
       "      <th>2</th>\n",
       "      <td>RT @ColonelRTeenda: Jui mort Nehuda elle a lai...</td>\n",
       "      <td>Fri Apr 29 00:35:25 +0000 2016</td>\n",
       "      <td>False</td>\n",
       "      <td>0.0</td>\n",
       "      <td>725845912661151744</td>\n",
       "      <td>3.113654e+09</td>\n",
       "      <td>725</td>\n",
       "      <td>NaN</td>\n",
       "      <td>NaN</td>\n",
       "      <td>[{u'indices': [115, 125], u'text': u'LesAnges8'}]</td>\n",
       "    </tr>\n",
       "    <tr>\n",
       "      <th>3</th>\n",
       "      <td>RT @IrishMason: Pretty please Rachel?  Now tha...</td>\n",
       "      <td>Fri Apr 29 00:35:25 +0000 2016</td>\n",
       "      <td>False</td>\n",
       "      <td>0.0</td>\n",
       "      <td>725845912996728832</td>\n",
       "      <td>4.806702e+08</td>\n",
       "      <td>204</td>\n",
       "      <td>NaN</td>\n",
       "      <td>NaN</td>\n",
       "      <td>[]</td>\n",
       "    </tr>\n",
       "    <tr>\n",
       "      <th>4</th>\n",
       "      <td>Overwatch beta begins when summer classes star...</td>\n",
       "      <td>Fri Apr 29 00:35:25 +0000 2016</td>\n",
       "      <td>False</td>\n",
       "      <td>0.0</td>\n",
       "      <td>725845913378377728</td>\n",
       "      <td>1.449872e+09</td>\n",
       "      <td>222</td>\n",
       "      <td>Manhattan, NY</td>\n",
       "      <td>[[-74.026675, 40.683935], [-74.026675, 40.8774...</td>\n",
       "      <td>[]</td>\n",
       "    </tr>\n",
       "  </tbody>\n",
       "</table>\n",
       "</div>"
      ],
      "text/plain": [
       "                                               tweet  \\\n",
       "0  I hate when ppl be like, if u an Mercedes ain'...   \n",
       "1  RT @Adel__Almalki: #tech #news ( #EggTV )U.S. ...   \n",
       "2  RT @ColonelRTeenda: Jui mort Nehuda elle a lai...   \n",
       "3  RT @IrishMason: Pretty please Rachel?  Now tha...   \n",
       "4  Overwatch beta begins when summer classes star...   \n",
       "\n",
       "                             date unknow1  unknow2             unknow3  \\\n",
       "0  Fri Apr 29 00:35:25 +0000 2016   False      0.0  725845912573087745   \n",
       "1  Fri Apr 29 00:35:25 +0000 2016   False      0.0  725845913244033027   \n",
       "2  Fri Apr 29 00:35:25 +0000 2016   False      0.0  725845912661151744   \n",
       "3  Fri Apr 29 00:35:25 +0000 2016   False      0.0  725845912996728832   \n",
       "4  Fri Apr 29 00:35:25 +0000 2016   False      0.0  725845913378377728   \n",
       "\n",
       "        unknow4  unknow5          place  \\\n",
       "0  3.306932e+09      312   Brooklyn, NY   \n",
       "1  7.220385e+17       10            NaN   \n",
       "2  3.113654e+09      725            NaN   \n",
       "3  4.806702e+08      204            NaN   \n",
       "4  1.449872e+09      222  Manhattan, NY   \n",
       "\n",
       "                                         geolocation  \\\n",
       "0  [[-74.041878, 40.570842], [-74.041878, 40.7394...   \n",
       "1                                                NaN   \n",
       "2                                                NaN   \n",
       "3                                                NaN   \n",
       "4  [[-74.026675, 40.683935], [-74.026675, 40.8774...   \n",
       "\n",
       "                                             unknow6  \n",
       "0                                                 []  \n",
       "1  [{u'indices': [19, 24], u'text': u'tech'}, {u'...  \n",
       "2  [{u'indices': [115, 125], u'text': u'LesAnges8'}]  \n",
       "3                                                 []  \n",
       "4                                                 []  "
      ]
     },
     "execution_count": 254,
     "metadata": {},
     "output_type": "execute_result"
    }
   ],
   "source": [
    "twitterdata.head()"
   ]
  },
  {
   "cell_type": "code",
   "execution_count": 199,
   "metadata": {
    "collapsed": true
   },
   "outputs": [],
   "source": [
    "tweet_doc = list(twitterdata.iloc[:,0])"
   ]
  },
  {
   "cell_type": "code",
   "execution_count": 7,
   "metadata": {
    "collapsed": false
   },
   "outputs": [
    {
     "name": "stdout",
     "output_type": "stream",
     "text": [
      "19890\n"
     ]
    }
   ],
   "source": [
    "# random select 30000 tweets\n",
    "selected_tweet_index = list(randint(0, len(tweet_doc),100000))\n",
    "\n",
    "# filter meaningless tweets\n",
    "selected_tweet = [tweet_doc[i] for i in selected_tweet_index if type(tweet_doc[i]) == str and len(tweet_doc[i].split()) > 20]\n",
    "\n",
    "print len(selected_tweet)"
   ]
  },
  {
   "cell_type": "code",
   "execution_count": 8,
   "metadata": {
    "collapsed": false
   },
   "outputs": [
    {
     "name": "stdout",
     "output_type": "stream",
     "text": [
      "20092\n"
     ]
    }
   ],
   "source": [
    "# Get random 1000000 unselected tweet\n",
    "unselected_tweet_index =[]\n",
    "count = 0\n",
    "for i in randint(0, len(tweet_doc), 3000000):\n",
    "    if i not in selected_tweet_index:\n",
    "        unselected_tweet_index.append(i)\n",
    "        count += 1\n",
    "        if count == 100000:\n",
    "            break\n",
    "            \n",
    "unselected_tweet = [tweet_doc[i] for i in unselected_tweet_index if type(tweet_doc[i]) == str and len(tweet_doc[i].split()) > 20]\n",
    "\n",
    "print len(unselected_tweet)"
   ]
  },
  {
   "cell_type": "markdown",
   "metadata": {},
   "source": [
    "### Sklearn text feature extraction -- TfidfVectorizer\n",
    "class sklearn.feature_extraction.text.TfidfVectorizer(input='content', encoding='utf-8', decode_error='strict', strip_accents=None, lowercase=True, preprocessor=None, tokenizer=None, analyzer='word', stop_words=None, token_pattern='(?u)\\b\\w\\w+\\b', ngram_range=(1, 1), max_df=1.0, min_df=1, max_features=None, vocabulary=None, binary=False, dtype=<class 'numpy.int64'>, norm='l2', use_idf=True, smooth_idf=True, sublinear_tf=False)[source]¶"
   ]
  },
  {
   "cell_type": "code",
   "execution_count": 9,
   "metadata": {
    "collapsed": false
   },
   "outputs": [
    {
     "name": "stdout",
     "output_type": "stream",
     "text": [
      "The length of OAG data (fraud relevent): 11635\n",
      "The length of general tweets (nonfraud relevent): 19890\n",
      "The length of whole dataset: 31525\n"
     ]
    }
   ],
   "source": [
    "# combine corpus\n",
    "raw_whole_corpus = oag_doc + selected_tweet\n",
    "print \"The length of OAG data (fraud relevent):\", len(oag_doc)\n",
    "print \"The length of general tweets (nonfraud relevent):\", len(selected_tweet)\n",
    "print \"The length of whole dataset:\", len(raw_whole_corpus)"
   ]
  },
  {
   "cell_type": "code",
   "execution_count": 10,
   "metadata": {
    "collapsed": false
   },
   "outputs": [
    {
     "name": "stdout",
     "output_type": "stream",
     "text": [
      "[1, 1, 1, 1, 1, 1, 1, 1, 1, 1]\n",
      "[0, 0, 0, 0, 0, 0, 0, 0, 0, 0]\n",
      "31525\n"
     ]
    }
   ],
   "source": [
    "# Creat target\n",
    "target = [1]*len(oag_doc)+[0]*len(selected_tweet)\n",
    "print target[:10]\n",
    "print target[-10:]\n",
    "print len(target)"
   ]
  },
  {
   "cell_type": "code",
   "execution_count": 11,
   "metadata": {
    "collapsed": false
   },
   "outputs": [
    {
     "data": {
      "text/plain": [
       "'Note User indicated supporting documents will be mailed within - days They rent cars for Uber to TLC drivers in NYC  There cars are problematic and inoperableYou can see the google reviews or BBB complaints against themThey have our ---- usd deposit and one week of rent --- plus loss of wages for two drivers ie ---- usd'"
      ]
     },
     "execution_count": 11,
     "metadata": {},
     "output_type": "execute_result"
    }
   ],
   "source": [
    "raw_whole_corpus[0]"
   ]
  },
  {
   "cell_type": "code",
   "execution_count": 12,
   "metadata": {
    "collapsed": false
   },
   "outputs": [
    {
     "data": {
      "text/plain": [
       "<31525x7639 sparse matrix of type '<type 'numpy.float64'>'\n",
       "\twith 692825 stored elements in Compressed Sparse Row format>"
      ]
     },
     "execution_count": 12,
     "metadata": {},
     "output_type": "execute_result"
    }
   ],
   "source": [
    "# Sklearn text feature extraction -- TfidfVectorizer\n",
    "from sklearn.feature_extraction.text import TfidfVectorizer\n",
    "vectorizer = TfidfVectorizer(min_df=10, stop_words='english')\n",
    "X = vectorizer.fit_transform(raw_whole_corpus)\n",
    "X"
   ]
  },
  {
   "cell_type": "markdown",
   "metadata": {},
   "source": [
    "### Train Classification model with Naive Bayes, SVM linear, Random Forest"
   ]
  },
  {
   "cell_type": "code",
   "execution_count": 13,
   "metadata": {
    "collapsed": true
   },
   "outputs": [],
   "source": [
    "# Train test split\n",
    "X_train, X_test, target_train, target_test = train_test_split(X.toarray(), target, test_size=0.3, random_state=1)"
   ]
  },
  {
   "cell_type": "code",
   "execution_count": 14,
   "metadata": {
    "collapsed": false
   },
   "outputs": [
    {
     "name": "stdout",
     "output_type": "stream",
     "text": [
      "('Accuracy by Naive Bayes =', 0.9609854091774159)\n",
      "Training it took 0.1 mins\n"
     ]
    }
   ],
   "source": [
    "# Naive Bayes Classification\n",
    "start_time = time.time()\n",
    "gnb = GaussianNB()\n",
    "gnb.fit(X_train, target_train)\n",
    "pred = gnb.predict(X_test)\n",
    "end_time = time.time()\n",
    "print(\"Accuracy by Naive Bayes =\", 1.0*sum(target_test==pred)/len(pred))\n",
    "print \"Training it took %.1f mins\" %((end_time-start_time)/60.0)"
   ]
  },
  {
   "cell_type": "code",
   "execution_count": 15,
   "metadata": {
    "collapsed": false
   },
   "outputs": [
    {
     "name": "stdout",
     "output_type": "stream",
     "text": [
      "('Accuracy by SVM with linear =', 0.9913300909283147)\n",
      "Training it took 12.1 mins\n"
     ]
    }
   ],
   "source": [
    "# SVM linear\n",
    "start_time = time.time()\n",
    "svc = SVC(kernel='linear')\n",
    "svc.fit(X_train, target_train)\n",
    "pred = svc.predict(X_test)\n",
    "end_time = time.time()\n",
    "print(\"Accuracy by SVM with linear =\", 1.0*sum(target_test==pred)/len(pred))\n",
    "print \"Training it took %.1f mins\" %((end_time-start_time)/60.0)"
   ]
  },
  {
   "cell_type": "code",
   "execution_count": 16,
   "metadata": {
    "collapsed": false
   },
   "outputs": [
    {
     "name": "stdout",
     "output_type": "stream",
     "text": [
      "('Accuracy by Random Forest =', 0.9844576020300275)\n",
      "Training it took 6.4 mins\n"
     ]
    }
   ],
   "source": [
    "# Random Forest\n",
    "start_time = time.time()\n",
    "clf = RandomForestClassifier(n_jobs=-1, n_estimators=500)\n",
    "clf = clf.fit(X_train, target_train)\n",
    "pred = clf.predict(X_test)\n",
    "end_time = time.time()\n",
    "print(\"Accuracy by Random Forest =\", 1.0*sum(target_test==pred)/len(pred))\n",
    "print \"Training it took %.1f mins\" %((end_time-start_time)/60.0)"
   ]
  },
  {
   "cell_type": "markdown",
   "metadata": {},
   "source": [
    "### Test model on unselected Tweets"
   ]
  },
  {
   "cell_type": "code",
   "execution_count": 17,
   "metadata": {
    "collapsed": false
   },
   "outputs": [
    {
     "name": "stdout",
     "output_type": "stream",
     "text": [
      "20092\n"
     ]
    }
   ],
   "source": [
    "print len(unselected_tweet)"
   ]
  },
  {
   "cell_type": "code",
   "execution_count": 18,
   "metadata": {
    "collapsed": false,
    "scrolled": true
   },
   "outputs": [
    {
     "data": {
      "text/plain": [
       "<20092x7639 sparse matrix of type '<type 'numpy.float64'>'\n",
       "\twith 203127 stored elements in Compressed Sparse Row format>"
      ]
     },
     "execution_count": 18,
     "metadata": {},
     "output_type": "execute_result"
    }
   ],
   "source": [
    "# Extracting features from the test data using the same vectorizer\n",
    "X_unselected_tweet = vectorizer.transform(unselected_tweet)\n",
    "X_unselected_tweet"
   ]
  },
  {
   "cell_type": "code",
   "execution_count": 19,
   "metadata": {
    "collapsed": false
   },
   "outputs": [],
   "source": [
    "# Apply SVM model on unselected Tweets\n",
    "svc_pred = svc.predict(X_unselected_tweet.toarray())"
   ]
  },
  {
   "cell_type": "code",
   "execution_count": 20,
   "metadata": {
    "collapsed": false
   },
   "outputs": [
    {
     "data": {
      "text/plain": [
       "94"
      ]
     },
     "execution_count": 20,
     "metadata": {},
     "output_type": "execute_result"
    }
   ],
   "source": [
    "pred_fraud_tweet_index = [i for i,j in enumerate(svc_pred) if j ==1]\n",
    "len(pred_fraud_tweet_index)"
   ]
  },
  {
   "cell_type": "code",
   "execution_count": 21,
   "metadata": {
    "collapsed": false,
    "scrolled": false
   },
   "outputs": [
    {
     "name": "stdout",
     "output_type": "stream",
     "text": [
      "@caz_yates these items were removed from @amazonIN India website not the US. The selling of these items is not illegal in the US, apparently\n",
      "----------------------\n",
      "I called my sister four fucking times and she can't answer any of my phone calls but she can tweet. cool.\n",
      "----------------------\n",
      ".@AmericanFamAssc When signing the boycott you can register as many times you like with the same information so doubt the #'s #LGBT #Fraud\n",
      "----------------------\n",
      "@Teshua Stop running and stealing from people. Pay your cousin his money. Payment is now $15000, monthly interest is $1000. #thief #fraud\n",
      "----------------------\n",
      "I end up calling the police and telling them that I think my car was stolen and they tell me it was towed. \n",
      "----------------------\n",
      "Some days I think I should have a degree in psychology work because of all the poop I have to deal with on the daily\n",
      "----------------------\n",
      "@UPSHelp a product was over valued and that's not my fault. Charging $23 in fees for a product worth less then that is not smart\n",
      "----------------------\n",
      "@LeslieMarshall   white water, accused her husband of being a drug dealer and a murderer, they lived in a tiny house in Arkansas\n",
      "----------------------\n",
      "Not wanting a girl to order expensive items on the first date would simply be avoided if you take her to a place within your budget.\n",
      "----------------------\n",
      "CFPB on deceptive payday loan practices: \"included a cartoon of an employee pointing a gun at a borrower saying 'Take the $ OR die!!'\"\n",
      "----------------------\n"
     ]
    }
   ],
   "source": [
    "for i in pred_fraud_tweet_index[:10]:\n",
    "    print unselected_tweet[i]\n",
    "    print '----------------------'"
   ]
  },
  {
   "cell_type": "code",
   "execution_count": 22,
   "metadata": {
    "collapsed": false
   },
   "outputs": [
    {
     "name": "stdout",
     "output_type": "stream",
     "text": [
      "282\n"
     ]
    }
   ],
   "source": [
    "# Apply random forest model on unselected Tweets\n",
    "clf_pred = clf.predict(X_unselected_tweet.toarray())\n",
    "\n",
    "clf_pred_fraud_tweet_index = [i for i,j in enumerate(clf_pred) if j ==1]\n",
    "print len(clf_pred_fraud_tweet_index)"
   ]
  },
  {
   "cell_type": "code",
   "execution_count": 23,
   "metadata": {
    "collapsed": false,
    "scrolled": false
   },
   "outputs": [],
   "source": [
    "# for i in clf_pred_fraud_tweet_index[:10]:\n",
    "#     print unselected_tweet[i]\n",
    "#     print '----------------------'"
   ]
  },
  {
   "cell_type": "code",
   "execution_count": 24,
   "metadata": {
    "collapsed": false
   },
   "outputs": [
    {
     "name": "stdout",
     "output_type": "stream",
     "text": [
      "1040\n"
     ]
    }
   ],
   "source": [
    "# Apply Naive Bayes model on unselected Tweets\n",
    "gnb_pred = gnb.predict(X_unselected_tweet.toarray())\n",
    "\n",
    "gnb_pred_fraud_tweet_index = [i for i,j in enumerate(gnb_pred) if j ==1]\n",
    "print len(gnb_pred_fraud_tweet_index)"
   ]
  },
  {
   "cell_type": "code",
   "execution_count": 25,
   "metadata": {
    "collapsed": false
   },
   "outputs": [],
   "source": [
    "# for i in clf_pred_fraud_tweet_index[:20]:\n",
    "#     print unselected_tweet[i]\n",
    "#     print '----------------------'"
   ]
  },
  {
   "cell_type": "markdown",
   "metadata": {
    "collapsed": true
   },
   "source": [
    "### Try more Category on training data"
   ]
  },
  {
   "cell_type": "code",
   "execution_count": 26,
   "metadata": {
    "collapsed": false
   },
   "outputs": [
    {
     "data": {
      "text/plain": [
       "15000"
      ]
     },
     "execution_count": 26,
     "metadata": {},
     "output_type": "execute_result"
    }
   ],
   "source": [
    "# import labled oag data\n",
    "labeled_data = pd.read_pickle('../data/OAG_corpus_with_CUSP_code.pkl')\n",
    "len(labeled_data)"
   ]
  },
  {
   "cell_type": "code",
   "execution_count": 27,
   "metadata": {
    "collapsed": false
   },
   "outputs": [
    {
     "name": "stdout",
     "output_type": "stream",
     "text": [
      "10054\n"
     ]
    }
   ],
   "source": [
    "labeled_data = labeled_data[labeled_data['CUSP_NAAG']!='None']\n",
    "labeled_data = labeled_data.dropna(subset=['COMPLAINT_DESCRIPTION'], how='all')\n",
    "labeled_data = labeled_data.drop_duplicates(subset=['COMPLAINT_DESCRIPTION'])\n",
    "print len(labeled_data)"
   ]
  },
  {
   "cell_type": "code",
   "execution_count": 29,
   "metadata": {
    "collapsed": false
   },
   "outputs": [
    {
     "data": {
      "text/html": [
       "<div>\n",
       "<table border=\"1\" class=\"dataframe\">\n",
       "  <thead>\n",
       "    <tr style=\"text-align: right;\">\n",
       "      <th></th>\n",
       "      <th></th>\n",
       "      <th>Count</th>\n",
       "    </tr>\n",
       "    <tr>\n",
       "      <th>cusp_code</th>\n",
       "      <th>CUSP_NAAG</th>\n",
       "      <th></th>\n",
       "    </tr>\n",
       "  </thead>\n",
       "  <tbody>\n",
       "    <tr>\n",
       "      <th>1</th>\n",
       "      <th>Residential</th>\n",
       "      <td>873</td>\n",
       "    </tr>\n",
       "    <tr>\n",
       "      <th>2</th>\n",
       "      <th>scams</th>\n",
       "      <td>1291</td>\n",
       "    </tr>\n",
       "    <tr>\n",
       "      <th>3</th>\n",
       "      <th>misc</th>\n",
       "      <td>2152</td>\n",
       "    </tr>\n",
       "    <tr>\n",
       "      <th>4</th>\n",
       "      <th>financial</th>\n",
       "      <td>1552</td>\n",
       "    </tr>\n",
       "    <tr>\n",
       "      <th>5</th>\n",
       "      <th>good_n_services</th>\n",
       "      <td>1379</td>\n",
       "    </tr>\n",
       "    <tr>\n",
       "      <th>6</th>\n",
       "      <th>government</th>\n",
       "      <td>300</td>\n",
       "    </tr>\n",
       "    <tr>\n",
       "      <th>7</th>\n",
       "      <th>utilities</th>\n",
       "      <td>922</td>\n",
       "    </tr>\n",
       "    <tr>\n",
       "      <th>8</th>\n",
       "      <th>travel</th>\n",
       "      <td>1585</td>\n",
       "    </tr>\n",
       "  </tbody>\n",
       "</table>\n",
       "</div>"
      ],
      "text/plain": [
       "                           Count\n",
       "cusp_code CUSP_NAAG             \n",
       "1         Residential        873\n",
       "2         scams             1291\n",
       "3         misc              2152\n",
       "4         financial         1552\n",
       "5         good_n_services   1379\n",
       "6         government         300\n",
       "7         utilities          922\n",
       "8         travel            1585"
      ]
     },
     "execution_count": 29,
     "metadata": {},
     "output_type": "execute_result"
    }
   ],
   "source": [
    "labeled_data['cusp_code'] = labeled_data['cusp_code'].replace(0,1)\n",
    "Index_table = labeled_data[['cusp_code','CUSP_NAAG','NAAG_DESCRIPTION']].groupby(['cusp_code','CUSP_NAAG']).count().rename(columns={'NAAG_DESCRIPTION': 'Count'})\n",
    "Index_table"
   ]
  },
  {
   "cell_type": "code",
   "execution_count": 31,
   "metadata": {
    "collapsed": false
   },
   "outputs": [],
   "source": [
    "labeled_oag_doc = list(labeled_data['COMPLAINT_DESCRIPTION'])"
   ]
  },
  {
   "cell_type": "code",
   "execution_count": 32,
   "metadata": {
    "collapsed": false
   },
   "outputs": [
    {
     "name": "stdout",
     "output_type": "stream",
     "text": [
      "The length of OAG data (fraud relevent): 10054\n",
      "The length of general tweets (nonfraud relevent): 19890\n",
      "The length of whole dataset: 29944\n"
     ]
    }
   ],
   "source": [
    "# combine corpus\n",
    "raw_whole_corpus_labled = labeled_oag_doc + selected_tweet\n",
    "print \"The length of OAG data (fraud relevent):\", len(labeled_oag_doc)\n",
    "print \"The length of general tweets (nonfraud relevent):\", len(selected_tweet)\n",
    "print \"The length of whole dataset:\", len(raw_whole_corpus_labled)"
   ]
  },
  {
   "cell_type": "code",
   "execution_count": 460,
   "metadata": {
    "collapsed": false
   },
   "outputs": [
    {
     "name": "stdout",
     "output_type": "stream",
     "text": [
      "[2, 4, 8, 2, 5, 7, 1, 4, 3, 8]\n",
      "[0, 0, 0, 0, 0, 0, 0, 0, 0, 0]\n",
      "29944\n"
     ]
    }
   ],
   "source": [
    "# Creat target, label general tweets as one\n",
    "target = list(labeled_data['cusp_code'])+[0]*len(selected_tweet)\n",
    "print target[:10]\n",
    "print target[-10:]\n",
    "print len(target)"
   ]
  },
  {
   "cell_type": "code",
   "execution_count": 34,
   "metadata": {
    "collapsed": false
   },
   "outputs": [
    {
     "data": {
      "text/plain": [
       "<29944x7252 sparse matrix of type '<type 'numpy.float64'>'\n",
       "\twith 623055 stored elements in Compressed Sparse Row format>"
      ]
     },
     "execution_count": 34,
     "metadata": {},
     "output_type": "execute_result"
    }
   ],
   "source": [
    "# Sklearn text feature extraction -- TfidfVectorizer\n",
    "from sklearn.feature_extraction.text import TfidfVectorizer\n",
    "vectorizer = TfidfVectorizer(min_df=10, stop_words='english')\n",
    "X = vectorizer.fit_transform(raw_whole_corpus_labled)\n",
    "X"
   ]
  },
  {
   "cell_type": "code",
   "execution_count": 35,
   "metadata": {
    "collapsed": true
   },
   "outputs": [],
   "source": [
    "# Train test splitd\n",
    "X_train, X_test, target_train, target_test = train_test_split(X.toarray(), target, test_size=0.3, random_state=1)"
   ]
  },
  {
   "cell_type": "code",
   "execution_count": 36,
   "metadata": {
    "collapsed": false
   },
   "outputs": [
    {
     "name": "stdout",
     "output_type": "stream",
     "text": [
      "('Accuracy by Naive Bayes =', 0.7111531611754229)\n",
      "Training it took 0.2 mins\n"
     ]
    }
   ],
   "source": [
    "# Naive Bayes Classification\n",
    "start_time = time.time()\n",
    "gnb_9cate = GaussianNB()\n",
    "gnb_9cate.fit(X_train, target_train)\n",
    "pred = gnb_9cate.predict(X_test)\n",
    "end_time = time.time()\n",
    "print(\"Accuracy by Naive Bayes =\", 1.0*sum(target_test==pred)/len(pred))\n",
    "print \"Training it took %.1f mins\" %((end_time-start_time)/60.0)"
   ]
  },
  {
   "cell_type": "code",
   "execution_count": 38,
   "metadata": {
    "collapsed": false,
    "scrolled": true
   },
   "outputs": [
    {
     "name": "stdout",
     "output_type": "stream",
     "text": [
      "('Accuracy by SVM with linear =', 0.8603072128227961)\n",
      "Training it took 36.7 mins\n"
     ]
    }
   ],
   "source": [
    "# SVM linear\n",
    "start_time = time.time()\n",
    "svc_9cate = SVC(kernel='linear')\n",
    "svc_9cate.fit(X_train, target_train)\n",
    "pred = svc_9cate.predict(X_test)\n",
    "end_time = time.time()\n",
    "print(\"Accuracy by SVM with linear =\", 1.0*sum(target_test==pred)/len(pred))\n",
    "print \"Training it took %.1f mins\" %((end_time-start_time)/60.0)"
   ]
  },
  {
   "cell_type": "code",
   "execution_count": 39,
   "metadata": {
    "collapsed": false,
    "scrolled": true
   },
   "outputs": [
    {
     "name": "stdout",
     "output_type": "stream",
     "text": [
      "('Accuracy by Random Forest =', 0.821460373998219)\n",
      "Training it took 7.3 mins\n"
     ]
    }
   ],
   "source": [
    "# Random Forest\n",
    "start_time = time.time()\n",
    "clf_9cate = RandomForestClassifier(n_jobs=-1, n_estimators=500)\n",
    "clf_9cate.fit(X_train, target_train)\n",
    "pred = clf_9cate.predict(X_test)\n",
    "end_time = time.time()\n",
    "print(\"Accuracy by Random Forest =\", 1.0*sum(target_test==pred)/len(pred))\n",
    "print \"Training it took %.1f mins\" %((end_time-start_time)/60.0)"
   ]
  },
  {
   "cell_type": "code",
   "execution_count": 77,
   "metadata": {
    "collapsed": true
   },
   "outputs": [],
   "source": [
    "# store the model\n",
    "# import pickle\n",
    "# # now you can save it to a file\n",
    "# with open('gnb_9cate.pkl', 'wb') as f:\n",
    "#     pickle.dump(gnb_9cate, f)\n",
    "\n",
    "# with open('svc.pkl', 'wb') as f:\n",
    "#     pickle.dump(svc, f)\n",
    "\n",
    "# with open('clf.pkl', 'wb') as f:\n",
    "#     pickle.dump(clf, f)\n",
    "\n",
    "# load it\n",
    "# with open('filename.pkl', 'rb') as f:\n",
    "#     clf = pickle.load(f)"
   ]
  },
  {
   "cell_type": "code",
   "execution_count": 41,
   "metadata": {
    "collapsed": true
   },
   "outputs": [],
   "source": [
    "def plot_confusion_matrix(cm, label, title='Confusion matrix', cmap=plt.cm.Blues):\n",
    "    plt.imshow(cm, interpolation='nearest', cmap=cmap)\n",
    "    plt.title(title)\n",
    "    plt.colorbar()\n",
    "    tick_marks = np.arange(len(label))\n",
    "    plt.xticks(tick_marks, label, rotation=45)\n",
    "    plt.yticks(tick_marks, label)\n",
    "    plt.tight_layout()\n",
    "    plt.ylabel('True label')\n",
    "    plt.xlabel('Predicted label')"
   ]
  },
  {
   "cell_type": "code",
   "execution_count": 45,
   "metadata": {
    "collapsed": false
   },
   "outputs": [
    {
     "name": "stdout",
     "output_type": "stream",
     "text": [
      "['Irrelevant', 'Residential', 'scams', 'misc', 'financial', 'good_n_services', 'government', 'utilities', 'travel']\n"
     ]
    }
   ],
   "source": [
    "Index_list = Index_table.index.values\n",
    "Index_list = [i[1] for i in Index_list]\n",
    "Index_list = ['Irrelevant']+Index_list\n",
    "print Index_list"
   ]
  },
  {
   "cell_type": "code",
   "execution_count": 46,
   "metadata": {
    "collapsed": false,
    "scrolled": false
   },
   "outputs": [
    {
     "name": "stdout",
     "output_type": "stream",
     "text": [
      "\n",
      "Clasification report of GaussianNB():\n",
      "             precision    recall  f1-score   support\n",
      "\n",
      "          0       0.97      0.90      0.93      5914\n",
      "          1       0.28      0.38      0.32       269\n",
      "          2       0.22      0.22      0.22       406\n",
      "          3       0.29      0.31      0.30       678\n",
      "          4       0.36      0.36      0.36       456\n",
      "          5       0.34      0.31      0.32       413\n",
      "          6       0.08      0.26      0.12        91\n",
      "          7       0.30      0.38      0.33       272\n",
      "          8       0.51      0.56      0.54       485\n",
      "\n",
      "avg / total       0.75      0.71      0.73      8984\n",
      "\n",
      "\n",
      "Confussion matrix of GaussianNB():\n",
      "[[5297  104   95   98   54   54  101   45   66]\n",
      " [  15  103   12   57   11   12   19   21   19]\n",
      " [  23   24   90   74   56   49   27   34   29]\n",
      " [  34   52   72  207   86   59   49   63   56]\n",
      " [  17   23   30   85  164   24   46   38   29]\n",
      " [  22   32   64   69   28  128   11   25   34]\n",
      " [   9    6    7   20   11    4   24    1    9]\n",
      " [   9    8   23   55   24   21   13  104   15]\n",
      " [  28   21   21   59   25   25   16   18  272]]\n"
     ]
    },
    {
     "data": {
      "image/png": "[encoded data removed]",
      "text/plain": [
       "<matplotlib.figure.Figure at 0x12bb42e10>"
      ]
     },
     "metadata": {},
     "output_type": "display_data"
    },
    {
     "name": "stdout",
     "output_type": "stream",
     "text": [
      "\n",
      "Clasification report of SVC(C=1.0, cache_size=200, class_weight=None, coef0=0.0,\n",
      "  decision_function_shape=None, degree=3, gamma='auto', kernel='linear',\n",
      "  max_iter=-1, probability=False, random_state=None, shrinking=True,\n",
      "  tol=0.001, verbose=False):\n",
      "             precision    recall  f1-score   support\n",
      "\n",
      "          0       0.98      1.00      0.99      5914\n",
      "          1       0.78      0.69      0.73       269\n",
      "          2       0.53      0.44      0.48       406\n",
      "          3       0.45      0.55      0.50       678\n",
      "          4       0.60      0.67      0.63       456\n",
      "          5       0.59      0.51      0.55       413\n",
      "          6       0.87      0.30      0.44        91\n",
      "          7       0.76      0.64      0.70       272\n",
      "          8       0.88      0.78      0.82       485\n",
      "\n",
      "avg / total       0.86      0.86      0.86      8984\n",
      "\n",
      "\n",
      "Confussion matrix of SVC(C=1.0, cache_size=200, class_weight=None, coef0=0.0,\n",
      "  decision_function_shape=None, degree=3, gamma='auto', kernel='linear',\n",
      "  max_iter=-1, probability=False, random_state=None, shrinking=True,\n",
      "  tol=0.001, verbose=False):\n",
      "[[5902    0    1    6    2    3    0    0    0]\n",
      " [  14  185    3   47    8    9    0    2    1]\n",
      " [  22    8  179  107   28   44    0    8   10]\n",
      " [  46   21   62  371   91   49    3   19   16]\n",
      " [  12    7   18   88  304   12    1    4   10]\n",
      " [  18    4   46   77   29  210    0   18   11]\n",
      " [  11    4    7   30    8    3   27    0    1]\n",
      " [   5    4    9   45   18   14    0  175    2]\n",
      " [  15    3   13   46   17   12    0    3  376]]\n"
     ]
    },
    {
     "data": {
      "image/png": "[encoded data removed]",
      "text/plain": [
       "<matplotlib.figure.Figure at 0x12ce45290>"
      ]
     },
     "metadata": {},
     "output_type": "display_data"
    },
    {
     "name": "stdout",
     "output_type": "stream",
     "text": [
      "\n",
      "Clasification report of RandomForestClassifier(bootstrap=True, class_weight=None, criterion='gini',\n",
      "            max_depth=None, max_features='auto', max_leaf_nodes=None,\n",
      "            min_samples_leaf=1, min_samples_split=2,\n",
      "            min_weight_fraction_leaf=0.0, n_estimators=500, n_jobs=-1,\n",
      "            oob_score=False, random_state=None, verbose=0,\n",
      "            warm_start=False):\n",
      "             precision    recall  f1-score   support\n",
      "\n",
      "          0       0.94      1.00      0.97      5914\n",
      "          1       0.87      0.43      0.58       269\n",
      "          2       0.54      0.21      0.30       406\n",
      "          3       0.37      0.62      0.46       678\n",
      "          4       0.60      0.62      0.61       456\n",
      "          5       0.50      0.31      0.38       413\n",
      "          6       1.00      0.05      0.10        91\n",
      "          7       0.75      0.36      0.48       272\n",
      "          8       0.80      0.71      0.75       485\n",
      "\n",
      "avg / total       0.83      0.82      0.81      8984\n",
      "\n",
      "\n",
      "Confussion matrix of RandomForestClassifier(bootstrap=True, class_weight=None, criterion='gini',\n",
      "            max_depth=None, max_features='auto', max_leaf_nodes=None,\n",
      "            min_samples_leaf=1, min_samples_split=2,\n",
      "            min_weight_fraction_leaf=0.0, n_estimators=500, n_jobs=-1,\n",
      "            oob_score=False, random_state=None, verbose=0,\n",
      "            warm_start=False):\n",
      "[[5901    0    1    9    2    0    0    0    1]\n",
      " [  37  116    1   95    6   10    0    1    3]\n",
      " [  58    2   84  163   37   44    0    7   11]\n",
      " [  82    8   23  417   78   35    0    9   26]\n",
      " [  40    1    5  100  285   10    0    5   10]\n",
      " [  51    2   31  142   25  129    0    6   27]\n",
      " [  21    2    1   46    9    3    5    2    2]\n",
      " [  34    0    5   97   20   13    0   97    6]\n",
      " [  39    3    4   65   11   15    0    2  346]]\n"
     ]
    },
    {
     "data": {
      "image/png": "[encoded data removed]",
      "text/plain": [
       "<matplotlib.figure.Figure at 0x12be3a310>"
      ]
     },
     "metadata": {},
     "output_type": "display_data"
    }
   ],
   "source": [
    "# plot the result of the three models above\n",
    "model = [gnb_9cate, svc_9cate, clf_9cate]\n",
    "for i in model:\n",
    "    pred = i.predict(X_test)\n",
    "    cm = sklearn.metrics.confusion_matrix(target_test, pred)\n",
    "    cm_normalized = cm.astype('float') / cm.sum(axis=1)[:, np.newaxis]\n",
    "    print '\\nClasification report of %s:\\n' % i, sklearn.metrics.classification_report(target_test, pred)\n",
    "    print '\\nConfussion matrix of %s:\\n' % i, sklearn.metrics.confusion_matrix(target_test, pred)\n",
    "    plt.figure(figsize = (6,6))\n",
    "    plot_confusion_matrix(cm_normalized, title='Normalized Confusion matrix', label=Index_list)\n",
    "    plt.show()"
   ]
  },
  {
   "cell_type": "code",
   "execution_count": 76,
   "metadata": {
    "collapsed": false
   },
   "outputs": [
    {
     "name": "stdout",
     "output_type": "stream",
     "text": [
      "relevent recall 0.995916978564\n",
      "relevent precision 0.95342019544\n"
     ]
    }
   ],
   "source": [
    "# svm recall/precision\n",
    "pred = svc_9cate.predict(X_test)\n",
    "cm = sklearn.metrics.confusion_matrix(target_test, pred)\n",
    "print 'relevent precision', 1-sum(cm[0][1:])/float(sum([sum(cm[i][1:]) for i in range(9)]))\n",
    "print 'relevent recall', sum([sum(cm[i][1:]) for i in range(1,9)])/float(sum([sum(cm[i]) for i in range(1,9)]))"
   ]
  },
  {
   "cell_type": "markdown",
   "metadata": {},
   "source": [
    "From the result above, we found that svm performed best among these three algorithm."
   ]
  },
  {
   "cell_type": "markdown",
   "metadata": {},
   "source": [
    "### Go deep SVM method, tune the parameter"
   ]
  },
  {
   "cell_type": "code",
   "execution_count": 132,
   "metadata": {
    "collapsed": false
   },
   "outputs": [
    {
     "name": "stdout",
     "output_type": "stream",
     "text": [
      "Accuracy by SVM with L2: 0.857190560997\n",
      "Training it took 0.037 mins\n"
     ]
    }
   ],
   "source": [
    "# Support vector machine with penality L2\n",
    "from sklearn.svm import LinearSVC\n",
    "start_time = time.time()\n",
    "sv_l = LinearSVC(loss = 'squared_hinge',penalty = 'l2', dual = False, tol = 1e-3)\n",
    "sv_l.fit(X_train, target_train)\n",
    "pred_1 = sv_l.predict(X_test)\n",
    "end_time = time.time()\n",
    "print \"Accuracy by SVM with L2:\", 1.0*sum(target_test==pred_1)/len(pred_1)\n",
    "print \"Training it took %.3f mins\" %((end_time-start_time)/60.0)"
   ]
  },
  {
   "cell_type": "code",
   "execution_count": 133,
   "metadata": {
    "collapsed": false
   },
   "outputs": [
    {
     "name": "stdout",
     "output_type": "stream",
     "text": [
      "relevent precision 0.996273712737\n",
      "relevent recall 0.957980456026\n"
     ]
    }
   ],
   "source": [
    "cm1 = sklearn.metrics.confusion_matrix(target_test, pred_1)\n",
    "print 'relevent precision', 1-sum(cm1[0][1:])/float(sum([sum(cm1[i][1:]) for i in range(9)]))\n",
    "print 'relevent recall', sum([sum(cm1[i][1:]) for i in range(1,9)])/float(sum([sum(cm1[i]) for i in range(1,9)]))"
   ]
  },
  {
   "cell_type": "code",
   "execution_count": 135,
   "metadata": {
    "collapsed": false
   },
   "outputs": [
    {
     "name": "stdout",
     "output_type": "stream",
     "text": [
      "('Accuracy by SVM with LinearSVC:', 0.8575244879786287)\n",
      "Training it took 0.018 mins\n"
     ]
    }
   ],
   "source": [
    "# Support vector machine with LinearSVC\n",
    "from sklearn.svm import LinearSVC\n",
    "start_time = time.time()\n",
    "sv_2 = LinearSVC()\n",
    "sv_2.fit(X_train, target_train)\n",
    "pred_2 = sv_2.predict(X_test)\n",
    "end_time = time.time()\n",
    "print(\"Accuracy by SVM with LinearSVC:\", 1.0*sum(target_test==pred_2)/len(pred_2))\n",
    "print \"Training it took %.3f mins\" %((end_time-start_time)/60.0)"
   ]
  },
  {
   "cell_type": "code",
   "execution_count": 136,
   "metadata": {
    "collapsed": false
   },
   "outputs": [
    {
     "name": "stdout",
     "output_type": "stream",
     "text": [
      "relevent precision 0.996273712737\n",
      "relevent recall 0.957980456026\n"
     ]
    }
   ],
   "source": [
    "cm2 = sklearn.metrics.confusion_matrix(target_test, pred_2)\n",
    "print 'relevent precision', 1-sum(cm2[0][1:])/float(sum([sum(cm2[i][1:]) for i in range(9)]))\n",
    "print 'relevent recall', sum([sum(cm2[i][1:]) for i in range(1,9)])/float(sum([sum(cm2[i]) for i in range(1,9)]))"
   ]
  },
  {
   "cell_type": "code",
   "execution_count": 116,
   "metadata": {
    "collapsed": false
   },
   "outputs": [
    {
     "name": "stdout",
     "output_type": "stream",
     "text": [
      "\n",
      "Clasification report :\n",
      "             precision    recall  f1-score   support\n",
      "\n",
      "          0       0.98      1.00      0.99      5914\n",
      "          1       0.75      0.71      0.73       269\n",
      "          2       0.48      0.41      0.44       406\n",
      "          3       0.51      0.47      0.49       678\n",
      "          4       0.58      0.67      0.62       456\n",
      "          5       0.54      0.52      0.53       413\n",
      "          6       0.56      0.31      0.40        91\n",
      "          7       0.73      0.71      0.72       272\n",
      "          8       0.81      0.79      0.80       485\n",
      "\n",
      "avg / total       0.85      0.86      0.85      8984\n",
      "\n"
     ]
    }
   ],
   "source": [
    "print '\\nClasification report :\\n', sklearn.metrics.classification_report(target_test, pred_2)"
   ]
  },
  {
   "cell_type": "code",
   "execution_count": 117,
   "metadata": {
    "collapsed": false
   },
   "outputs": [
    {
     "name": "stdout",
     "output_type": "stream",
     "text": [
      "\n",
      "Confussion matrix :\n",
      "[[5903    0    1    4    2    4    0    0    0]\n",
      " [  10  190    4   36    8   12    0    3    6]\n",
      " [  24    7  168   70   45   61    3   14   14]\n",
      " [  40   29   78  319   92   57    8   23   32]\n",
      " [  12   12   21   63  304   15    4    9   16]\n",
      " [  15    5   51   60   27  216    3   19   17]\n",
      " [   7    4    8   20   13    8   28    1    2]\n",
      " [   5    2    7   21   20   16    2  194    5]\n",
      " [  16    3   12   38   16   12    2    4  382]]\n"
     ]
    }
   ],
   "source": [
    "print '\\nConfussion matrix :\\n', cm2"
   ]
  },
  {
   "cell_type": "code",
   "execution_count": 118,
   "metadata": {
    "collapsed": false
   },
   "outputs": [
    {
     "data": {
      "image/png": "[encoded data removed]",
      "text/plain": [
       "<matplotlib.figure.Figure at 0x18466bb50>"
      ]
     },
     "metadata": {},
     "output_type": "display_data"
    }
   ],
   "source": [
    "cm_normalized = cm2.astype('float') / cm2.sum(axis=1)[:, np.newaxis]\n",
    "plt.figure(figsize = (6,6))\n",
    "plot_confusion_matrix(cm_normalized, title='Normalized Confusion matrix', label=Index_list)\n",
    "plt.show()"
   ]
  },
  {
   "cell_type": "markdown",
   "metadata": {},
   "source": [
    "By now, we found the best model is LinearSVC. (without dimension deduction and LDA, will try dimension deduction and LDA later)"
   ]
  },
  {
   "cell_type": "markdown",
   "metadata": {},
   "source": [
    "### Test model on general tweet"
   ]
  },
  {
   "cell_type": "code",
   "execution_count": 119,
   "metadata": {
    "collapsed": false
   },
   "outputs": [
    {
     "data": {
      "text/plain": [
       "<20092x7252 sparse matrix of type '<type 'numpy.float64'>'\n",
       "\twith 202206 stored elements in Compressed Sparse Row format>"
      ]
     },
     "execution_count": 119,
     "metadata": {},
     "output_type": "execute_result"
    }
   ],
   "source": [
    "# test on unselected tweet\n",
    "# Extracting features from the test data using the same vectorizer\n",
    "X_unselected_tweet = vectorizer.transform(unselected_tweet)\n",
    "X_unselected_tweet"
   ]
  },
  {
   "cell_type": "code",
   "execution_count": 128,
   "metadata": {
    "collapsed": false,
    "scrolled": true
   },
   "outputs": [
    {
     "data": {
      "text/plain": [
       "0.018666903177897137"
      ]
     },
     "execution_count": 128,
     "metadata": {},
     "output_type": "execute_result"
    }
   ],
   "source": [
    "# Apply SVM model on unselected Tweets\n",
    "start_time = time.time()\n",
    "svc_predict = sv_2.predict(X_unselected_tweet.toarray())\n",
    "end_time = time.time()\n",
    "(end_time-start_time)/60.0"
   ]
  },
  {
   "cell_type": "code",
   "execution_count": 138,
   "metadata": {
    "collapsed": false
   },
   "outputs": [
    {
     "name": "stdout",
     "output_type": "stream",
     "text": [
      "The amount of Irrelevant tweet: 20062\n",
      "The amount of Residential tweet: 3\n",
      "The amount of scams tweet: 4\n",
      "The amount of misc tweet: 6\n",
      "The amount of financial tweet: 5\n",
      "The amount of good_n_services tweet: 3\n",
      "The amount of government tweet: 1\n",
      "The amount of utilities tweet: 4\n",
      "The amount of travel tweet: 4\n"
     ]
    }
   ],
   "source": [
    "pred_fraud_tweet_index = []\n",
    "for a in range(9):\n",
    "    pred_fraud = [i for i,j in enumerate(svc_predict) if j==a]\n",
    "    print \"The amount of %s tweet: %i\" % (Index_list[a], len(pred_fraud))\n",
    "    pred_fraud_tweet_index.append(pred_fraud)"
   ]
  },
  {
   "cell_type": "code",
   "execution_count": 140,
   "metadata": {
    "collapsed": false,
    "scrolled": false
   },
   "outputs": [
    {
     "name": "stdout",
     "output_type": "stream",
     "text": [
      "\n",
      "\n",
      "___________________________________________________________________________________________________________\n",
      "Recognized as Residential tweet:\n",
      "\n",
      "\n",
      "@LeslieMarshall   white water, accused her husband of being a drug dealer and a murderer, they lived in a tiny house in Arkansas\n",
      "------\n",
      "work work work work work work there might be mild repercussions for my attacker if i stay at work work work work work work\n",
      "------\n",
      "Welp the whole apartment is clean, vacuumed spots that haven't been vacuumed in weeks I lie prolly since we moved in !\n",
      "------\n",
      "\n",
      "\n",
      "___________________________________________________________________________________________________________\n",
      "Recognized as scams tweet:\n",
      "\n",
      "\n",
      "@caz_yates these items were removed from @amazonIN India website not the US. The selling of these items is not illegal in the US, apparently\n",
      "------\n",
      "@UPSHelp a product was over valued and that's not my fault. Charging $23 in fees for a product worth less then that is not smart\n",
      "------\n",
      "@SkypeIndia  BEING IGNORED SINCE 31ST MARCH FOR 550 STOLEN FROM ME BY YOUR COMPANY WHER IS MY REFUND?SRX1334076494ID - Fraud Screenshot\n",
      "------\n",
      "@cjzero first comment after commercial on the intermission show he says it's sloppy and calls it shitty before they go to Millbury\n",
      "------\n",
      "\n",
      "\n",
      "___________________________________________________________________________________________________________\n",
      "Recognized as misc tweet:\n",
      "\n",
      "\n",
      "Umm, @google, r u really robocalling cell phones 2 sell ads? I just got one claiming to be a local sales rep for you. Please say it's fraud.\n",
      "------\n",
      "@tomsherwood and a lot of it has to do with illegal parking, random stops by cabs, cars picking people up, FEDEX deliveries. It's sick\n",
      "------\n",
      "How outrage DLIs Korean Dept federal employees were All were shocked, the Korean department filed a claim demanded a compensation lawsuit.\n",
      "------\n",
      "@DBloom451 You can use emojis all you want, but then there are tons of other CEOs who fit that description who are more qualified. Why him?\n",
      "------\n",
      "This #Sales #job might be a great fit for you: Sales Internship Program  New York State - https://t.co/ufyYlPbknN #Rochester, NY #Hiring\n",
      "------\n",
      "But dropped charges do not equate innocence. We know what #Ghomeshi did, so it's up to us to maintain that narrative.\n",
      "------\n",
      "\n",
      "\n",
      "___________________________________________________________________________________________________________\n",
      "Recognized as financial tweet:\n",
      "\n",
      "\n",
      "@kris1179 @RA_04NKS @Dean_Hurrell @Ben13ut in debt. He owes debt companies a lot of money. If I was a prick I'd direct his address to them\n",
      "------\n",
      "The local government is so sacked with debt from liberal policies it can't afford, in health care there is no promise to be paid\n",
      "------\n",
      "@OfficialY6FM Nothing sexy about taking investment dollars out of your own country. Donkey. Then put yourself on the radar of IRS ! \n",
      "------\n",
      "I will never understand why my dumbass decided to get a fake ID from ct ): I get scared to use it when I'm back home\n",
      "------\n",
      "If you live in a country with no student debt but pay taxes that's debt! Public debt is passed on to children.  Private debt is not.\n",
      "------\n",
      "\n",
      "\n",
      "___________________________________________________________________________________________________________\n",
      "Recognized as good_n_services tweet:\n",
      "\n",
      "\n",
      ".@AmericanFamAssc When signing the boycott you can register as many times you like with the same information so doubt the #'s #LGBT #Fraud\n",
      "------\n",
      "In summary: I educated the new pot store owner about MRAs, so he tore up the brochures he was given by the neighbouring MRA office.\n",
      "------\n",
      "@SpeakMediaLLC always try to save what is left after u get a product on sale. seeing u didnt buying it at regular price #MoneySmartFamilies\n",
      "------\n",
      "\n",
      "\n",
      "___________________________________________________________________________________________________________\n",
      "Recognized as government tweet:\n",
      "\n",
      "\n",
      "With the Macro exam defeated, Imperator Arcturus has implemented his coup de grce on the College Board. A statue is erected in his honor.\n",
      "------\n",
      "\n",
      "\n",
      "___________________________________________________________________________________________________________\n",
      "Recognized as utilities tweet:\n",
      "\n",
      "\n",
      "@virginmedia 40 minutes on the phone and all I got was a lie about when it'd be back working. fancy paying my phone data bill too yeah??\n",
      "------\n",
      "Twitter has blocked my account - give phone number and no code has been sent to phone. #ToryElectoralFraud censorship is very illegal\n",
      "------\n",
      "@AsurionCares ur contract with @verizon is deceptive. Consumer buys phone. Has no idea what the deductible is until 2 weeks after purchase\n",
      "------\n",
      "Keep Your Phone Charged Or You (Might) Pay More For Uber: If you ever needed proof of the value of the data t...... https://t.co/bj83950V4s\n",
      "------\n",
      "\n",
      "\n",
      "___________________________________________________________________________________________________________\n",
      "Recognized as travel tweet:\n",
      "\n",
      "\n",
      "I end up calling the police and telling them that I think my car was stolen and they tell me it was towed. \n",
      "------\n",
      "Truck 2 out of service for training at Millburn. I wanna be on Truck 2 or Engine 4 they get all the live assignments.\n",
      "------\n",
      "That feeling you get while humping your luggage out to a distant parking lot after all day meetings and air travel https://t.co/DLbKQ58OIx\n",
      "------\n",
      "I'm buying a used car from a used car dealership. How can i negotiate a better price? - https://t.co/n7fgL3fDFR #taxreturn #taxes #taxrefu\n",
      "------\n",
      "\n",
      "\n",
      "___________________________________________________________________________________________________________\n"
     ]
    }
   ],
   "source": [
    "for i,j in enumerate(pred_fraud_tweet_index):\n",
    "    if i != 0:\n",
    "        print \"Recognized as %s tweet:\" % (Index_list[i])\n",
    "        print \"\\n\"\n",
    "        for k in j:\n",
    "            print unselected_tweet[k]\n",
    "            print \"------\"\n",
    "    print \"\\n\"\n",
    "    print \"___________________________________________________________________________________________________________\""
   ]
  },
  {
   "cell_type": "markdown",
   "metadata": {},
   "source": [
    "From these 30 tweets that the model recognized as fraud relevent, we read through them and found 8 of them is real fraud and they all contain some company name."
   ]
  },
  {
   "cell_type": "markdown",
   "metadata": {},
   "source": [
    "### customize test demo\n"
   ]
  },
  {
   "cell_type": "code",
   "execution_count": 141,
   "metadata": {
    "collapsed": false,
    "scrolled": true
   },
   "outputs": [
    {
     "name": "stdout",
     "output_type": "stream",
     "text": [
      "The test tweet is recognized as Irrelevant tweet\n"
     ]
    }
   ],
   "source": [
    "### customize test demo\n",
    "\n",
    "test_demo = [\"I sent my money to my chase bank, it works really good! I love chase!\"]\n",
    "\n",
    "test_demo_transform = vectorizer.transform(test_demo)\n",
    "test_result = sv_2.predict(test_demo_transform.toarray())\n",
    "print \"The test tweet is recognized as %s tweet\" % Index_list[test_result[0]]"
   ]
  },
  {
   "cell_type": "code",
   "execution_count": 142,
   "metadata": {
    "collapsed": false,
    "scrolled": true
   },
   "outputs": [
    {
     "name": "stdout",
     "output_type": "stream",
     "text": [
      "The test tweet is recognized as financial tweet\n"
     ]
    }
   ],
   "source": [
    "test_demo = [\"I sent my money to my chase bank, but it results that I lose my money. I wanna talk with chase bank manager tomorrow\"]\n",
    "\n",
    "test_demo_transform = vectorizer.transform(test_demo)\n",
    "test_result = sv_2.predict(test_demo_transform.toarray())\n",
    "print \"The test tweet is recognized as %s tweet\" % Index_list[test_result[0]]"
   ]
  },
  {
   "cell_type": "code",
   "execution_count": 207,
   "metadata": {
    "collapsed": false
   },
   "outputs": [
    {
     "name": "stdout",
     "output_type": "stream",
     "text": [
      "The test tweet is recognized as Residential tweet\n"
     ]
    }
   ],
   "source": [
    "test_demo = [\"work\"]\n",
    "test_demo_transform = vectorizer.transform(test_demo)\n",
    "test_result = sv_2.predict(test_demo_transform.toarray())\n",
    "print \"The test tweet is recognized as %s tweet\" % Index_list[test_result[0]]"
   ]
  },
  {
   "cell_type": "code",
   "execution_count": 165,
   "metadata": {
    "collapsed": false
   },
   "outputs": [
    {
     "name": "stdout",
     "output_type": "stream",
     "text": [
      "[[1550, 12907, 14535], [26, 946, 16427, 16851], [803, 1667, 5242, 5673, 6434, 19603], [2332, 10121, 15397, 16985, 19526], [245, 3009, 16393], [8919], [4599, 5566, 12323, 12444], [508, 3636, 5273, 12756]]\n",
      "['Residential', 'scams', 'misc', 'financial', 'good_n_services', 'government', 'utilities', 'travel']\n"
     ]
    }
   ],
   "source": [
    "print pred_fraud_tweet_index[1:]\n",
    "print Index_list[1:]"
   ]
  },
  {
   "cell_type": "code",
   "execution_count": 171,
   "metadata": {
    "collapsed": false
   },
   "outputs": [
    {
     "data": {
      "text/plain": [
       "['How outrage DLIs Korean Dept federal employees were All were shocked, the Korean department filed a claim demanded a compensation lawsuit.']"
      ]
     },
     "execution_count": 171,
     "metadata": {},
     "output_type": "execute_result"
    }
   ],
   "source": [
    "test_demo = [unselected_tweet[5242]]\n",
    "test_demo"
   ]
  },
  {
   "cell_type": "code",
   "execution_count": 172,
   "metadata": {
    "collapsed": false
   },
   "outputs": [
    {
     "name": "stdout",
     "output_type": "stream",
     "text": [
      "The test tweet is recognized as misc tweet\n"
     ]
    }
   ],
   "source": [
    "test_demo_transform = vectorizer.transform(test_demo)\n",
    "test_result = sv_2.predict(test_demo_transform.toarray())\n",
    "print \"The test tweet is recognized as %s tweet\" % Index_list[test_result[0]]"
   ]
  },
  {
   "cell_type": "markdown",
   "metadata": {},
   "source": [
    "## get fraud relevent tweet"
   ]
  },
  {
   "cell_type": "code",
   "execution_count": 468,
   "metadata": {
    "collapsed": true
   },
   "outputs": [],
   "source": [
    "# filter method 1: only keep tweets with more than 10 'meaningful' word.\n",
    "def processing_tweet(path):\n",
    "    \n",
    "    start_time = time.time()\n",
    "    stopwords = nltk.corpus.stopwords.words('english')\n",
    "    new_tweet = pd.read_csv(path, header=-1)\n",
    "    print 'raw data amount =', len(new_tweet)\n",
    "    new_tweet.columns = ['tweet','date','retweet','retweet_count','tweetid','userid', 'follwer','place','geolocation','hashtage']\n",
    "    tweet_filter = new_tweet.loc[:,[\"tweet\",'date','geolocation']]\n",
    "    tweet_filter = tweet_filter.drop_duplicates(subset=['tweet'])\n",
    "    tweet_filter = tweet_filter.dropna(subset=['geolocation'])\n",
    "    tweet_filter = tweet_filter.dropna(subset=['tweet'])\n",
    "    tweet_filter.reset_index(drop=True, inplace=True)\n",
    "\n",
    "    word_len = []\n",
    "    for tweet in tweet_filter.tweet:\n",
    "        tempwordlist = []\n",
    "        for word in re.split('\\.|\\,|\\n| ', tweet):\n",
    "            if \"@\" not in word.lower() and word.lower() not in stopwords and len(word)>3 and 'http' not in word and '#' not in word:\n",
    "                tempwordlist.append(word)\n",
    "        word_len.append(len(tempwordlist))\n",
    "    tweet_filter.loc[:,'word_len'] = word_len\n",
    "    tweet_clean = tweet_filter[tweet_filter.word_len > 10]\n",
    "    tweet_clean.drop('word_len', axis = 1)\n",
    "\n",
    "    tweet_clean.reset_index(drop=True, inplace=True)\n",
    "    print 'cleaned data amount =', len(tweet_clean)\n",
    "    print \"guess relevent amount =\", len(tweet_clean)*0.00149\n",
    "    tweet_input = list(tweet_clean['tweet'])\n",
    "    alot_tweet = vectorizer.transform(tweet_input)\n",
    "    svc_predict_alot_tweet = sv_2.predict(alot_tweet.toarray())\n",
    "    tweet_clean.loc[:,'category'] = svc_predict_alot_tweet\n",
    "    tweet_result = tweet_clean.loc[tweet_clean['category'] > 0]\n",
    "    tweet_result.reset_index(drop=True, inplace=True)\n",
    "    print 'relevent amount =', len(tweet_result)\n",
    "    end_time = time.time()\n",
    "    print 'The processing took %.2f mins' % ((end_time-start_time)/60.0)\n",
    "    return tweet_result"
   ]
  },
  {
   "cell_type": "code",
   "execution_count": 469,
   "metadata": {
    "collapsed": false
   },
   "outputs": [
    {
     "name": "stdout",
     "output_type": "stream",
     "text": [
      "raw data amount = 7401520\n",
      "cleaned data amount = 6382\n",
      "guess relevent amount = 9.50918\n",
      "relevent amount = 13\n",
      "The processing took 2.46 mins\n"
     ]
    }
   ],
   "source": [
    "# run on tweets data 1\n",
    "processed_tweets_1 = processing_tweet(\"../data/fraud_list_svarmit_location.csv\")"
   ]
  },
  {
   "cell_type": "code",
   "execution_count": 475,
   "metadata": {
    "collapsed": false
   },
   "outputs": [
    {
     "name": "stdout",
     "output_type": "stream",
     "text": [
      "raw data amount = 3004579\n",
      "cleaned data amount = 7980\n",
      "guess relevent amount = 11.8902\n",
      "relevent amount = 13\n",
      "The processing took 1.49 mins\n"
     ]
    }
   ],
   "source": [
    "# run on tweets data 2\n",
    "processed_tweets_2 = processing_tweet(\"../data/u_v3.csv\")"
   ]
  },
  {
   "cell_type": "code",
   "execution_count": 479,
   "metadata": {
    "collapsed": false
   },
   "outputs": [
    {
     "name": "stdout",
     "output_type": "stream",
     "text": [
      "raw data amount = 405156\n",
      "cleaned data amount = 1085\n",
      "guess relevent amount = 1.61665\n",
      "relevent amount = 1\n",
      "The processing took 0.35 mins\n"
     ]
    }
   ],
   "source": [
    "# run on tweets data 3\n",
    "processed_tweets_3 = processing_tweet(\"../data/collect_all_NY_tweets.csv\")"
   ]
  },
  {
   "cell_type": "code",
   "execution_count": 579,
   "metadata": {
    "collapsed": true
   },
   "outputs": [],
   "source": [
    "# filter method 2: only keep tweets with more than 20 blankspace.\n",
    "\n",
    "def processing_tweet_update(path):\n",
    "    \n",
    "    start_time = time.time()\n",
    "    stopwords = nltk.corpus.stopwords.words('english')\n",
    "    new_tweet = pd.read_csv(path, header=-1)\n",
    "    print 'Tweets amount at begin =', len(new_tweet)\n",
    "    new_tweet.columns = ['tweet','date','retweet','retweet_count','tweetid','userid', 'follwer','place','geolocation','hashtage']    \n",
    "    tweet_filter = new_tweet.loc[:,[\"tweet\",'date','geolocation']]\n",
    "    tweet_filter = tweet_filter.drop_duplicates(subset=['tweet'])\n",
    "    print 'Tweets amount after dropping retweets =', len(tweet_filter)\n",
    "    tweet_filter = tweet_filter.dropna(subset=['geolocation'])\n",
    "    print 'Tweets amount after dropping nan geolocation tweets =', len(tweet_filter)\n",
    "    tweet_filter = tweet_filter.dropna(subset=['tweet'])\n",
    "    print 'Tweets amount after dropping empty tweets =', len(tweet_filter)\n",
    "    tweet_filter.reset_index(drop=True, inplace=True)\n",
    "    \n",
    "    tweet_doc = list(tweet_filter['tweet'])\n",
    "    selected_tweet = [i for i in range(len(tweet_filter)) if type(tweet_doc[i]) == str and len(tweet_doc[i].split()) > 20]\n",
    "    \n",
    "    tweet_clean = tweet_filter.iloc[selected_tweet,:]\n",
    "    tweet_clean.reset_index(drop=True, inplace=True)\n",
    "    print 'Tweets amount after dropping less than 20 words (model input) =', len(tweet_clean)\n",
    "    print \"Guess relevent tweets amount =\", len(tweet_clean)*0.0015\n",
    "    tweet_input = list(tweet_clean['tweet'])\n",
    "    alot_tweet = vectorizer.transform(tweet_input)\n",
    "    svc_predict_alot_tweet = sv_2.predict(alot_tweet.toarray())\n",
    "    tweet_clean.loc[:,'category'] = svc_predict_alot_tweet\n",
    "    tweet_result = tweet_clean.loc[tweet_clean['category'] > 0]\n",
    "    tweet_result.reset_index(drop=True, inplace=True)\n",
    "    print 'Model predicted relevent tweets amount =', len(tweet_result)\n",
    "    end_time = time.time()\n",
    "    print 'The processing took %.2f mins' % ((end_time-start_time)/60.0)\n",
    "    return tweet_result"
   ]
  },
  {
   "cell_type": "code",
   "execution_count": 580,
   "metadata": {
    "collapsed": false
   },
   "outputs": [
    {
     "name": "stdout",
     "output_type": "stream",
     "text": [
      "Tweets amount at begin = 7401520\n",
      "Tweets amount after dropping retweets = 4939934\n",
      "Tweets amount after dropping nan geolocation tweets = 211085\n",
      "Tweets amount after dropping empty tweets = 211085\n",
      "Tweets amount after dropping less than 20 words (model input) = 7061\n",
      "Guess relevent tweets amount = 10.5915\n",
      "Model predicted relevent tweets amount = 18\n",
      "The processing took 0.80 mins\n"
     ]
    }
   ],
   "source": [
    "processed_tweets_update_1 = processing_tweet_update(\"../data/fraud_list_svarmit_location.csv\")"
   ]
  },
  {
   "cell_type": "code",
   "execution_count": 484,
   "metadata": {
    "collapsed": false
   },
   "outputs": [
    {
     "name": "stdout",
     "output_type": "stream",
     "text": [
      "Tweets amount at begin = 3004579\n",
      "Tweets amount after dropping retweets = 2696141\n",
      "Tweets amount after dropping nan geolocation tweets = 275122\n",
      "Tweets amount after dropping less than 20 words (model input) = 8846\n",
      "Guess relevent tweets amount = 13.269\n",
      "Model predicted relevent tweets amount = 22\n",
      "The processing took 0.43 mins\n"
     ]
    }
   ],
   "source": [
    "processed_tweets_update_2 = processing_tweet_update(\"../data/u_v3.csv\")"
   ]
  },
  {
   "cell_type": "code",
   "execution_count": 485,
   "metadata": {
    "collapsed": false
   },
   "outputs": [
    {
     "name": "stdout",
     "output_type": "stream",
     "text": [
      "Tweets amount at begin = 405156\n",
      "Tweets amount after dropping retweets = 400409\n",
      "Tweets amount after dropping nan geolocation tweets = 43885\n",
      "Tweets amount after dropping less than 20 words (model input) = 1400\n",
      "Guess relevent tweets amount = 2.1\n",
      "Model predicted relevent tweets amount = 0\n",
      "The processing took 0.11 mins\n"
     ]
    }
   ],
   "source": [
    "processed_tweets_update_3 = processing_tweet_update(\"../data/collect_all_NY_tweets.csv\")"
   ]
  },
  {
   "cell_type": "code",
   "execution_count": 497,
   "metadata": {
    "collapsed": true
   },
   "outputs": [],
   "source": [
    "# filter method 3: only keep tweets with more than 10 blankspace.\n",
    "\n",
    "def processing_tweet_update_10(path):\n",
    "    \n",
    "    start_time = time.time()\n",
    "    stopwords = nltk.corpus.stopwords.words('english')\n",
    "    new_tweet = pd.read_csv(path, header=-1)\n",
    "    print 'Tweets amount at begin =', len(new_tweet)\n",
    "    new_tweet.columns = ['tweet','date','retweet','retweet_count','tweetid','userid', 'follwer','place','geolocation','hashtage']    \n",
    "    tweet_filter = new_tweet.loc[:,[\"tweet\",'date','geolocation']]\n",
    "    tweet_filter = tweet_filter.drop_duplicates(subset=['tweet'])\n",
    "    print 'Tweets amount after dropping retweets =', len(tweet_filter)\n",
    "    tweet_filter = tweet_filter.dropna(subset=['geolocation'])\n",
    "    print 'Tweets amount after dropping nan geolocation tweets =', len(tweet_filter)\n",
    "    tweet_filter = tweet_filter.dropna(subset=['tweet'])\n",
    "    tweet_filter.reset_index(drop=True, inplace=True)\n",
    "    \n",
    "    tweet_doc = list(tweet_filter['tweet'])\n",
    "    selected_tweet = [i for i in range(len(tweet_filter)) if type(tweet_doc[i]) == str and len(tweet_doc[i].split()) > 10]\n",
    "    tweet_clean = tweet_filter.iloc[selected_tweet,:]\n",
    "    tweet_clean.reset_index(drop=True, inplace=True)\n",
    "    print 'Tweets amount after dropping less than 10 words (model input) =', len(tweet_clean)\n",
    "    print \"Guess relevent tweets amount =\", len(tweet_clean)*0.0015\n",
    "    tweet_input = list(tweet_clean['tweet'])\n",
    "    alot_tweet = vectorizer.transform(tweet_input)\n",
    "    svc_predict_alot_tweet = sv_2.predict(alot_tweet.toarray())\n",
    "    tweet_clean.loc[:,'category'] = svc_predict_alot_tweet\n",
    "    tweet_result = tweet_clean.loc[tweet_clean['category'] > 0]\n",
    "    tweet_result.reset_index(drop=True, inplace=True)\n",
    "    print 'Model predicted relevent tweets amount =', len(tweet_result)\n",
    "    end_time = time.time()\n",
    "    print 'The processing took %.2f mins' % ((end_time-start_time)/60.0)\n",
    "    return tweet_result"
   ]
  },
  {
   "cell_type": "code",
   "execution_count": 498,
   "metadata": {
    "collapsed": false
   },
   "outputs": [
    {
     "name": "stdout",
     "output_type": "stream",
     "text": [
      "Tweets amount at begin = 7401520\n",
      "Tweets amount after dropping retweets = 4939934\n",
      "Tweets amount after dropping nan geolocation tweets = 211085\n",
      "Tweets amount after dropping less than 10 words (model input) = 155898\n",
      "Guess relevent tweets amount = 233.847\n",
      "Model predicted relevent tweets amount = 198\n",
      "The processing took 1.35 mins\n"
     ]
    }
   ],
   "source": [
    "processed_tweets_update_10_1 = processing_tweet_update_10(\"../data/fraud_list_svarmit_location.csv\")"
   ]
  },
  {
   "cell_type": "code",
   "execution_count": 499,
   "metadata": {
    "collapsed": false
   },
   "outputs": [
    {
     "name": "stdout",
     "output_type": "stream",
     "text": [
      "Tweets amount at begin = 3004579\n",
      "Tweets amount after dropping retweets = 2696141\n",
      "Tweets amount after dropping nan geolocation tweets = 275122\n",
      "Tweets amount after dropping less than 10 words (model input) = 204584\n",
      "Guess relevent tweets amount = 306.876\n",
      "Model predicted relevent tweets amount = 258\n",
      "The processing took 1.03 mins\n"
     ]
    }
   ],
   "source": [
    "processed_tweets_update_10_2 = processing_tweet_update_10(\"../data/u_v3.csv\")"
   ]
  },
  {
   "cell_type": "code",
   "execution_count": 500,
   "metadata": {
    "collapsed": false
   },
   "outputs": [
    {
     "name": "stdout",
     "output_type": "stream",
     "text": [
      "Tweets amount at begin = 405156\n",
      "Tweets amount after dropping retweets = 400409\n",
      "Tweets amount after dropping nan geolocation tweets = 43885\n",
      "Tweets amount after dropping less than 10 words (model input) = 31170\n",
      "Guess relevent tweets amount = 46.755\n",
      "Model predicted relevent tweets amount = 18\n",
      "The processing took 0.18 mins\n"
     ]
    }
   ],
   "source": [
    "processed_tweets_update_10_3 = processing_tweet_update_10(\"../data/collect_all_NY_tweets.csv\")"
   ]
  },
  {
   "cell_type": "code",
   "execution_count": 506,
   "metadata": {
    "collapsed": false,
    "scrolled": true
   },
   "outputs": [
    {
     "data": {
      "text/plain": [
       "287"
      ]
     },
     "execution_count": 506,
     "metadata": {},
     "output_type": "execute_result"
    }
   ],
   "source": [
    "# export the result\n",
    "tweet_result = pd.concat([processed_tweets_update_10_1,processed_tweets_update_10_2,processed_tweets_update_10_3])\n",
    "tweet_result = tweet_result.drop_duplicates(subset=['tweet'])\n",
    "len(tweet_result)"
   ]
  },
  {
   "cell_type": "code",
   "execution_count": 539,
   "metadata": {
    "collapsed": true
   },
   "outputs": [],
   "source": [
    "tweet_result.columns = ['tweet','date','location','category']"
   ]
  },
  {
   "cell_type": "code",
   "execution_count": 538,
   "metadata": {
    "collapsed": false
   },
   "outputs": [
    {
     "data": {
      "text/html": [
       "<div>\n",
       "<table border=\"1\" class=\"dataframe\">\n",
       "  <thead>\n",
       "    <tr style=\"text-align: right;\">\n",
       "      <th></th>\n",
       "      <th>tweet</th>\n",
       "      <th>date</th>\n",
       "      <th>location</th>\n",
       "      <th>category</th>\n",
       "    </tr>\n",
       "  </thead>\n",
       "  <tbody>\n",
       "    <tr>\n",
       "      <th>0</th>\n",
       "      <td>@MoreOnThisLater @ianmilligan1 is there explic...</td>\n",
       "      <td>Fri Apr 29 00:53:31 +0000 2016</td>\n",
       "      <td>[-79.4152108, 43.6358113]</td>\n",
       "      <td>2</td>\n",
       "    </tr>\n",
       "    <tr>\n",
       "      <th>1</th>\n",
       "      <td>@Newsweek instead of firing shots @realDonaldT...</td>\n",
       "      <td>Fri Apr 29 01:28:10 +0000 2016</td>\n",
       "      <td>[-73.768984, 40.6954158]</td>\n",
       "      <td>6</td>\n",
       "    </tr>\n",
       "    <tr>\n",
       "      <th>2</th>\n",
       "      <td>Look jeffery bought me a grateful dead card......</td>\n",
       "      <td>Fri Apr 29 01:53:26 +0000 2016</td>\n",
       "      <td>[-76.10361011, 40.51323168]</td>\n",
       "      <td>5</td>\n",
       "    </tr>\n",
       "    <tr>\n",
       "      <th>3</th>\n",
       "      <td>Such a long day..poco de gym y a relajarnos en...</td>\n",
       "      <td>Fri Apr 29 03:01:20 +0000 2016</td>\n",
       "      <td>[-75.62092645, 40.57873674]</td>\n",
       "      <td>5</td>\n",
       "    </tr>\n",
       "    <tr>\n",
       "      <th>4</th>\n",
       "      <td>That's why I need all the energy you bring to ...</td>\n",
       "      <td>Fri Apr 29 04:16:44 +0000 2016</td>\n",
       "      <td>[-73.93111759, 40.85834776]</td>\n",
       "      <td>7</td>\n",
       "    </tr>\n",
       "  </tbody>\n",
       "</table>\n",
       "</div>"
      ],
      "text/plain": [
       "                                               tweet  \\\n",
       "0  @MoreOnThisLater @ianmilligan1 is there explic...   \n",
       "1  @Newsweek instead of firing shots @realDonaldT...   \n",
       "2  Look jeffery bought me a grateful dead card......   \n",
       "3  Such a long day..poco de gym y a relajarnos en...   \n",
       "4  That's why I need all the energy you bring to ...   \n",
       "\n",
       "                             date                     location  category  \n",
       "0  Fri Apr 29 00:53:31 +0000 2016    [-79.4152108, 43.6358113]         2  \n",
       "1  Fri Apr 29 01:28:10 +0000 2016     [-73.768984, 40.6954158]         6  \n",
       "2  Fri Apr 29 01:53:26 +0000 2016  [-76.10361011, 40.51323168]         5  \n",
       "3  Fri Apr 29 03:01:20 +0000 2016  [-75.62092645, 40.57873674]         5  \n",
       "4  Fri Apr 29 04:16:44 +0000 2016  [-73.93111759, 40.85834776]         7  "
      ]
     },
     "execution_count": 538,
     "metadata": {},
     "output_type": "execute_result"
    }
   ],
   "source": [
    "tweet_result.head()"
   ]
  },
  {
   "cell_type": "code",
   "execution_count": 554,
   "metadata": {
    "collapsed": false
   },
   "outputs": [
    {
     "data": {
      "text/plain": [
       "287"
      ]
     },
     "execution_count": 554,
     "metadata": {},
     "output_type": "execute_result"
    }
   ],
   "source": [
    "# import the result for geo spatial join with county level \n",
    "tweet_result.to_csv('tweet_result_for_geo.csv')\n",
    "len(tweet_result)"
   ]
  },
  {
   "cell_type": "code",
   "execution_count": 532,
   "metadata": {
    "collapsed": false
   },
   "outputs": [],
   "source": [
    "# import the result above geo spatial join with county level \n",
    "tweet_result_geo = pd.read_csv('../data/counties_tweets.csv')"
   ]
  },
  {
   "cell_type": "code",
   "execution_count": 544,
   "metadata": {
    "collapsed": false
   },
   "outputs": [],
   "source": [
    "# tweet_result_geo.columns"
   ]
  },
  {
   "cell_type": "code",
   "execution_count": 541,
   "metadata": {
    "collapsed": true
   },
   "outputs": [],
   "source": [
    "tweet_result_geo = tweet_result_geo.loc[:,['tweet','date','GEOID','category']]"
   ]
  },
  {
   "cell_type": "code",
   "execution_count": 542,
   "metadata": {
    "collapsed": false
   },
   "outputs": [
    {
     "data": {
      "text/html": [
       "<div>\n",
       "<table border=\"1\" class=\"dataframe\">\n",
       "  <thead>\n",
       "    <tr style=\"text-align: right;\">\n",
       "      <th></th>\n",
       "      <th>tweet</th>\n",
       "      <th>date</th>\n",
       "      <th>GEOID</th>\n",
       "      <th>category</th>\n",
       "    </tr>\n",
       "  </thead>\n",
       "  <tbody>\n",
       "    <tr>\n",
       "      <th>0</th>\n",
       "      <td>@Newsweek instead of firing shots @realDonaldT...</td>\n",
       "      <td>Fri Apr 29 01:28:10 +0000 2016</td>\n",
       "      <td>36081</td>\n",
       "      <td>6</td>\n",
       "    </tr>\n",
       "    <tr>\n",
       "      <th>1</th>\n",
       "      <td>Totally feel awful today. So let's get to pump...</td>\n",
       "      <td>Fri Apr 29 15:18:08 +0000 2016</td>\n",
       "      <td>36081</td>\n",
       "      <td>5</td>\n",
       "    </tr>\n",
       "    <tr>\n",
       "      <th>2</th>\n",
       "      <td>Marketing Campaign Manager - RMS Computer Corp...</td>\n",
       "      <td>Fri Apr 29 19:20:14 +0000 2016</td>\n",
       "      <td>36081</td>\n",
       "      <td>2</td>\n",
       "    </tr>\n",
       "    <tr>\n",
       "      <th>3</th>\n",
       "      <td>If you have had a joint replacement and taken ...</td>\n",
       "      <td>Wed May 11 15:41:47 +0000 2016</td>\n",
       "      <td>36081</td>\n",
       "      <td>5</td>\n",
       "    </tr>\n",
       "    <tr>\n",
       "      <th>4</th>\n",
       "      <td>Time for Zumba session number two! #gymhopping...</td>\n",
       "      <td>Wed May 11 23:07:38 +0000 2016</td>\n",
       "      <td>36081</td>\n",
       "      <td>5</td>\n",
       "    </tr>\n",
       "  </tbody>\n",
       "</table>\n",
       "</div>"
      ],
      "text/plain": [
       "                                               tweet  \\\n",
       "0  @Newsweek instead of firing shots @realDonaldT...   \n",
       "1  Totally feel awful today. So let's get to pump...   \n",
       "2  Marketing Campaign Manager - RMS Computer Corp...   \n",
       "3  If you have had a joint replacement and taken ...   \n",
       "4  Time for Zumba session number two! #gymhopping...   \n",
       "\n",
       "                             date  GEOID  category  \n",
       "0  Fri Apr 29 01:28:10 +0000 2016  36081         6  \n",
       "1  Fri Apr 29 15:18:08 +0000 2016  36081         5  \n",
       "2  Fri Apr 29 19:20:14 +0000 2016  36081         2  \n",
       "3  Wed May 11 15:41:47 +0000 2016  36081         5  \n",
       "4  Wed May 11 23:07:38 +0000 2016  36081         5  "
      ]
     },
     "execution_count": 542,
     "metadata": {},
     "output_type": "execute_result"
    }
   ],
   "source": [
    "tweet_result_geo.head()"
   ]
  },
  {
   "cell_type": "code",
   "execution_count": 552,
   "metadata": {
    "collapsed": false
   },
   "outputs": [
    {
     "data": {
      "text/plain": [
       "244"
      ]
     },
     "execution_count": 552,
     "metadata": {},
     "output_type": "execute_result"
    }
   ],
   "source": [
    "len(tweet_result_geo)"
   ]
  },
  {
   "cell_type": "code",
   "execution_count": 546,
   "metadata": {
    "collapsed": true
   },
   "outputs": [],
   "source": [
    "list_tweet = list(tweet_result_geo['tweet'])"
   ]
  },
  {
   "cell_type": "code",
   "execution_count": 548,
   "metadata": {
    "collapsed": true
   },
   "outputs": [],
   "source": [
    "# search firm name in tweets\n",
    "def tweetSearch(list_of_tweets):\n",
    "        \n",
    "    #Load Firmlist and brake into all firms that are more and less than 3 chareters long\n",
    "    #If three chareters or less, look for token matches\n",
    "    #If 4 charteres or more look for compelte string matches\n",
    "    #Remove manual words\n",
    "    firmlist = pd.read_pickle('firmlist_update.pkl')\n",
    "    \n",
    "    longfirms = firmlist[firmlist.length >= 4]\n",
    "    shortfirms = firmlist[firmlist.length <= 3]\n",
    "    longsearch = list(longfirms.search)\n",
    "    shortsearch = list(shortfirms.search)\n",
    "\n",
    "    shortfirms_strip = ['ear', 'ace', 'seg', 'les']\n",
    "    longfirms_strip = ['money', 'chris', 'none', 'tcar', 'same', 'test', \"don'tknow\", \n",
    "                       'peter', 'various', 'unknown', 'charged', 'brooklyn']\n",
    "\n",
    "    for word in shortfirms_strip:\n",
    "        if word in shortsearch:\n",
    "            shortsearch.remove(word)\n",
    "    for word in longfirms_strip:\n",
    "        if word in longsearch:\n",
    "            longsearch.remove(word)\n",
    "    \n",
    "    \n",
    "    \n",
    "    #get rid of twitter handles, whitespace, retweet=RT, and make all lowercase\n",
    "    #replace these cleaned tweets with the old tweets\n",
    "    #drop duplicates\n",
    "    tweets = pd.DataFrame(list_of_tweets, columns = ['tweet'])\n",
    "    strippedTweets = []   \n",
    "    for tweet in tweets.tweet:\n",
    "            tempTweet = \" \".join(filter(lambda x:x[0]!='@', tweet.split()))\n",
    "            tempTweet = tempTweet.replace(' ', \"\")\n",
    "            tempTweet = tempTweet.replace('RT', \"\")\n",
    "            tempTweet = tempTweet.lower()\n",
    "            strippedTweets.append(tempTweet)\n",
    "    tweets['striped_tweet'] = strippedTweets\n",
    "    tweets.drop_duplicates(subset = 'striped_tweet', inplace = True)\n",
    "    tweets.reset_index(drop = True, inplace = True)\n",
    "    \n",
    "    #Create tokens out of tweets\n",
    "    tokenized = []\n",
    "    for tweet in tweets.tweet:\n",
    "        tokenized.append(tweet.split())\n",
    "    tweets['tokens'] = tokenized\n",
    "    \n",
    "    #find tweets with firm names within the string\n",
    "    jackpot_tweet = []\n",
    "    jackpot_matches = []\n",
    "    jackpot_cat = []\n",
    "    for j in range(len(tweets.tokens)):\n",
    "        if len([i for i in shortsearch if i in tweets.tokens[j]]) > 0:\n",
    "            tempmatches = [i for i in shortsearch if i in tweets.tokens[j]]\n",
    "            jackpot_matches.append(set(tempmatches))\n",
    "            jackpot_tweet.append(tweets.tweet[j])\n",
    "\n",
    "    for tweet in tweets.striped_tweet:\n",
    "        if any(x in tweet for x in longsearch):\n",
    "            tempmatches = {x for x in longsearch if x in tweet}\n",
    "            jackpot_matches.append(tempmatches)\n",
    "            jackpot_tweet.append(tweets.loc[tweets['striped_tweet'] == tweet].tweet.iloc[0])\n",
    "            \n",
    "    jackpot= pd.DataFrame(jackpot_tweet, columns = ['tweet'])\n",
    "    jackpot['matches'] = jackpot_matches\n",
    "    \n",
    "    now_its_a_list = []\n",
    "    for i in jackpot.matches:\n",
    "        if len (list(i)) > 0:\n",
    "            now_its_a_list.append(list(i))\n",
    "        else:\n",
    "            now_its_a_list.append(['unknown'])\n",
    "    jackpot['matches'] = now_its_a_list\n",
    "    \n",
    "    return (list(jackpot.matches))"
   ]
  },
  {
   "cell_type": "code",
   "execution_count": 549,
   "metadata": {
    "collapsed": false
   },
   "outputs": [],
   "source": [
    "list_firm = tweetSearch(list_tweet)\n",
    "list_firm_one = [i[0] for i in list_firm]\n",
    "tweet_result_geo.loc[:,'firm'] = list_firm_one"
   ]
  },
  {
   "cell_type": "code",
   "execution_count": 573,
   "metadata": {
    "collapsed": true
   },
   "outputs": [],
   "source": [
    "tweet_result_geo.loc[:,'firm'] = list_firm_one"
   ]
  },
  {
   "cell_type": "code",
   "execution_count": 566,
   "metadata": {
    "collapsed": false
   },
   "outputs": [
    {
     "name": "stdout",
     "output_type": "stream",
     "text": [
      "[['24hourfitness'], ['nycha'], ['planetfitness'], ['blinkfitness'], ['libertymutual', 'libertymutualinsurance'], ['citizensbank'], ['citizensbank'], ['citizensbank'], ['aspendental'], ['citizensbank'], ['enterprise'], ['customerservice', 'fedex'], ['newyorksportsclub'], ['chase'], ['chase'], ['customerservice', 'fedex'], ['citizensbank'], ['samsung'], ['kevin'], ['timewarner'], ['newyorksportsclub'], ['planetfitness'], ['blinkfitness'], ['aspendental'], ['libertymutual', 'libertymutualinsurance'], [\"macy's\"], ['aspendental'], ['allstateinsurance', 'edfinancial', 'allstate'], ['allstateinsurance', 'edfinancial', 'allstate'], ['worldgym'], ['tdbank'], ['timewarner'], ['citizensbank'], ['timewarner'], ['libertymutual', 'libertymutualinsurance'], ['citizensbank'], ['libertymutual', 'libertymutualinsurance'], ['blinkfitness'], ['tdbank'], ['lafitness'], ['tdbank'], ['citizensbank'], ['tdbank'], ['citizensbank'], ['aspendental'], ['retrofitness'], ['libertymutual', 'libertymutualinsurance'], ['verizonwireless'], ['fitness19'], ['allstateinsurance', 'edfinancial', 'allstate'], ['aspendental'], ['metropcs', 't-mobile'], ['aspendental'], ['retrofitness'], ['libertymutual', 'libertymutualinsurance'], ['toyota'], ['aspendental'], ['libertymutual', 'libertymutualinsurance'], ['aspendental'], ['aspendental'], ['allstateinsurance', 'edfinancial', 'allstate'], ['aspendental'], ['allstateinsurance', 'allstate'], ['allstateinsurance', 'allstate'], ['phonescam'], ['allstateinsurance', 'edfinancial', 'allstate'], ['tagged']]\n",
      "67\n"
     ]
    }
   ],
   "source": [
    "remain_company = [i for i in list_firm if i != ['unknown']]\n",
    "print remain_company\n",
    "print len(remain_company)"
   ]
  },
  {
   "cell_type": "code",
   "execution_count": 575,
   "metadata": {
    "collapsed": false
   },
   "outputs": [],
   "source": [
    "# export the final result of tweet for build the final table for viz\n",
    "tweet_result_geo.to_csv('tweets_result.csv')"
   ]
  },
  {
   "cell_type": "code",
   "execution_count": 582,
   "metadata": {
    "collapsed": false
   },
   "outputs": [
    {
     "data": {
      "text/html": [
       "<div>\n",
       "<table border=\"1\" class=\"dataframe\">\n",
       "  <thead>\n",
       "    <tr style=\"text-align: right;\">\n",
       "      <th></th>\n",
       "      <th>tweet</th>\n",
       "      <th>date</th>\n",
       "      <th>GEOID</th>\n",
       "      <th>category</th>\n",
       "      <th>firm</th>\n",
       "    </tr>\n",
       "  </thead>\n",
       "  <tbody>\n",
       "    <tr>\n",
       "      <th>0</th>\n",
       "      <td>@Newsweek instead of firing shots @realDonaldT...</td>\n",
       "      <td>Fri Apr 29 01:28:10 +0000 2016</td>\n",
       "      <td>36081</td>\n",
       "      <td>6</td>\n",
       "      <td>unknown</td>\n",
       "    </tr>\n",
       "    <tr>\n",
       "      <th>1</th>\n",
       "      <td>Totally feel awful today. So let's get to pump...</td>\n",
       "      <td>Fri Apr 29 15:18:08 +0000 2016</td>\n",
       "      <td>36081</td>\n",
       "      <td>5</td>\n",
       "      <td>unknown</td>\n",
       "    </tr>\n",
       "    <tr>\n",
       "      <th>2</th>\n",
       "      <td>Marketing Campaign Manager - RMS Computer Corp...</td>\n",
       "      <td>Fri Apr 29 19:20:14 +0000 2016</td>\n",
       "      <td>36081</td>\n",
       "      <td>2</td>\n",
       "      <td>unknown</td>\n",
       "    </tr>\n",
       "    <tr>\n",
       "      <th>3</th>\n",
       "      <td>If you have had a joint replacement and taken ...</td>\n",
       "      <td>Wed May 11 15:41:47 +0000 2016</td>\n",
       "      <td>36081</td>\n",
       "      <td>5</td>\n",
       "      <td>unknown</td>\n",
       "    </tr>\n",
       "    <tr>\n",
       "      <th>4</th>\n",
       "      <td>Time for Zumba session number two! #gymhopping...</td>\n",
       "      <td>Wed May 11 23:07:38 +0000 2016</td>\n",
       "      <td>36081</td>\n",
       "      <td>5</td>\n",
       "      <td>24hourfitness</td>\n",
       "    </tr>\n",
       "  </tbody>\n",
       "</table>\n",
       "</div>"
      ],
      "text/plain": [
       "                                               tweet  \\\n",
       "0  @Newsweek instead of firing shots @realDonaldT...   \n",
       "1  Totally feel awful today. So let's get to pump...   \n",
       "2  Marketing Campaign Manager - RMS Computer Corp...   \n",
       "3  If you have had a joint replacement and taken ...   \n",
       "4  Time for Zumba session number two! #gymhopping...   \n",
       "\n",
       "                             date  GEOID  category           firm  \n",
       "0  Fri Apr 29 01:28:10 +0000 2016  36081         6        unknown  \n",
       "1  Fri Apr 29 15:18:08 +0000 2016  36081         5        unknown  \n",
       "2  Fri Apr 29 19:20:14 +0000 2016  36081         2        unknown  \n",
       "3  Wed May 11 15:41:47 +0000 2016  36081         5        unknown  \n",
       "4  Wed May 11 23:07:38 +0000 2016  36081         5  24hourfitness  "
      ]
     },
     "execution_count": 582,
     "metadata": {},
     "output_type": "execute_result"
    }
   ],
   "source": [
    "tweet_result_geo.head()"
   ]
  },
  {
   "cell_type": "code",
   "execution_count": 587,
   "metadata": {
    "collapsed": false,
    "scrolled": false
   },
   "outputs": [
    {
     "name": "stdout",
     "output_type": "stream",
     "text": [
      "['24hourfitness'] Time for Zumba session number two! #gymhopping #fitness (@ 24 Hour Fitness in Kew Gardens, NY) https://t.co/xQI4YBOSwm\n",
      "['nycha'] @RichCimini any chance Jets can pick up Slauson again, cut by the Bears..\n",
      "['planetfitness'] A grim day at the gym for sure. A grim gym. #blackmetal #watain @ Planet Fitness - Allentown https://t.co/P5Z2nBK4Up\n",
      "['blinkfitness'] Me at the #gym rn like  #justdoit #fitchick #swole #muscles #squats @ Blink Fitness NoHo https://t.co/QwS5Y5fT3u\n",
      "['libertymutual', 'libertymutualinsurance'] #Sales #Job alert: Sales Internship Program  New York State | Liberty Mutual Insurance | #NewYork, NY https://t.co/HnENihIZdO #Jobs\n",
      "['citizensbank'] Citizens Bank #Banking #Job: Mortgage Loan Officer (#NewYork, NY) https://t.co/qwyXPWkMiq #cfgjobs #Jobs #Hiring #CareerArc\n",
      "['citizensbank'] Citizens Bank #Banking #Job: Mortgage Loan Officer (#NewYork, NY) https://t.co/w3o9NJuyCq #cfgjobs #Jobs #Hiring #CareerArc\n",
      "['citizensbank'] Citizens Bank #Banking #Job: Mortgage Loan Officer (#NewYork, NY) https://t.co/h4NvaJwLw8 #cfgjobs #Jobs #Hiring #CareerArc\n",
      "['aspendental'] #Healthcare #Job in #NewYorkCity, NY: Associate Dentist  DDS / DMD (General Dental Practice) at Aspen Dental https://t.co/DlUW45xQCQ #Jobs\n",
      "['citizensbank'] Mortgage Loan Officer - Citizens Bank: (#NewYork, NY) https://t.co/2QEHGrfypx #Banking #cfgjobs #Job #Jobs #Hiring #CareerArc\n",
      "['enterprise'] AAA reports spike in gas prices, expects heavy holiday travel - Enterprise News https://t.co/ER6VXAfSkP #business\n",
      "['customerservice', 'fedex'] FedEx Office #Sales #Job: Sales Customer Service Spec (#NewYork, NY) https://t.co/4CoYxY1e5i #Jobs #Hiring #CareerArc\n"
     ]
    }
   ],
   "source": [
    "# take a look on the firm search result\n",
    "for i in range(244)[:50]:\n",
    "    if list_firm[i] != ['unknown']:\n",
    "        print list_firm[i], list_tweet[i]"
   ]
  },
  {
   "cell_type": "markdown",
   "metadata": {},
   "source": [
    "# Future Work: Improve the model by adding fraud tweet"
   ]
  },
  {
   "cell_type": "code",
   "execution_count": 569,
   "metadata": {
    "collapsed": true
   },
   "outputs": [],
   "source": [
    "fraud_tweet = []"
   ]
  },
  {
   "cell_type": "code",
   "execution_count": 570,
   "metadata": {
    "collapsed": true
   },
   "outputs": [],
   "source": [
    "fraud_tweet.append('@FinnGirlJess It could have been fixed here, but my health insurance is Greek, &amp; reimbursement would be an endless bureaucratic nightmare.')"
   ]
  }
 ],
 "metadata": {
  "kernelspec": {
   "display_name": "Python 2",
   "language": "python",
   "name": "python2"
  },
  "language_info": {
   "codemirror_mode": {
    "name": "ipython",
    "version": 2
   },
   "file_extension": ".py",
   "mimetype": "text/x-python",
   "name": "python",
   "nbconvert_exporter": "python",
   "pygments_lexer": "ipython2",
   "version": "2.7.12"
  }
 },
 "nbformat": 4,
 "nbformat_minor": 0
}
