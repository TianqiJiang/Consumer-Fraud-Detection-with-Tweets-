{
 "cells": [
  {
   "cell_type": "markdown",
   "metadata": {},
   "source": [
    "# Classification of Text Documents with Topic Model "
   ]
  },
  {
   "cell_type": "code",
   "execution_count": 93,
   "metadata": {
    "collapsed": false
   },
   "outputs": [],
   "source": [
    "import nltk\n",
    "import pandas as pd\n",
    "import numpy as np\n",
    "from nltk.corpus import stopwords\n",
    "import gensim\n",
    "from gensim import corpora, models, similarities\n",
    "import re\n",
    "import random\n",
    "import time\n",
    "import pickle\n",
    "\n",
    "import sklearn\n",
    "from sklearn.cross_validation import train_test_split, cross_val_score\n",
    "from sklearn.naive_bayes import GaussianNB\n",
    "from sklearn.metrics import precision_score, recall_score\n",
    "from sklearn.svm import SVC\n",
    "from sklearn.ensemble import RandomForestClassifier\n",
    "from sklearn.neighbors import KNeighborsClassifier\n",
    "\n",
    "import matplotlib.pyplot as plt\n",
    "%matplotlib inline"
   ]
  },
  {
   "cell_type": "code",
   "execution_count": 2,
   "metadata": {
    "collapsed": false
   },
   "outputs": [
    {
     "data": {
      "text/plain": [
       "35675"
      ]
     },
     "execution_count": 2,
     "metadata": {},
     "output_type": "execute_result"
    }
   ],
   "source": [
    "# import labeled oag data with labled tweets (all tweets labled as 0--nonfraud)\n",
    "oag_data = pd.read_pickle('../data/tweets_and_OAG_corpus-1.pkl')\n",
    "len(oag_data)"
   ]
  },
  {
   "cell_type": "code",
   "execution_count": 3,
   "metadata": {
    "collapsed": false
   },
   "outputs": [],
   "source": [
    "oag_data = oag_data[oag_data.loc[:,'cusp_code']!=1]\n",
    "oag_data['cusp_code'] = oag_data['cusp_code'].replace(0,1)\n",
    "oag_data['cusp_code'] = oag_data['cusp_code'].replace(9999,0)"
   ]
  },
  {
   "cell_type": "code",
   "execution_count": 4,
   "metadata": {
    "collapsed": false,
    "scrolled": true
   },
   "outputs": [
    {
     "data": {
      "text/html": [
       "<div>\n",
       "<table border=\"1\" class=\"dataframe\">\n",
       "  <thead>\n",
       "    <tr style=\"text-align: right;\">\n",
       "      <th></th>\n",
       "      <th>original_Index</th>\n",
       "      <th>documents</th>\n",
       "      <th>fraud</th>\n",
       "      <th>cusp_code</th>\n",
       "      <th>cleanedDocs</th>\n",
       "      <th>doc_len</th>\n",
       "    </tr>\n",
       "  </thead>\n",
       "  <tbody>\n",
       "    <tr>\n",
       "      <th>0</th>\n",
       "      <td>0</td>\n",
       "      <td>I attempted to purchase two tickets to see ---...</td>\n",
       "      <td>1</td>\n",
       "      <td>2</td>\n",
       "      <td>[attempted, purchase, tickets, -----, Oyster, ...</td>\n",
       "      <td>77</td>\n",
       "    </tr>\n",
       "    <tr>\n",
       "      <th>1</th>\n",
       "      <td>1</td>\n",
       "      <td>Note User indicated supporting documents will ...</td>\n",
       "      <td>1</td>\n",
       "      <td>4</td>\n",
       "      <td>[Note, User, indicated, supporting, documents,...</td>\n",
       "      <td>182</td>\n",
       "    </tr>\n",
       "    <tr>\n",
       "      <th>2</th>\n",
       "      <td>2</td>\n",
       "      <td>Note User indicated supporting documents will ...</td>\n",
       "      <td>1</td>\n",
       "      <td>8</td>\n",
       "      <td>[Note, User, indicated, supporting, documents,...</td>\n",
       "      <td>30</td>\n",
       "    </tr>\n",
       "    <tr>\n",
       "      <th>3</th>\n",
       "      <td>3</td>\n",
       "      <td>I contracted with this company ----- for a mov...</td>\n",
       "      <td>1</td>\n",
       "      <td>2</td>\n",
       "      <td>[contracted, company, -----, move, -----, ----...</td>\n",
       "      <td>239</td>\n",
       "    </tr>\n",
       "    <tr>\n",
       "      <th>4</th>\n",
       "      <td>4</td>\n",
       "      <td>I had to contact them including - personal tim...</td>\n",
       "      <td>1</td>\n",
       "      <td>5</td>\n",
       "      <td>[contact, including, personal, time, consuming...</td>\n",
       "      <td>25</td>\n",
       "    </tr>\n",
       "  </tbody>\n",
       "</table>\n",
       "</div>"
      ],
      "text/plain": [
       "   original_Index                                          documents  fraud  \\\n",
       "0               0  I attempted to purchase two tickets to see ---...      1   \n",
       "1               1  Note User indicated supporting documents will ...      1   \n",
       "2               2  Note User indicated supporting documents will ...      1   \n",
       "3               3  I contracted with this company ----- for a mov...      1   \n",
       "4               4  I had to contact them including - personal tim...      1   \n",
       "\n",
       "   cusp_code                                        cleanedDocs  doc_len  \n",
       "0          2  [attempted, purchase, tickets, -----, Oyster, ...       77  \n",
       "1          4  [Note, User, indicated, supporting, documents,...      182  \n",
       "2          8  [Note, User, indicated, supporting, documents,...       30  \n",
       "3          2  [contracted, company, -----, move, -----, ----...      239  \n",
       "4          5  [contact, including, personal, time, consuming...       25  "
      ]
     },
     "execution_count": 4,
     "metadata": {},
     "output_type": "execute_result"
    }
   ],
   "source": [
    "oag_data.head()"
   ]
  },
  {
   "cell_type": "code",
   "execution_count": 206,
   "metadata": {
    "collapsed": false
   },
   "outputs": [],
   "source": [
    "# lenlist = [len(i) for i in list(oag_data.cleanedDocs)]\n",
    "# print min(lenlist)\n",
    "# print np.mean(lenlist)"
   ]
  },
  {
   "cell_type": "code",
   "execution_count": 6,
   "metadata": {
    "collapsed": false
   },
   "outputs": [
    {
     "data": {
      "text/plain": [
       "34217"
      ]
     },
     "execution_count": 6,
     "metadata": {},
     "output_type": "execute_result"
    }
   ],
   "source": [
    "len(oag_data)"
   ]
  },
  {
   "cell_type": "code",
   "execution_count": 7,
   "metadata": {
    "collapsed": false
   },
   "outputs": [
    {
     "name": "stdout",
     "output_type": "stream",
     "text": [
      "[1 0]\n",
      "[2 4 8 5 7 1 3 6 0]\n"
     ]
    }
   ],
   "source": [
    "print oag_data.fraud.unique()\n",
    "print oag_data.cusp_code.unique()"
   ]
  },
  {
   "cell_type": "code",
   "execution_count": 8,
   "metadata": {
    "collapsed": false
   },
   "outputs": [],
   "source": [
    "Categoary_Index = ['Irrelevant', 'Residential', 'scams', 'misc', 'financial', 'good_n_services', 'government', 'utilities', 'travel']"
   ]
  },
  {
   "cell_type": "code",
   "execution_count": 9,
   "metadata": {
    "collapsed": false
   },
   "outputs": [
    {
     "data": {
      "text/html": [
       "<div>\n",
       "<table border=\"1\" class=\"dataframe\">\n",
       "  <thead>\n",
       "    <tr style=\"text-align: right;\">\n",
       "      <th></th>\n",
       "      <th>Count</th>\n",
       "      <th>Categoary</th>\n",
       "    </tr>\n",
       "    <tr>\n",
       "      <th>cusp_code</th>\n",
       "      <th></th>\n",
       "      <th></th>\n",
       "    </tr>\n",
       "  </thead>\n",
       "  <tbody>\n",
       "    <tr>\n",
       "      <th>0</th>\n",
       "      <td>25337</td>\n",
       "      <td>Irrelevant</td>\n",
       "    </tr>\n",
       "    <tr>\n",
       "      <th>1</th>\n",
       "      <td>792</td>\n",
       "      <td>Residential</td>\n",
       "    </tr>\n",
       "    <tr>\n",
       "      <th>2</th>\n",
       "      <td>1123</td>\n",
       "      <td>scams</td>\n",
       "    </tr>\n",
       "    <tr>\n",
       "      <th>3</th>\n",
       "      <td>1837</td>\n",
       "      <td>misc</td>\n",
       "    </tr>\n",
       "    <tr>\n",
       "      <th>4</th>\n",
       "      <td>1363</td>\n",
       "      <td>financial</td>\n",
       "    </tr>\n",
       "    <tr>\n",
       "      <th>5</th>\n",
       "      <td>1253</td>\n",
       "      <td>good_n_services</td>\n",
       "    </tr>\n",
       "    <tr>\n",
       "      <th>6</th>\n",
       "      <td>259</td>\n",
       "      <td>government</td>\n",
       "    </tr>\n",
       "    <tr>\n",
       "      <th>7</th>\n",
       "      <td>828</td>\n",
       "      <td>utilities</td>\n",
       "    </tr>\n",
       "    <tr>\n",
       "      <th>8</th>\n",
       "      <td>1425</td>\n",
       "      <td>travel</td>\n",
       "    </tr>\n",
       "  </tbody>\n",
       "</table>\n",
       "</div>"
      ],
      "text/plain": [
       "           Count        Categoary\n",
       "cusp_code                        \n",
       "0          25337       Irrelevant\n",
       "1            792      Residential\n",
       "2           1123            scams\n",
       "3           1837             misc\n",
       "4           1363        financial\n",
       "5           1253  good_n_services\n",
       "6            259       government\n",
       "7            828        utilities\n",
       "8           1425           travel"
      ]
     },
     "execution_count": 9,
     "metadata": {},
     "output_type": "execute_result"
    }
   ],
   "source": [
    "# Index lable\n",
    "Index_table = oag_data[['cusp_code','fraud']].groupby(['cusp_code']).count().rename(columns={'fraud': 'Count'})\n",
    "Index_table['Categoary'] = Categoary_Index\n",
    "Index_table"
   ]
  },
  {
   "cell_type": "code",
   "execution_count": 10,
   "metadata": {
    "collapsed": true
   },
   "outputs": [],
   "source": [
    "# tokenize\n",
    "doc_tokenize = list(oag_data['cleanedDocs'])\n",
    "doc_tokenize = [[word for word in document if '--' not in word] for document in doc_tokenize]"
   ]
  },
  {
   "cell_type": "code",
   "execution_count": 11,
   "metadata": {
    "collapsed": true
   },
   "outputs": [],
   "source": [
    "# remove words that appear only once\n",
    "from collections import defaultdict\n",
    "frequency = defaultdict(int)\n",
    "for text in doc_tokenize:\n",
    "    for token in text:\n",
    "        frequency[token] += 1\n",
    "doc_tokenize = [[token for token in text if frequency[token] > 1] for text in doc_tokenize]"
   ]
  },
  {
   "cell_type": "code",
   "execution_count": 12,
   "metadata": {
    "collapsed": true
   },
   "outputs": [],
   "source": [
    "# Phrases Detection\n",
    "bigram = gensim.models.Phrases(doc_tokenize, threshold=50.0)\n",
    "phrases_texts = bigram[doc_tokenize]"
   ]
  },
  {
   "cell_type": "code",
   "execution_count": 13,
   "metadata": {
    "collapsed": true
   },
   "outputs": [],
   "source": [
    "# transform into dictionary\n",
    "dictionary = corpora.Dictionary(phrases_texts)"
   ]
  },
  {
   "cell_type": "code",
   "execution_count": 14,
   "metadata": {
    "collapsed": false
   },
   "outputs": [
    {
     "name": "stdout",
     "output_type": "stream",
     "text": [
      "Dictionary(46565 unique tokens: [u'sambung', u'deferment', u'EXPLAIN', u'Poetry', u'woods']...)\n"
     ]
    }
   ],
   "source": [
    "print (dictionary)"
   ]
  },
  {
   "cell_type": "code",
   "execution_count": 15,
   "metadata": {
    "collapsed": true
   },
   "outputs": [],
   "source": [
    "# bag of word\n",
    "corpus = [dictionary.doc2bow(text) for text in phrases_texts]"
   ]
  },
  {
   "cell_type": "code",
   "execution_count": 16,
   "metadata": {
    "collapsed": true
   },
   "outputs": [],
   "source": [
    "# tfidf transform\n",
    "tfidf = models.TfidfModel(corpus)\n",
    "corpus_tfidf = tfidf[corpus]"
   ]
  },
  {
   "cell_type": "code",
   "execution_count": 17,
   "metadata": {
    "collapsed": false
   },
   "outputs": [
    {
     "name": "stdout",
     "output_type": "stream",
     "text": [
      "Training it took 11.0 mins\n"
     ]
    }
   ],
   "source": [
    "# train LDA model with 500 topics\n",
    "start_time = time.time()\n",
    "lda = gensim.models.ldamodel.LdaModel(corpus_tfidf, id2word=dictionary, num_topics=500, passes=5)\n",
    "X = lda.do_estep(corpus_tfidf, state=None)\n",
    "end_time = time.time()\n",
    "print \"Training it took %.1f mins\" %((end_time-start_time)/60.0)"
   ]
  },
  {
   "cell_type": "markdown",
   "metadata": {},
   "source": [
    "## Train on two classes"
   ]
  },
  {
   "cell_type": "code",
   "execution_count": 19,
   "metadata": {
    "collapsed": true
   },
   "outputs": [],
   "source": [
    "# Creat target list\n",
    "target = list(oag_data.fraud)"
   ]
  },
  {
   "cell_type": "code",
   "execution_count": 20,
   "metadata": {
    "collapsed": true
   },
   "outputs": [],
   "source": [
    "# Train test split\n",
    "X_train, X_test, target_train, target_test = train_test_split(X, target, test_size=0.3, random_state=1)"
   ]
  },
  {
   "cell_type": "code",
   "execution_count": 21,
   "metadata": {
    "collapsed": false
   },
   "outputs": [
    {
     "name": "stdout",
     "output_type": "stream",
     "text": [
      "('Accuracy by SVM with linear =', 0.9844145723748295)\n",
      "Training it took 0.6 mins\n"
     ]
    }
   ],
   "source": [
    "# SVM linear\n",
    "start_time = time.time()\n",
    "svc = SVC(kernel='linear')\n",
    "svc.fit(X_train, target_train)\n",
    "pred = svc.predict(X_test)\n",
    "end_time = time.time()\n",
    "print(\"Accuracy by SVM with linear =\", 1.0*sum(target_test==pred)/len(pred))\n",
    "print \"Training it took %.1f mins\" %((end_time-start_time)/60.0)"
   ]
  },
  {
   "cell_type": "code",
   "execution_count": 22,
   "metadata": {
    "collapsed": false
   },
   "outputs": [
    {
     "name": "stdout",
     "output_type": "stream",
     "text": [
      "\n",
      "Clasification report :\n",
      "             precision    recall  f1-score   support\n",
      "\n",
      "          0       0.98      1.00      0.99      7552\n",
      "          1       0.99      0.95      0.97      2714\n",
      "\n",
      "avg / total       0.98      0.98      0.98     10266\n",
      "\n"
     ]
    }
   ],
   "source": [
    "print '\\nClasification report :\\n', sklearn.metrics.classification_report(target_test, pred)"
   ]
  },
  {
   "cell_type": "code",
   "execution_count": 23,
   "metadata": {
    "collapsed": false
   },
   "outputs": [
    {
     "name": "stdout",
     "output_type": "stream",
     "text": [
      "\n",
      "Confussion matrix :\n",
      "[[7518   34]\n",
      " [ 126 2588]]\n"
     ]
    }
   ],
   "source": [
    "cm = sklearn.metrics.confusion_matrix(target_test, pred)\n",
    "print '\\nConfussion matrix :\\n', cm"
   ]
  },
  {
   "cell_type": "code",
   "execution_count": 24,
   "metadata": {
    "collapsed": true
   },
   "outputs": [],
   "source": [
    "def plot_confusion_matrix(cm, label, title='Confusion matrix', cmap=plt.cm.Blues):\n",
    "    plt.imshow(cm, interpolation='nearest', cmap=cmap)\n",
    "    plt.title(title)\n",
    "    plt.colorbar()\n",
    "    tick_marks = np.arange(len(label))\n",
    "    plt.xticks(tick_marks, label, rotation=45)\n",
    "    plt.yticks(tick_marks, label)\n",
    "    plt.tight_layout()\n",
    "    plt.ylabel('True label')\n",
    "    plt.xlabel('Predicted label')"
   ]
  },
  {
   "cell_type": "code",
   "execution_count": 25,
   "metadata": {
    "collapsed": false
   },
   "outputs": [
    {
     "data": {
      "image/png": "[encoded data removed]",
      "text/plain": [
       "<matplotlib.figure.Figure at 0x1215b61d0>"
      ]
     },
     "metadata": {},
     "output_type": "display_data"
    }
   ],
   "source": [
    "plt.figure()\n",
    "plot_confusion_matrix(cm, title='Confusion matrix', label=['Irrelevent','Relevent'])\n",
    "plt.show()"
   ]
  },
  {
   "cell_type": "markdown",
   "metadata": {},
   "source": [
    "## Train on multiple classes / Model Selection"
   ]
  },
  {
   "cell_type": "code",
   "execution_count": 26,
   "metadata": {
    "collapsed": true
   },
   "outputs": [],
   "source": [
    "# creat target\n",
    "target = list(oag_data.cusp_code)"
   ]
  },
  {
   "cell_type": "code",
   "execution_count": 27,
   "metadata": {
    "collapsed": false
   },
   "outputs": [],
   "source": [
    "# Train test split\n",
    "X_train, X_test, target_train, target_test = train_test_split(X, target, test_size=0.3, random_state=1)"
   ]
  },
  {
   "cell_type": "markdown",
   "metadata": {},
   "source": [
    "##### SVM linear"
   ]
  },
  {
   "cell_type": "code",
   "execution_count": 65,
   "metadata": {
    "collapsed": false
   },
   "outputs": [
    {
     "name": "stdout",
     "output_type": "stream",
     "text": [
      "('Accuracy by SVM with linear =', 0.849892850185077)\n",
      "Training it took 1.8 mins\n"
     ]
    }
   ],
   "source": [
    "# SVM linear\n",
    "start_time = time.time()\n",
    "svc_multiple = SVC(kernel='linear')\n",
    "svc_multiple.fit(X_train, target_train)\n",
    "pred = svc_multiple.predict(X_test)\n",
    "end_time = time.time()\n",
    "print(\"Accuracy by SVM with linear =\", 1.0*sum(target_test==pred)/len(pred))\n",
    "print \"Training it took %.1f mins\" %((end_time-start_time)/60.0)"
   ]
  },
  {
   "cell_type": "code",
   "execution_count": 66,
   "metadata": {
    "collapsed": false
   },
   "outputs": [
    {
     "name": "stdout",
     "output_type": "stream",
     "text": [
      "\n",
      "Clasification report :\n",
      "             precision    recall  f1-score   support\n",
      "\n",
      "          0       0.97      1.00      0.98      7552\n",
      "          1       0.62      0.54      0.58       244\n",
      "          2       0.37      0.38      0.37       336\n",
      "          3       0.34      0.43      0.38       548\n",
      "          4       0.49      0.47      0.48       397\n",
      "          5       0.45      0.33      0.38       412\n",
      "          6       0.53      0.22      0.31        78\n",
      "          7       0.66      0.40      0.50       262\n",
      "          8       0.67      0.59      0.63       437\n",
      "\n",
      "avg / total       0.84      0.85      0.85     10266\n",
      "\n"
     ]
    }
   ],
   "source": [
    "print '\\nClasification report :\\n', sklearn.metrics.classification_report(target_test, pred)"
   ]
  },
  {
   "cell_type": "code",
   "execution_count": 67,
   "metadata": {
    "collapsed": false
   },
   "outputs": [
    {
     "name": "stdout",
     "output_type": "stream",
     "text": [
      "\n",
      "Confussion matrix :\n",
      "[[7531    1    1    7    6    3    0    0    3]\n",
      " [  16  131   14   44   12   10    1    3   13]\n",
      " [  32    9  126   73   30   41    1    7   17]\n",
      " [  49   28   60  237   79   42    4   15   34]\n",
      " [  34    9   21  109  185   17    4    5   13]\n",
      " [  48    9   56   94   21  135    2   19   28]\n",
      " [  14    6    6   21    7    3   17    0    4]\n",
      " [  16    9   19   52   21   24    2  106   13]\n",
      " [  29    9   34   61   14   27    1    5  257]]\n",
      "relevent recall 0.991589907889\n",
      "relevent precision 0.912306558585\n"
     ]
    }
   ],
   "source": [
    "cm = sklearn.metrics.confusion_matrix(target_test, pred)\n",
    "print '\\nConfussion matrix :\\n', cm\n",
    "print 'relevent recall', 1-sum(cm[0][1:])/float(sum([sum(cm[i][1:]) for i in range(9)]))\n",
    "print 'relevent precision', sum([sum(cm[i][1:]) for i in range(1,9)])/float(sum([sum(cm[i]) for i in range(1,9)]))"
   ]
  },
  {
   "cell_type": "code",
   "execution_count": 68,
   "metadata": {
    "collapsed": false
   },
   "outputs": [
    {
     "data": {
      "image/png": "[encoded data removed]",
      "text/plain": [
       "<matplotlib.figure.Figure at 0x11490cb90>"
      ]
     },
     "metadata": {},
     "output_type": "display_data"
    }
   ],
   "source": [
    "cm_normalized = cm.astype('float') / cm.sum(axis=1)[:, np.newaxis]\n",
    "plt.figure(figsize = (6,6))\n",
    "plot_confusion_matrix(cm_normalized, title='Normalized Confusion matrix', label=Categoary_Index)\n",
    "plt.show()"
   ]
  },
  {
   "cell_type": "markdown",
   "metadata": {},
   "source": [
    "##### Multinomial Naive Bayes Model"
   ]
  },
  {
   "cell_type": "code",
   "execution_count": 69,
   "metadata": {
    "collapsed": false,
    "scrolled": true
   },
   "outputs": [
    {
     "name": "stdout",
     "output_type": "stream",
     "text": [
      "('Accuracy by NAive Bayes  =', 0.8057666082213131)\n",
      "Training it took 0.0 mins\n"
     ]
    }
   ],
   "source": [
    "# Multinomial NAive Bayes Model\n",
    "from sklearn.naive_bayes import BernoulliNB, MultinomialNB\n",
    "start_time = time.time()\n",
    "nvb1 = MultinomialNB(alpha=0.1)\n",
    "nvb1.fit(X_train, target_train)\n",
    "pred = nvb1.predict(X_test)\n",
    "end_time = time.time()\n",
    "print(\"Accuracy by NAive Bayes  =\", 1.0*sum(target_test==pred)/len(pred))\n",
    "print \"Training it took %.1f mins\" %((end_time-start_time)/60.0)"
   ]
  },
  {
   "cell_type": "code",
   "execution_count": 70,
   "metadata": {
    "collapsed": false
   },
   "outputs": [
    {
     "name": "stdout",
     "output_type": "stream",
     "text": [
      "\n",
      "Clasification report :\n",
      "             precision    recall  f1-score   support\n",
      "\n",
      "          0       0.86      1.00      0.93      7552\n",
      "          1       0.86      0.28      0.43       244\n",
      "          2       0.45      0.19      0.26       336\n",
      "          3       0.30      0.39      0.34       548\n",
      "          4       0.58      0.29      0.39       397\n",
      "          5       0.45      0.11      0.18       412\n",
      "          6       1.00      0.05      0.10        78\n",
      "          7       0.78      0.15      0.24       262\n",
      "          8       0.74      0.39      0.51       437\n",
      "\n",
      "avg / total       0.79      0.81      0.77     10266\n",
      "\n"
     ]
    }
   ],
   "source": [
    "print '\\nClasification report :\\n', sklearn.metrics.classification_report(target_test, pred)"
   ]
  },
  {
   "cell_type": "code",
   "execution_count": 71,
   "metadata": {
    "collapsed": false
   },
   "outputs": [
    {
     "name": "stdout",
     "output_type": "stream",
     "text": [
      "\n",
      "Confussion matrix :\n",
      "[[7551    0    0    1    0    0    0    0    0]\n",
      " [ 109   69    4   45    2    7    0    1    7]\n",
      " [ 151    3   63   82    8   18    0    3    8]\n",
      " [ 226    4   28  215   48    8    0    1   18]\n",
      " [ 173    0    3   99  115    1    0    0    6]\n",
      " [ 195    1   27  111   10   47    0    4   17]\n",
      " [  54    1    1   14    3    0    4    0    1]\n",
      " [ 119    1    2   77    6   15    0   38    4]\n",
      " [ 175    1   12   63    6    8    0    2  170]]\n",
      "relevent recall 0.999339061467\n",
      "relevent precision 0.557111274871\n"
     ]
    }
   ],
   "source": [
    "cm = sklearn.metrics.confusion_matrix(target_test, pred)\n",
    "print '\\nConfussion matrix :\\n', cm\n",
    "print 'relevent recall', 1-sum(cm[0][1:])/float(sum([sum(cm[i][1:]) for i in range(9)]))\n",
    "print 'relevent precision', sum([sum(cm[i][1:]) for i in range(1,9)])/float(sum([sum(cm[i]) for i in range(1,9)]))"
   ]
  },
  {
   "cell_type": "code",
   "execution_count": 72,
   "metadata": {
    "collapsed": false
   },
   "outputs": [
    {
     "data": {
      "image/png": "[encoded data removed]",
      "text/plain": [
       "<matplotlib.figure.Figure at 0x117049b90>"
      ]
     },
     "metadata": {},
     "output_type": "display_data"
    }
   ],
   "source": [
    "cm_normalized = cm.astype('float') / cm.sum(axis=1)[:, np.newaxis]\n",
    "plt.figure(figsize = (6,6))\n",
    "plot_confusion_matrix(cm_normalized, title='Normalized Confusion matrix', label=Categoary_Index)\n",
    "plt.show()"
   ]
  },
  {
   "cell_type": "markdown",
   "metadata": {},
   "source": [
    "##### Passive aggresive"
   ]
  },
  {
   "cell_type": "code",
   "execution_count": 78,
   "metadata": {
    "collapsed": false
   },
   "outputs": [
    {
     "name": "stdout",
     "output_type": "stream",
     "text": [
      "('Accuracy by Passive agresser   =', 0.8157023183323593)\n",
      "Training it took 0.3 mins\n"
     ]
    }
   ],
   "source": [
    "# Passive aggresive\n",
    "from sklearn.linear_model import PassiveAggressiveClassifier\n",
    "from sklearn.naive_bayes import BernoulliNB, MultinomialNB\n",
    "start_time = time.time()\n",
    "pa = PassiveAggressiveClassifier(n_iter=50)\n",
    "pa.fit(X_train, target_train)\n",
    "pred = pa.predict(X_test)\n",
    "end_time = time.time()\n",
    "print(\"Accuracy by Passive agresser   =\", 1.0*sum(target_test==pred)/len(pred))\n",
    "print \"Training it took %.1f mins\" %((end_time-start_time)/60.0)"
   ]
  },
  {
   "cell_type": "code",
   "execution_count": 79,
   "metadata": {
    "collapsed": false
   },
   "outputs": [
    {
     "name": "stdout",
     "output_type": "stream",
     "text": [
      "\n",
      "Clasification report :\n",
      "             precision    recall  f1-score   support\n",
      "\n",
      "          0       0.98      1.00      0.99      7552\n",
      "          1       0.31      0.71      0.43       244\n",
      "          2       0.20      0.67      0.31       336\n",
      "          3       0.39      0.09      0.15       548\n",
      "          4       0.63      0.23      0.34       397\n",
      "          5       0.54      0.10      0.17       412\n",
      "          6       0.25      0.24      0.25        78\n",
      "          7       0.41      0.42      0.42       262\n",
      "          8       0.78      0.31      0.44       437\n",
      "\n",
      "avg / total       0.84      0.82      0.81     10266\n",
      "\n"
     ]
    }
   ],
   "source": [
    "print '\\nClasification report :\\n', sklearn.metrics.classification_report(target_test, pred)"
   ]
  },
  {
   "cell_type": "code",
   "execution_count": 80,
   "metadata": {
    "collapsed": false
   },
   "outputs": [
    {
     "name": "stdout",
     "output_type": "stream",
     "text": [
      "\n",
      "Confussion matrix :\n",
      "[[7526   10    8    1    4    1    0    1    1]\n",
      " [  13  174   42    4    4    0    2    4    1]\n",
      " [  27   36  226    7   10    5    6   15    4]\n",
      " [  44  102  245   49   17   13   18   45   15]\n",
      " [  28   57  154   25   92    5    9   20    7]\n",
      " [  37   53  194   20    6   43   10   45    4]\n",
      " [   9   14   20    7    2    3   19    3    1]\n",
      " [  13   35   80    3    5    3    7  110    6]\n",
      " [  14   82  152   10    6    7    6   25  135]]\n",
      "relevent recall 0.989823874755\n",
      "relevent precision 0.931834929993\n"
     ]
    }
   ],
   "source": [
    "cm = sklearn.metrics.confusion_matrix(target_test, pred)\n",
    "print '\\nConfussion matrix :\\n', cm\n",
    "print 'relevent recall', 1-sum(cm[0][1:])/float(sum([sum(cm[i][1:]) for i in range(9)]))\n",
    "print 'relevent precision', sum([sum(cm[i][1:]) for i in range(1,9)])/float(sum([sum(cm[i]) for i in range(1,9)]))"
   ]
  },
  {
   "cell_type": "code",
   "execution_count": 82,
   "metadata": {
    "collapsed": false
   },
   "outputs": [
    {
     "data": {
      "image/png": "[encoded data removed]",
      "text/plain": [
       "<matplotlib.figure.Figure at 0x116b0c210>"
      ]
     },
     "metadata": {},
     "output_type": "display_data"
    }
   ],
   "source": [
    "cm_normalized = cm.astype('float') / cm.sum(axis=1)[:, np.newaxis]\n",
    "plt.figure(figsize = (6,6))\n",
    "plot_confusion_matrix(cm_normalized, title='Normalized Confusion matrix', label=Categoary_Index)\n",
    "plt.show()"
   ]
  },
  {
   "cell_type": "markdown",
   "metadata": {},
   "source": [
    "##### SVM with penality L2"
   ]
  },
  {
   "cell_type": "code",
   "execution_count": 85,
   "metadata": {
    "collapsed": false
   },
   "outputs": [
    {
     "name": "stdout",
     "output_type": "stream",
     "text": [
      "('Accuracy by SVM with L2   =', 0.8544710695499708)\n",
      "Training it took 0.2 mins\n"
     ]
    }
   ],
   "source": [
    "# Support vector machine with penality L2\n",
    "from sklearn.svm import LinearSVC\n",
    "start_time = time.time()\n",
    "sv_l = LinearSVC(loss = 'squared_hinge',penalty = 'l2', dual = False, tol = 1e-3)\n",
    "sv_l.fit(X_train, target_train)\n",
    "pred = sv_l.predict(X_test)\n",
    "end_time = time.time()\n",
    "print(\"Accuracy by SVM with L2   =\", 1.0*sum(target_test==pred)/len(pred))\n",
    "print \"Training it took %.1f mins\" %((end_time-start_time)/60.0)"
   ]
  },
  {
   "cell_type": "code",
   "execution_count": 86,
   "metadata": {
    "collapsed": false
   },
   "outputs": [
    {
     "name": "stdout",
     "output_type": "stream",
     "text": [
      "\n",
      "Clasification report :\n",
      "             precision    recall  f1-score   support\n",
      "\n",
      "          0       0.97      1.00      0.98      7552\n",
      "          1       0.58      0.57      0.57       244\n",
      "          2       0.40      0.35      0.37       336\n",
      "          3       0.39      0.34      0.36       548\n",
      "          4       0.48      0.52      0.50       397\n",
      "          5       0.48      0.36      0.41       412\n",
      "          6       0.36      0.22      0.27        78\n",
      "          7       0.55      0.49      0.52       262\n",
      "          8       0.62      0.66      0.64       437\n",
      "\n",
      "avg / total       0.84      0.85      0.85     10266\n",
      "\n"
     ]
    }
   ],
   "source": [
    "print '\\nClasification report :\\n', sklearn.metrics.classification_report(target_test, pred)"
   ]
  },
  {
   "cell_type": "code",
   "execution_count": 88,
   "metadata": {
    "collapsed": false
   },
   "outputs": [
    {
     "name": "stdout",
     "output_type": "stream",
     "text": [
      "\n",
      "Confussion matrix :\n",
      "[[7540    2    2    1    3    2    0    1    1]\n",
      " [  19  138    8   27   16   13    2    4   17]\n",
      " [  32   11  118   44   39   42    3   13   34]\n",
      " [  50   34   57  185   96   43    9   27   47]\n",
      " [  32    8   23   68  206   15    6   19   20]\n",
      " [  45   16   46   64   20  149    5   33   34]\n",
      " [  16    6    5   15    9    5   17    0    5]\n",
      " [  18   12   11   30   21   19    4  129   18]\n",
      " [  25   11   25   38   18   20    1    9  290]]\n",
      "relevent recall 0.995178786661\n",
      "relevent precision 0.912675018423\n"
     ]
    }
   ],
   "source": [
    "cm = sklearn.metrics.confusion_matrix(target_test, pred)\n",
    "print '\\nConfussion matrix :\\n', cm\n",
    "print 'relevent recall', 1-sum(cm[0][1:])/float(sum([sum(cm[i][1:]) for i in range(9)]))\n",
    "print 'relevent precision', sum([sum(cm[i][1:]) for i in range(1,9)])/float(sum([sum(cm[i]) for i in range(1,9)]))"
   ]
  },
  {
   "cell_type": "code",
   "execution_count": 89,
   "metadata": {
    "collapsed": false
   },
   "outputs": [
    {
     "data": {
      "image/png": "[encoded data removed]",
      "text/plain": [
       "<matplotlib.figure.Figure at 0x115e20150>"
      ]
     },
     "metadata": {},
     "output_type": "display_data"
    }
   ],
   "source": [
    "cm_normalized = cm.astype('float') / cm.sum(axis=1)[:, np.newaxis]\n",
    "plt.figure(figsize = (6,6))\n",
    "plot_confusion_matrix(cm_normalized, title='Normalized Confusion matrix', label=Categoary_Index)\n",
    "plt.show()"
   ]
  },
  {
   "cell_type": "markdown",
   "metadata": {},
   "source": [
    "##### Random Forest"
   ]
  },
  {
   "cell_type": "code",
   "execution_count": 94,
   "metadata": {
    "collapsed": false
   },
   "outputs": [
    {
     "name": "stdout",
     "output_type": "stream",
     "text": [
      "('Accuracy by Random Forest =', 0.8283654782778103)\n",
      "Training it took 2.7 mins\n"
     ]
    }
   ],
   "source": [
    "# random forest\n",
    "start_time = time.time()\n",
    "clf = RandomForestClassifier(n_jobs=-1, n_estimators=500)\n",
    "clf.fit(X_train, target_train)\n",
    "pred = clf.predict(X_test)\n",
    "end_time = time.time()\n",
    "print(\"Accuracy by Random Forest =\", 1.0*sum(target_test==pred)/len(pred))\n",
    "print \"Training it took %.1f mins\" %((end_time-start_time)/60.0)"
   ]
  },
  {
   "cell_type": "code",
   "execution_count": 95,
   "metadata": {
    "collapsed": false
   },
   "outputs": [
    {
     "name": "stdout",
     "output_type": "stream",
     "text": [
      "\n",
      "Clasification report :\n",
      "             precision    recall  f1-score   support\n",
      "\n",
      "          0       0.93      1.00      0.97      7552\n",
      "          1       0.80      0.35      0.49       244\n",
      "          2       0.35      0.16      0.22       336\n",
      "          3       0.31      0.52      0.39       548\n",
      "          4       0.50      0.43      0.46       397\n",
      "          5       0.41      0.14      0.21       412\n",
      "          6       1.00      0.03      0.05        78\n",
      "          7       0.75      0.17      0.28       262\n",
      "          8       0.55      0.60      0.57       437\n",
      "\n",
      "avg / total       0.82      0.83      0.81     10266\n",
      "\n"
     ]
    }
   ],
   "source": [
    "print '\\nClasification report :\\n', sklearn.metrics.classification_report(target_test, pred)"
   ]
  },
  {
   "cell_type": "code",
   "execution_count": 96,
   "metadata": {
    "collapsed": false
   },
   "outputs": [
    {
     "name": "stdout",
     "output_type": "stream",
     "text": [
      "\n",
      "Confussion matrix :\n",
      "[[7542    2    0    5    2    0    0    0    1]\n",
      " [  46   86    5   57    8   13    0    0   29]\n",
      " [  79    8   54  123   18   23    0    3   28]\n",
      " [  88    5   31  286   72   21    0    1   44]\n",
      " [  85    0    6  108  170    5    0    5   18]\n",
      " [  83    0   41  138   22   57    0    4   67]\n",
      " [  28    1    2   31    8    2    2    0    4]\n",
      " [  59    4    9   88   22    8    0   45   27]\n",
      " [  64    1    5   74   18   11    0    2  262]]\n",
      "relevent recall 0.995437956204\n",
      "relevent precision 0.803979366249\n"
     ]
    }
   ],
   "source": [
    "cm = sklearn.metrics.confusion_matrix(target_test, pred)\n",
    "print '\\nConfussion matrix :\\n', cm\n",
    "print 'relevent recall', 1-sum(cm[0][1:])/float(sum([sum(cm[i][1:]) for i in range(9)]))\n",
    "print 'relevent precision', sum([sum(cm[i][1:]) for i in range(1,9)])/float(sum([sum(cm[i]) for i in range(1,9)]))"
   ]
  },
  {
   "cell_type": "code",
   "execution_count": 97,
   "metadata": {
    "collapsed": false
   },
   "outputs": [
    {
     "data": {
      "image/png": "[encoded data removed]",
      "text/plain": [
       "<matplotlib.figure.Figure at 0x115e20a90>"
      ]
     },
     "metadata": {},
     "output_type": "display_data"
    }
   ],
   "source": [
    "cm_normalized = cm.astype('float') / cm.sum(axis=1)[:, np.newaxis]\n",
    "plt.figure(figsize = (6,6))\n",
    "plot_confusion_matrix(cm_normalized, title='Normalized Confusion matrix', label=Categoary_Index)\n",
    "plt.show()"
   ]
  },
  {
   "cell_type": "markdown",
   "metadata": {},
   "source": [
    "## Try to optimize LDA topic number"
   ]
  },
  {
   "cell_type": "code",
   "execution_count": 110,
   "metadata": {
    "collapsed": false
   },
   "outputs": [
    {
     "name": "stdout",
     "output_type": "stream",
     "text": [
      "Training 50 topics LDA took 1.7 mins\n",
      "Training 100 topics LDA took 2.3 mins\n",
      "Training 150 topics LDA took 3.1 mins\n",
      "Training 200 topics LDA took 4.7 mins\n",
      "Training 250 topics LDA took 5.0 mins\n",
      "Training 300 topics LDA took 14.9 mins\n",
      "Training 350 topics LDA took 6.6 mins\n",
      "Training 400 topics LDA took 8.6 mins\n",
      "Training 450 topics LDA took 9.6 mins\n",
      "Training 500 topics LDA took 9.8 mins\n"
     ]
    }
   ],
   "source": [
    "# train LDA model\n",
    "\n",
    "topic_n = [50,100,150,200,250,300,350,400,450,500]\n",
    "result_n = []\n",
    "for topic_ in topic_n:\n",
    "    start_time = time.time()\n",
    "    lda = gensim.models.ldamodel.LdaModel(corpus_tfidf, id2word=dictionary, num_topics=topic_, passes=5)\n",
    "    X = lda.do_estep(corpus_tfidf, state=None)\n",
    "    X_train, X_test, target_train, target_test = train_test_split(X, target, test_size=0.3, random_state=1)\n",
    "    sv_l = LinearSVC(loss = 'squared_hinge',penalty = 'l2', dual = False, tol = 1e-3)\n",
    "    sv_l.fit(X_train, target_train)\n",
    "    pred = sv_l.predict(X_test)\n",
    "    accuracy = 1.0*sum(target_test==pred)/len(pred)\n",
    "    cm = sklearn.metrics.confusion_matrix(target_test, pred)\n",
    "    relevent_recall = 1-sum(cm[0][1:])/float(sum([sum(cm[i][1:]) for i in range(9)]))\n",
    "    relevent_precision = sum([sum(cm[i][1:]) for i in range(1,9)])/float(sum([sum(cm[i]) for i in range(1,9)]))\n",
    "    result_n.append((sv_l,accuracy,cm,relevent_recall,relevent_precision))\n",
    "    end_time = time.time()\n",
    "    print \"Training %i topics LDA took %.1f mins\" % (topic_, (end_time-start_time)/60.0)"
   ]
  },
  {
   "cell_type": "code",
   "execution_count": 125,
   "metadata": {
    "collapsed": false
   },
   "outputs": [
    {
     "name": "stdout",
     "output_type": "stream",
     "text": [
      "Training 550 topics LDA took 15.0 mins\n",
      "Training 600 topics LDA took 12.8 mins\n",
      "Training 650 topics LDA took 13.1 mins\n",
      "Training 700 topics LDA took 15.2 mins\n"
     ]
    }
   ],
   "source": [
    "topic_n = [550,600,650,700]\n",
    "for topic_ in topic_n:\n",
    "    start_time = time.time()\n",
    "    lda = gensim.models.ldamodel.LdaModel(corpus_tfidf, id2word=dictionary, num_topics=topic_, passes=5)\n",
    "    X = lda.do_estep(corpus_tfidf, state=None)\n",
    "    X_train, X_test, target_train, target_test = train_test_split(X, target, test_size=0.3, random_state=1)\n",
    "    sv_l = LinearSVC(loss = 'squared_hinge',penalty = 'l2', dual = False, tol = 1e-3)\n",
    "    sv_l.fit(X_train, target_train)\n",
    "    pred = sv_l.predict(X_test)\n",
    "    accuracy = 1.0*sum(target_test==pred)/len(pred)\n",
    "    cm = sklearn.metrics.confusion_matrix(target_test, pred)\n",
    "    relevent_recall = 1-sum(cm[0][1:])/float(sum([sum(cm[i][1:]) for i in range(9)]))\n",
    "    relevent_precision = sum([sum(cm[i][1:]) for i in range(1,9)])/float(sum([sum(cm[i]) for i in range(1,9)]))\n",
    "    result_n.append((sv_l,accuracy,cm,relevent_recall,relevent_precision))\n",
    "    end_time = time.time()\n",
    "    print \"Training %i topics LDA took %.1f mins\" % (topic_, (end_time-start_time)/60.0)"
   ]
  },
  {
   "cell_type": "code",
   "execution_count": 204,
   "metadata": {
    "collapsed": false
   },
   "outputs": [
    {
     "name": "stdout",
     "output_type": "stream",
     "text": [
      "Training 800 topics LDA took 30.3 mins\n",
      "Training 900 topics LDA took 37.0 mins\n",
      "Training 1000 topics LDA took 27.5 mins\n"
     ]
    }
   ],
   "source": [
    "topic_n = [800,900,1000]\n",
    "for topic_ in topic_n:\n",
    "    start_time = time.time()\n",
    "    lda = gensim.models.ldamodel.LdaModel(corpus_tfidf, id2word=dictionary, num_topics=topic_, passes=5)\n",
    "    X = lda.do_estep(corpus_tfidf, state=None)\n",
    "    X_train, X_test, target_train, target_test = train_test_split(X, target, test_size=0.3, random_state=1)\n",
    "    sv_l = LinearSVC(loss = 'squared_hinge',penalty = 'l2', dual = False, tol = 1e-3)\n",
    "    sv_l.fit(X_train, target_train)\n",
    "    pred = sv_l.predict(X_test)\n",
    "    accuracy = 1.0*sum(target_test==pred)/len(pred)\n",
    "    cm = sklearn.metrics.confusion_matrix(target_test, pred)\n",
    "    relevent_recall = 1-sum(cm[0][1:])/float(sum([sum(cm[i][1:]) for i in range(9)]))\n",
    "    relevent_precision = sum([sum(cm[i][1:]) for i in range(1,9)])/float(sum([sum(cm[i]) for i in range(1,9)]))\n",
    "    result_n.append((sv_l,accuracy,cm,relevent_recall,relevent_precision))\n",
    "    end_time = time.time()\n",
    "    print \"Training %i topics LDA took %.1f mins\" % (topic_, (end_time-start_time)/60.0)"
   ]
  },
  {
   "cell_type": "code",
   "execution_count": 187,
   "metadata": {
    "collapsed": false
   },
   "outputs": [],
   "source": [
    "# reset plt style\n",
    "# %matplotlib inline\n",
    "# import matplotlib as mpl\n",
    "# import matplotlib.pyplot as plt\n",
    "# inline_rc = dict(mpl.rcParams)\n",
    "# mpl.rcParams.update(mpl.rcParamsDefault)\n",
    "# mpl.rcParams.update(inline_rc)\n",
    "# # plt.plot(range(10))"
   ]
  },
  {
   "cell_type": "code",
   "execution_count": 205,
   "metadata": {
    "collapsed": false
   },
   "outputs": [
    {
     "data": {
      "text/plain": [
       "<matplotlib.legend.Legend at 0x136f25810>"
      ]
     },
     "execution_count": 205,
     "metadata": {},
     "output_type": "execute_result"
    },
    {
     "data": {
      "image/png": "[encoded data removed]",
      "text/plain": [
       "<matplotlib.figure.Figure at 0x1377484d0>"
      ]
     },
     "metadata": {},
     "output_type": "display_data"
    }
   ],
   "source": [
    "# plot the result and compare it with the best model we trained without LDA\n",
    "plt.style.use('ggplot')\n",
    "plt.figure(figsize=(10,6))\n",
    "x = [50,100,150,200,250,300,350,400,450,500,550,600,650,700,800,900,1000]\n",
    "plt.plot(x, [i[1] for i in result_n], label='accuracy')\n",
    "plt.plot(x, [0.857]*len(x), '--', label='best accuracy without LAD')\n",
    "\n",
    "plt.plot(x, [i[3] for i in result_n], label='relevent_precision')\n",
    "plt.plot(x, [0.996]*len(x), '--',label='best relevent_precision without LAD')\n",
    "\n",
    "plt.plot(x, [i[4] for i in result_n], label='relevent_recall')\n",
    "plt.plot(x, [0.957]*len(x), '--',label='best relevent_recall without LAD')\n",
    "\n",
    "xlabel('LDA topic number')\n",
    "\n",
    "plt.legend(loc=4)"
   ]
  },
  {
   "cell_type": "markdown",
   "metadata": {},
   "source": [
    "By now, we know that the result dimention deduction with LDA is no better than the result of LinearSVC without dimention deduction, and dimention deduction with LDA took longer time to train."
   ]
  },
  {
   "cell_type": "markdown",
   "metadata": {},
   "source": [
    "## Test on general tweets"
   ]
  },
  {
   "cell_type": "code",
   "execution_count": 33,
   "metadata": {
    "collapsed": false
   },
   "outputs": [
    {
     "name": "stdout",
     "output_type": "stream",
     "text": [
      "7401520\n"
     ]
    }
   ],
   "source": [
    "# load tweets\n",
    "twitterdata = pd.read_csv(\"../data/fraud_list_svarmit_location_v1.csv\", header=None)\n",
    "tweet_doc = list(twitterdata.iloc[:,0])\n",
    "print len(twitterdata)"
   ]
  },
  {
   "cell_type": "code",
   "execution_count": 34,
   "metadata": {
    "collapsed": false
   },
   "outputs": [
    {
     "data": {
      "text/plain": [
       "20130"
      ]
     },
     "execution_count": 34,
     "metadata": {},
     "output_type": "execute_result"
    }
   ],
   "source": [
    "# random select 20000 tweets\n",
    "selected_tweet_index = list(randint(0, len(tweet_doc),100000))\n",
    "selected_tweet = [tweet_doc[i] for i in selected_tweet_index if type(tweet_doc[i]) == str and len(tweet_doc[i].split()) > 20]\n",
    "len(selected_tweet)"
   ]
  },
  {
   "cell_type": "code",
   "execution_count": 35,
   "metadata": {
    "collapsed": false
   },
   "outputs": [],
   "source": [
    "# tokenize\n",
    "tokenize_tweet = [[j.lower() for j in i.split()] for i in selected_tweet]"
   ]
  },
  {
   "cell_type": "code",
   "execution_count": 36,
   "metadata": {
    "collapsed": false
   },
   "outputs": [],
   "source": [
    "# bigram\n",
    "phrases_tweet = bigram[tokenize_tweet]"
   ]
  },
  {
   "cell_type": "code",
   "execution_count": 227,
   "metadata": {
    "collapsed": true
   },
   "outputs": [],
   "source": [
    "# bag of word\n",
    "corpus_tweet = [dictionary.doc2bow(text) for text in phrases_tweet]"
   ]
  },
  {
   "cell_type": "code",
   "execution_count": 231,
   "metadata": {
    "collapsed": true
   },
   "outputs": [],
   "source": [
    "# tfidf transform\n",
    "corpus_tfidf_tweet = tfidf[corpus_tweet]"
   ]
  },
  {
   "cell_type": "code",
   "execution_count": 423,
   "metadata": {
    "collapsed": false
   },
   "outputs": [
    {
     "name": "stdout",
     "output_type": "stream",
     "text": [
      "Training it took 1.4 mins\n"
     ]
    }
   ],
   "source": [
    "# LDA transform\n",
    "X = lda.do_estep(corpus_tfidf_tweet)"
   ]
  },
  {
   "cell_type": "code",
   "execution_count": 398,
   "metadata": {
    "collapsed": true
   },
   "outputs": [],
   "source": [
    "# predict on svc model\n",
    "pred_tweet = svc_multiple.predict(X)"
   ]
  },
  {
   "cell_type": "markdown",
   "metadata": {},
   "source": [
    "Note: LDA model is not stable, that means when you take same input into the model, it will return different results although all results are quite similar. Below is the result I took same input and differnt results I got."
   ]
  },
  {
   "cell_type": "code",
   "execution_count": 399,
   "metadata": {
    "collapsed": false
   },
   "outputs": [
    {
     "name": "stdout",
     "output_type": "stream",
     "text": [
      "The amount of Irrelevant tweet: 20081\n",
      "The amount of Residential tweet: 1\n",
      "The amount of scams tweet: 7\n",
      "The amount of misc tweet: 12\n",
      "The amount of financial tweet: 12\n",
      "The amount of good_n_services tweet: 7\n",
      "The amount of government tweet: 0\n",
      "The amount of utilities tweet: 3\n",
      "The amount of travel tweet: 7\n"
     ]
    }
   ],
   "source": [
    "# test 1\n",
    "pred_fraud_tweet_index = []\n",
    "for a in range(9):\n",
    "    pred_fraud = [i for i,j in enumerate(pred_tweet) if j==a]\n",
    "    print \"The amount of %s tweet: %i\" % (Categoary_Index[a], len(pred_fraud))\n",
    "    pred_fraud_tweet_index.append(pred_fraud)"
   ]
  },
  {
   "cell_type": "code",
   "execution_count": 352,
   "metadata": {
    "collapsed": false
   },
   "outputs": [
    {
     "name": "stdout",
     "output_type": "stream",
     "text": [
      "The amount of Irrelevant tweet: 20075\n",
      "The amount of Residential tweet: 1\n",
      "The amount of scams tweet: 7\n",
      "The amount of misc tweet: 16\n",
      "The amount of financial tweet: 13\n",
      "The amount of good_n_services tweet: 7\n",
      "The amount of government tweet: 0\n",
      "The amount of utilities tweet: 3\n",
      "The amount of travel tweet: 8\n"
     ]
    }
   ],
   "source": [
    "# test 2\n",
    "pred_fraud_tweet_index = []\n",
    "for a in range(9):\n",
    "    pred_fraud = [i for i,j in enumerate(pred_tweet) if j==a]\n",
    "    print \"The amount of %s tweet: %i\" % (Categoary_Index[a], len(pred_fraud))\n",
    "    pred_fraud_tweet_index.append(pred_fraud)"
   ]
  },
  {
   "cell_type": "code",
   "execution_count": 303,
   "metadata": {
    "collapsed": false
   },
   "outputs": [
    {
     "name": "stdout",
     "output_type": "stream",
     "text": [
      "The amount of Irrelevant tweet: 20077\n",
      "The amount of Residential tweet: 1\n",
      "The amount of scams tweet: 8\n",
      "The amount of misc tweet: 15\n",
      "The amount of financial tweet: 12\n",
      "The amount of good_n_services tweet: 7\n",
      "The amount of government tweet: 0\n",
      "The amount of utilities tweet: 3\n",
      "The amount of travel tweet: 7\n"
     ]
    }
   ],
   "source": [
    "# test 3\n",
    "pred_fraud_tweet_index = []\n",
    "for a in range(9):\n",
    "    pred_fraud = [i for i,j in enumerate(pred_tweet) if j==a]\n",
    "    print \"The amount of %s tweet: %i\" % (Categoary_Index[a], len(pred_fraud))\n",
    "    pred_fraud_tweet_index.append(pred_fraud)"
   ]
  },
  {
   "cell_type": "code",
   "execution_count": 306,
   "metadata": {
    "collapsed": false,
    "scrolled": false
   },
   "outputs": [
    {
     "name": "stdout",
     "output_type": "stream",
     "text": [
      "\n",
      "\n",
      "___________________________________________________________________________________________________________\n",
      "Recognized as Residential tweet:\n",
      "\n",
      "\n",
      "The other day a friend said  \"Mika I'm a weak person cuz I struggle with depression..I answered telling me that took strength not weakness!\n",
      "------\n",
      "\n",
      "\n",
      "___________________________________________________________________________________________________________\n",
      "Recognized as scams tweet:\n",
      "\n",
      "\n",
      "Ok ok hold the phone!!  I never went through any bf phone until my ex and he was hella shady. And it was years after we started dating\n",
      "------\n",
      "@travisk All I asked for was to pay me right and get out of my way #Uber. Last I asked for was dont send a driver for a pick up that's...\n",
      "------\n",
      "RT @RodBelgrave: Could somebody contact Yasmin's carer,she's broken free of the restraints and has gained access to the computer room https\n",
      "------\n",
      "Customer service phone support that doesn't include an automatic call back option instead of sitting on hold in 2016 is pretty criminal.\n",
      "------\n",
      "RT @ARangarajan1972: Been 2 years since @narendramodi was first informed of this crime. It has only gotten worse. And I feel like a fool. h\n",
      "------\n",
      "RT @pyopeasant: Shady Facts: Park Bom currently holds the longest reflection period among female celebrities despite not having to commit a\n",
      "------\n",
      "RT @pyopeasant: Shady Facts: Park Bom currently holds the longest reflection period among female celebrities despite not having to commit a\n",
      "------\n",
      ".@ring where is the prepaid return shipping label that 3 of your support agents have said they would email me? Why do they lie to customers?\n",
      "------\n",
      "\n",
      "\n",
      "___________________________________________________________________________________________________________\n",
      "Recognized as misc tweet:\n",
      "\n",
      "\n",
      "According to the FBI, a motor vehicle is stolen in the United States every 46 seconds. Protect yours with GPS!!! https://t.co/Tu0L6r4zAr\n",
      "------\n",
      "Monsanto is a dying criminal organization, bayer will carry the Monsanto Legacy whatever they change their name to, at their own peril @TIME\n",
      "------\n",
      "RT @bartlettdaron: Members of the public sending their message to the president not to sign a bill exempting MPs from taxes.\n",
      "#TaxMPs https:\n",
      "------\n",
      "RT @AboutSws: And after all this time I shared with you, it seems unfair to leave with nothing more than blank stares.\n",
      "------\n",
      "@Darkwynds Yeah, probably for the better that I'm not a big fan of RPGs or I would have owned Chrono Trigger by now &amp; went utterly bankrupt\n",
      "------\n",
      "If Capullo went on Thor I would have to lie down in the quiet for a bit until I composed myself https://t.co/3FWzELPi8x\n",
      "------\n",
      "If you own a @Honda #Hybrid car, do not trust what they say about warranty 4 battery. Check laws in your state as #Honda will lie abt it.\n",
      "------\n",
      "I lost my nose ring about a week ago and just found it about a minute ago as I stepped on it and it went into my foot \n",
      "------\n",
      "Tax Professionals Plus-Pst 24 hrs  3 calls reg IRS calls to clients.  Pls hang up &amp; donot engag IRS never initiates contact by phone- email\n",
      "------\n",
      "This girl we know had some type of tummy tuck or something to lose weight and I can't lie she looks great....\n",
      "------\n",
      "@jb8771 @slate she was the one that would send detectives to harass, irs to audit, said they were liars, 'bimbo eruptions'\n",
      "\n",
      "#iBelieveHer lol\n",
      "------\n",
      "Fourth alleged victim to sign on to lawsuit against judge: A fourth alleged victim will join a civil lawsuit ... https://t.co/5oPe1oL2GY\n",
      "------\n",
      "Uber Says Riders Are Willing to Pay The Most When Their Phone Battery Is Dying: When our phones are dying we ... https://t.co/UsendT9DRI\n",
      "------\n",
      "Bro he said he used to help her hellas &amp; she know that but shit idk . Idk who would lie about wanting money for  https://t.co/9ppJRHMiqP\n",
      "------\n",
      "So with the SS in the body shop, my rental has Jersey plates on it. Very much to my surprise, the turn signals actually work.\n",
      "------\n",
      "\n",
      "\n",
      "___________________________________________________________________________________________________________\n",
      "Recognized as financial tweet:\n",
      "\n",
      "\n",
      "\"The rule change, sent in a letter to Congress on Thursday, would allow a magistrate judge to issue a warrant to... https://t.co/fqCWZ78BUa\n",
      "------\n",
      "RT @umpire43: This bastard has had a Russian request for extradition on him for 5 years for criminal activity.Why request ignored? https://\n",
      "------\n",
      "RT @umpire43: This bastard has had a Russian request for extradition on him for 5 years for criminal activity.Why request ignored? https://\n",
      "------\n",
      "I know this may sound werid but does anyone else not like pooping when there is someone in the next stall?\n",
      "------\n",
      "There will be a Fundraiser for Dario and lawsuit expenses \n",
      "&gt;THIS Friday - Sunday on Madris Block (NWLK) be sure to stop by anything helps \n",
      "------\n",
      "RT @AnjumKiani: PMLN tried to make Panama Papers a political issue which is infact a criminal one.Looks like deadline has been given https:\n",
      "------\n",
      "@ThePeoriaKid @GodandtheBear did you also know at the same time the government has taken 18T in the form of taxes and still added 9T on debt\n",
      "------\n",
      "@shaynasteele That is absolutely not okay. Please DM us your email address associated to your Uber account so we can follow up.\n",
      "------\n",
      "@jerryferrara @B4BPodcast @BreanneRacano -if in NYC &amp; wanna chat with Brooklyn boy Charlie \"Keeper of the Flame\". Check YouTube. Hit me back\n",
      "------\n",
      "RT @iAm_BabyDorsey: I don't see how someone could get back with someone after getting cheated on by that person. Y'all call that love,I cal\n",
      "------\n",
      "@ChrisCuomo Still taxes are a 50 year standard for all.  First time request for private career to only one candidate is not.\n",
      "------\n",
      "@Hertz The car was returned. I complained to Customer Service over the phone today and they did nothing. Also, asked to speak to manager...\n",
      "------\n",
      "\n",
      "\n",
      "___________________________________________________________________________________________________________\n",
      "Recognized as good_n_services tweet:\n",
      "\n",
      "\n",
      "I wish I had saved up even more days so that I could skip class like crazy this last month of school.\n",
      "------\n",
      "RT @nhdogmom: GOP train wreck. Because bullsh*t like this is ignored by NRA &amp; Koch owned GOP politicians like @KellyAyotte.  https://t.co/B\n",
      "------\n",
      "RT @Ritika21M: @Beverly_Dee checks out 4/5 office chairs*\n",
      "Makes a sad puppy face cause she doesn't like any\n",
      "Bev*like a shady dealer*-Wanna\n",
      "------\n",
      "@jimmyfallon when I was small i told a lie and my older sister told me that my nose was gonna grow like Pinocchio. I started crying #imdumb\n",
      "------\n",
      "\"@Muneka__: I'm not gonna lie graduation is going to do emotional for me  Ima be crying like a whole baby \"And Its Not Even My Graduation\n",
      "------\n",
      "I just asked becca if she was done with her drinks and she told me to never talk to her like that #ok\n",
      "------\n",
      "with age, \n",
      "the freedom of wearing a skirt &gt; feeling uncomfortable in your body so needing to cover up as much skin as possible\n",
      "------\n",
      "\n",
      "\n",
      "___________________________________________________________________________________________________________\n",
      "Recognized as government tweet:\n",
      "\n",
      "\n",
      "\n",
      "\n",
      "___________________________________________________________________________________________________________\n",
      "Recognized as utilities tweet:\n",
      "\n",
      "\n",
      "RT @LouieBuckland: why do i lie about wanting 2 sugars in my hot drinks when actually I want three? why is the extra sugar so offensive?? w\n",
      "------\n",
      "RT @rezwan: Reports coming that all mobile signals r being turned off in Uganda. The Internet may be switched off at 6pm Ug Time https://t.\n",
      "------\n",
      "@Uber charged $5 for cancellation. the driver took 2x amt of time to reach and then saw he had turned wrong way 3-4 times. return my $$.\n",
      "------\n",
      "\n",
      "\n",
      "___________________________________________________________________________________________________________\n",
      "Recognized as travel tweet:\n",
      "\n",
      "\n",
      "Rubys on the rail\n",
      "Picking up codes\n",
      "Along came search engine\n",
      "Broke Rubys code\n",
      "Oh said Ruby that's unfair\n",
      "Oh said Engine shoulda used web app\n",
      "------\n",
      "RT @jamezdhawaii: @ThankYouBernie \n",
      "When politicians like Hillary lie to us in a daily basis &amp; MSM acts like it's normal, the country is a s\n",
      "------\n",
      "It's been 2.5 years and I'm STILL getting stuck in the revolving door of my office. And in front of a packed reception today \n",
      "------\n",
      "@5hboyharmonizer I'm sorry people are stealing your money, but they will all get charged for credit card fraud and then you can sue them\n",
      "------\n",
      "RT @StolenAlerts: Nearly 21,000 number plates in 2014.\n",
      "Your reg could be involved in crimes and you have no idea.\n",
      "https://t.co/7kmtaL2J6S @\n",
      "------\n",
      "How do I retrieve my @Aeroplan number if it's not recognizing my current address?? I forgot what I signed up with...\n",
      "------\n",
      "Oh it is so warm is also an NYPD 911 system causing the slowdown a response time there for a while to cause people to get well not be hap...\n",
      "------\n",
      "\n",
      "\n",
      "___________________________________________________________________________________________________________\n"
     ]
    }
   ],
   "source": [
    "# print the result (the tweets that model selected as fraud relevent)\n",
    "for i,j in enumerate(pred_fraud_tweet_index):\n",
    "    if i != 0:\n",
    "        print \"Recognized as %s tweet:\" % (Categoary_Index[i])\n",
    "        print \"\\n\"\n",
    "        for k in j:\n",
    "            print selected_tweet[k]\n",
    "            print \"------\"\n",
    "    print \"\\n\"\n",
    "    print \"___________________________________________________________________________________________________________\""
   ]
  },
  {
   "cell_type": "markdown",
   "metadata": {},
   "source": [
    "## customize test demo"
   ]
  },
  {
   "cell_type": "code",
   "execution_count": 408,
   "metadata": {
    "collapsed": true
   },
   "outputs": [],
   "source": [
    "def lda_transform(test):\n",
    "    token = [[i.lower() for i in j.split()] for j in test]\n",
    "    phrases = bigram[token]\n",
    "    corpus = [dictionary.doc2bow(i) for i in phrases]\n",
    "    corpus_tfidf = tfidf[corpus]\n",
    "    X_test = lda.do_estep(corpus_tfidf, state=None)\n",
    "    return X_test"
   ]
  },
  {
   "cell_type": "code",
   "execution_count": 356,
   "metadata": {
    "collapsed": false
   },
   "outputs": [
    {
     "name": "stdout",
     "output_type": "stream",
     "text": [
      "[[6684], [2854, 3580, 11399, 11495, 13438, 14328, 19884], [2142, 3638, 3640, 7351, 8036, 8177, 10326, 10732, 11115, 11255, 12433, 14478, 14574, 14972, 16574, 19666], [1697, 2870, 5218, 8354, 9466, 11453, 11979, 13469, 14151, 14249, 16036, 16533, 20077], [1496, 5264, 5997, 6495, 6816, 13259, 19028], [], [15321, 17138, 18575], [161, 525, 6653, 9921, 11514, 12000, 18649, 19584]]\n"
     ]
    }
   ],
   "source": [
    "# result of test 1 above\n",
    "print pred_fraud_tweet_index[1:]"
   ]
  },
  {
   "cell_type": "code",
   "execution_count": 400,
   "metadata": {
    "collapsed": false
   },
   "outputs": [
    {
     "name": "stdout",
     "output_type": "stream",
     "text": [
      "[[6684], [2854, 3580, 11399, 11495, 13438, 14328, 19884], [2142, 3638, 3640, 7351, 8036, 10732, 11115, 12433, 14478, 14574, 14972, 19666], [1697, 2870, 5218, 8354, 9466, 11453, 11979, 13469, 14151, 16036, 16533, 20077], [1496, 5264, 5997, 6495, 6816, 13259, 19028], [], [15321, 17138, 18575], [161, 525, 9921, 11514, 12000, 18649, 19584]]\n"
     ]
    }
   ],
   "source": [
    "# result of test 2 above\n",
    "print pred_fraud_tweet_index[1:]"
   ]
  },
  {
   "cell_type": "code",
   "execution_count": 421,
   "metadata": {
    "collapsed": false
   },
   "outputs": [
    {
     "data": {
      "text/plain": [
       "\"@travisk All I asked for was to pay me right and get out of my way #Uber. Last I asked for was dont send a driver for a pick up that's...\""
      ]
     },
     "execution_count": 421,
     "metadata": {},
     "output_type": "execute_result"
    }
   ],
   "source": [
    "# try the tweet that selected two times by the model \n",
    "selected_tweet[2854]"
   ]
  },
  {
   "cell_type": "code",
   "execution_count": 420,
   "metadata": {
    "collapsed": false,
    "scrolled": true
   },
   "outputs": [
    {
     "name": "stdout",
     "output_type": "stream",
     "text": [
      "The test tweet is recognized as scams tweet\n",
      "The test tweet is recognized as scams tweet\n",
      "The test tweet is recognized as scams tweet\n",
      "The test tweet is recognized as scams tweet\n",
      "The test tweet is recognized as scams tweet\n",
      "The test tweet is recognized as scams tweet\n",
      "The test tweet is recognized as scams tweet\n",
      "The test tweet is recognized as scams tweet\n",
      "The test tweet is recognized as scams tweet\n",
      "The test tweet is recognized as scams tweet\n"
     ]
    }
   ],
   "source": [
    "for i in range(10):\n",
    "    test_demo = [selected_tweet[2854]]\n",
    "    test_result = svc_multiple.predict(lda_transform(test_demo))\n",
    "    print \"The test tweet is recognized as %s tweet\" % Categoary_Index[test_result[0]]"
   ]
  },
  {
   "cell_type": "code",
   "execution_count": 209,
   "metadata": {
    "collapsed": false
   },
   "outputs": [],
   "source": [
    "# try the tweet that selected one time by the model in two time selection, from this case we see how unstable the model is\n",
    "# selected_tweet[8177]"
   ]
  },
  {
   "cell_type": "code",
   "execution_count": 422,
   "metadata": {
    "collapsed": false
   },
   "outputs": [
    {
     "name": "stdout",
     "output_type": "stream",
     "text": [
      "The test tweet is recognized as misc tweet\n",
      "The test tweet is recognized as Irrelevant tweet\n",
      "The test tweet is recognized as Irrelevant tweet\n",
      "The test tweet is recognized as Irrelevant tweet\n",
      "The test tweet is recognized as misc tweet\n",
      "The test tweet is recognized as Irrelevant tweet\n",
      "The test tweet is recognized as misc tweet\n",
      "The test tweet is recognized as misc tweet\n",
      "The test tweet is recognized as Irrelevant tweet\n",
      "The test tweet is recognized as Irrelevant tweet\n"
     ]
    }
   ],
   "source": [
    "for i in range(10):\n",
    "    test_demo = [selected_tweet[8177]]\n",
    "    test_result = svc_multiple.predict(lda_transform(test_demo))\n",
    "    print \"The test tweet is recognized as %s tweet\" % Categoary_Index[test_result[0]]"
   ]
  },
  {
   "cell_type": "markdown",
   "metadata": {},
   "source": [
    "## Get some relevent tweets"
   ]
  },
  {
   "cell_type": "code",
   "execution_count": 487,
   "metadata": {
    "collapsed": false
   },
   "outputs": [
    {
     "data": {
      "text/plain": [
       "0.0024838549428713363"
      ]
     },
     "execution_count": 487,
     "metadata": {},
     "output_type": "execute_result"
    }
   ],
   "source": [
    "# caculate choosing rate of the model\n",
    "rate = (20130-20080)/20130.0\n",
    "rate"
   ]
  },
  {
   "cell_type": "code",
   "execution_count": 490,
   "metadata": {
    "collapsed": false
   },
   "outputs": [
    {
     "name": "stdout",
     "output_type": "stream",
     "text": [
      "40.0\n",
      "1241.92747144\n"
     ]
    }
   ],
   "source": [
    "# estimate how many fraud relevent tweets we can get from 500,000 by the model\n",
    "input_number = 500000\n",
    "tim = (input_number/20000)*1.6\n",
    "amount = input_number*rate\n",
    "print tim\n",
    "print amount"
   ]
  },
  {
   "cell_type": "code",
   "execution_count": 445,
   "metadata": {
    "collapsed": false
   },
   "outputs": [
    {
     "data": {
      "text/plain": [
       "501315"
      ]
     },
     "execution_count": 445,
     "metadata": {},
     "output_type": "execute_result"
    }
   ],
   "source": [
    "# random select 500,000 tweets\n",
    "selected_tweet_index = list(randint(0, len(tweet_doc),2500000))\n",
    "selected_tweet = [tweet_doc[i] for i in selected_tweet_index if type(tweet_doc[i]) == str and len(tweet_doc[i].split()) > 20]\n",
    "len(selected_tweet)"
   ]
  },
  {
   "cell_type": "code",
   "execution_count": 450,
   "metadata": {
    "collapsed": false
   },
   "outputs": [
    {
     "name": "stdout",
     "output_type": "stream",
     "text": [
      "The amount of Irrelevant tweet: 500075\n",
      "The amount of Residential tweet: 31\n",
      "The amount of scams tweet: 131\n",
      "The amount of misc tweet: 529\n",
      "The amount of financial tweet: 298\n",
      "The amount of good_n_services tweet: 83\n",
      "The amount of government tweet: 4\n",
      "The amount of utilities tweet: 60\n",
      "The amount of travel tweet: 104\n",
      "Training it took 38.0 mins\n"
     ]
    }
   ],
   "source": [
    "# train the modle and print the result\n",
    "start_time = time.time()\n",
    "test_result = svc_multiple.predict(lda_transform(selected_tweet))\n",
    "pred_fraud_tweet_index = []\n",
    "for a in range(9):\n",
    "    pred_fraud = [i for i,j in enumerate(test_result) if j==a]\n",
    "    print \"The amount of %s tweet: %i\" % (Categoary_Index[a], len(pred_fraud))\n",
    "    pred_fraud_tweet_index.append(pred_fraud)\n",
    "selected_relevent_tweet = [[selected_tweet[j] for j in i] for i in pred_fraud_tweet_index [1:]]\n",
    "end_time = time.time()\n",
    "print \"Training it took %.1f mins\" %((end_time-start_time)/60.0)"
   ]
  },
  {
   "cell_type": "code",
   "execution_count": 451,
   "metadata": {
    "collapsed": false
   },
   "outputs": [
    {
     "data": {
      "text/plain": [
       "1240"
      ]
     },
     "execution_count": 451,
     "metadata": {},
     "output_type": "execute_result"
    }
   ],
   "source": [
    "# how many tweets recognized as fraud relevent by the model\n",
    "501315-500075"
   ]
  },
  {
   "cell_type": "code",
   "execution_count": 452,
   "metadata": {
    "collapsed": false,
    "scrolled": true
   },
   "outputs": [
    {
     "data": {
      "text/plain": [
       "['Pretty sure they give out dum-dums out at the bank because they know how stupid u are to trust them with your money. #Bankrupt',\n",
       " 'I have a MCU that has 22 pins, despite data sheet and supplier site saying 20 pins. Need to go lie down.',\n",
       " '@chlobowzz Sounds like you have an amazing year ahead! Let us know if you need a place to call home while in NYC :)',\n",
       " 'RT @redallover99: \"journalism is not a crime\"\\nexcept it is often criminal\\nour msm &amp; so called independent media prove this on a daily basis',\n",
       " 'RT @MiriamRoseMc: Pay bonuses should be reserved for private employment\\n\\nGovt employees ie: TSA, IRS should never receive bonuses,  paid we',\n",
       " 'RT @DCWasteBook: #DCWaste: In 2013, #USGov paid\\n$124M to USIS, contractor hired to do background checks, despite security failures &amp; fraud',\n",
       " 'I think there is something wrong when i am actually crying because I have to go to work tonight I hate that place and the people ',\n",
       " 'RT @smittie61984: If people kept their full pay checks and paid taxes quarterly, Washington DC would be a big pile of ash and stone right n',\n",
       " 'I have a MCU that has 22 pins, despite data sheet and supplier site saying 20 pins. Need to go lie down.',\n",
       " 'Amen. Love you bro. You help me each morning.  I find strength to keep up and move beyond my negative thinking that makes me want to lie...']"
      ]
     },
     "execution_count": 452,
     "metadata": {},
     "output_type": "execute_result"
    }
   ],
   "source": [
    "selected_relevent_tweet[0][:10]"
   ]
  },
  {
   "cell_type": "code",
   "execution_count": 455,
   "metadata": {
    "collapsed": true
   },
   "outputs": [],
   "source": [
    "# export the data\n",
    "pickle.dump(selected_relevent_tweet, open('selected_relevent_tweet.pkl', 'wb')) \n",
    "# obj = cPickle.load(open('selected_relevent_tweet.pkl', 'rb'))"
   ]
  }
 ],
 "metadata": {
  "kernelspec": {
   "display_name": "Python 2",
   "language": "python",
   "name": "python2"
  },
  "language_info": {
   "codemirror_mode": {
    "name": "ipython",
    "version": 2
   },
   "file_extension": ".py",
   "mimetype": "text/x-python",
   "name": "python",
   "nbconvert_exporter": "python",
   "pygments_lexer": "ipython2",
   "version": "2.7.12"
  }
 },
 "nbformat": 4,
 "nbformat_minor": 0
}
