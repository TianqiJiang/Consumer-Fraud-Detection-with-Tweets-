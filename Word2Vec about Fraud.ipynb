{
 "cells": [
  {
   "cell_type": "markdown",
   "metadata": {},
   "source": [
    "# Word2Vec about Fraud"
   ]
  },
  {
   "cell_type": "code",
   "execution_count": 52,
   "metadata": {
    "collapsed": false
   },
   "outputs": [],
   "source": [
    "import nltk\n",
    "import pandas as pd\n",
    "# %pylab inline\n",
    "from nltk.corpus import stopwords\n",
    "import gensim\n",
    "from gensim import corpora, models, similarities\n",
    "import re\n",
    "import random\n",
    "import time"
   ]
  },
  {
   "cell_type": "code",
   "execution_count": 53,
   "metadata": {
    "collapsed": true
   },
   "outputs": [],
   "source": [
    "oag_data = pd.read_csv(\"../data/OAG Complaints-Online_Final.csv\")"
   ]
  },
  {
   "cell_type": "code",
   "execution_count": 54,
   "metadata": {
    "collapsed": false,
    "scrolled": false
   },
   "outputs": [],
   "source": [
    "# oag_data.info()"
   ]
  },
  {
   "cell_type": "code",
   "execution_count": 55,
   "metadata": {
    "collapsed": true
   },
   "outputs": [],
   "source": [
    "oag_doc = list(oag_data['COMPLAINT_DESCRIPTION'])"
   ]
  },
  {
   "cell_type": "code",
   "execution_count": 56,
   "metadata": {
    "collapsed": false
   },
   "outputs": [
    {
     "data": {
      "text/plain": [
       "11635"
      ]
     },
     "execution_count": 56,
     "metadata": {},
     "output_type": "execute_result"
    }
   ],
   "source": [
    "# drop duplicate\n",
    "oag_doc = list(set(oag_doc))\n",
    "oag_doc = oag_doc[1:]\n",
    "len(oag_doc)"
   ]
  },
  {
   "cell_type": "code",
   "execution_count": 57,
   "metadata": {
    "collapsed": false
   },
   "outputs": [
    {
     "data": {
      "text/plain": [
       "'Note User indicated supporting documents will be mailed within - days They rent cars for Uber to TLC drivers in NYC  There cars are problematic and inoperableYou can see the google reviews or BBB complaints against themThey have our ---- usd deposit and one week of rent --- plus loss of wages for two drivers ie ---- usd'"
      ]
     },
     "execution_count": 57,
     "metadata": {},
     "output_type": "execute_result"
    }
   ],
   "source": [
    "oag_doc[0]"
   ]
  },
  {
   "cell_type": "code",
   "execution_count": 58,
   "metadata": {
    "collapsed": false
   },
   "outputs": [
    {
     "data": {
      "text/plain": [
       "11635"
      ]
     },
     "execution_count": 58,
     "metadata": {},
     "output_type": "execute_result"
    }
   ],
   "source": [
    "# data preprocessing\n",
    "texts = []\n",
    "for doc in oag_doc:\n",
    "    try:\n",
    "        re.split('\\.|\\,|\\n| ',doc)\n",
    "        single_doc = []\n",
    "        for word in re.split('\\.|\\,|\\n| ',doc):\n",
    "            if word.lower() not in stopwords.words('english') and 'xx' not in word.lower() and len(word)>3 and '$' not in word and '--' not in word:\n",
    "                single_doc.append(word.lower())\n",
    "        texts.append(single_doc)\n",
    "    except:\n",
    "        pass\n",
    "len(texts)"
   ]
  },
  {
   "cell_type": "code",
   "execution_count": 59,
   "metadata": {
    "collapsed": false
   },
   "outputs": [
    {
     "name": "stdout",
     "output_type": "stream",
     "text": [
      "['note', 'user', 'indicated', 'supporting', 'documents', 'mailed', 'within', 'days', 'rent', 'cars', 'uber', 'drivers', 'cars', 'problematic', 'inoperableyou', 'google', 'reviews', 'complaints', 'themthey', 'deposit', 'week', 'rent', 'plus', 'loss', 'wages', 'drivers']\n"
     ]
    }
   ],
   "source": [
    "print texts[0]"
   ]
  },
  {
   "cell_type": "code",
   "execution_count": 60,
   "metadata": {
    "collapsed": true
   },
   "outputs": [],
   "source": [
    "# remove words that appear only once\n",
    "from collections import defaultdict\n",
    "frequency = defaultdict(int)\n",
    "for text in texts:\n",
    "    for token in text:\n",
    "        frequency[token] += 1"
   ]
  },
  {
   "cell_type": "code",
   "execution_count": 61,
   "metadata": {
    "collapsed": true
   },
   "outputs": [],
   "source": [
    "texts = [[token for token in text if frequency[token] > 1] for text in texts]\n",
    "len(texts)"
   ]
  },
  {
   "cell_type": "code",
   "execution_count": 62,
   "metadata": {
    "collapsed": true
   },
   "outputs": [],
   "source": [
    "# Phrases Detection\n",
    "bigram = gensim.models.Phrases(texts, threshold=50.0)\n",
    "phrases_texts = bigram[texts]"
   ]
  },
  {
   "cell_type": "code",
   "execution_count": 63,
   "metadata": {
    "collapsed": false
   },
   "outputs": [
    {
     "name": "stdout",
     "output_type": "stream",
     "text": [
      "[u'note_user', u'indicated_supporting', u'documents_mailed', u'within_days', u'rent', u'cars', u'uber', u'drivers', u'cars', u'problematic', u'google', u'reviews', u'complaints', u'themthey', u'deposit', u'week', u'rent', u'plus', u'loss', u'wages', u'drivers']\n"
     ]
    }
   ],
   "source": [
    "print phrases_texts[0]"
   ]
  },
  {
   "cell_type": "code",
   "execution_count": 64,
   "metadata": {
    "collapsed": true
   },
   "outputs": [],
   "source": [
    "# transform into dictionary\n",
    "dictionary = corpora.Dictionary(phrases_texts)"
   ]
  },
  {
   "cell_type": "code",
   "execution_count": 65,
   "metadata": {
    "collapsed": false
   },
   "outputs": [],
   "source": [
    "# store the dictionary, for future reference\n",
    "# dictionary.save('phrases_texts_oag.dict')"
   ]
  },
  {
   "cell_type": "code",
   "execution_count": 66,
   "metadata": {
    "collapsed": false
   },
   "outputs": [
    {
     "name": "stdout",
     "output_type": "stream",
     "text": [
      "Dictionary(16159 unique tokens: [u'cussed', u'deferment', u'yellow', u'four', u'woods']...)\n"
     ]
    }
   ],
   "source": [
    "print (dictionary)"
   ]
  },
  {
   "cell_type": "markdown",
   "metadata": {},
   "source": [
    "# Word2Vec\n",
    "Train a Word2Vec model on 11635 documents with 16159 unique word"
   ]
  },
  {
   "cell_type": "code",
   "execution_count": 71,
   "metadata": {
    "collapsed": false
   },
   "outputs": [],
   "source": [
    "# gensim.models.word2vec.Word2Vec(sentences=None, \n",
    "# size=100, alpha=0.025, window=5, min_count=5, max_vocab_size=None, \n",
    "# sample=0.001, seed=1, workers=3, min_alpha=0.0001, sg=0, hs=0, \n",
    "# negative=5, cbow_mean=1, hashfxn=<built-in function hash>, iter=5, \n",
    "# null_word=0, trim_rule=None, sorted_vocab=1, batch_words=10000)\n",
    "# train word2vec\n",
    "model = gensim.models.word2vec.Word2Vec(phrases_texts, size=60, sg=1, window=5, workers=2)"
   ]
  },
  {
   "cell_type": "code",
   "execution_count": 69,
   "metadata": {
    "collapsed": true
   },
   "outputs": [],
   "source": [
    "# save the model\n",
    "# model.save('word2vec_model_oag')"
   ]
  },
  {
   "cell_type": "code",
   "execution_count": 72,
   "metadata": {
    "collapsed": false,
    "scrolled": true
   },
   "outputs": [
    {
     "data": {
      "text/plain": [
       "[(u'theft', 0.7708562612533569),\n",
       " (u'victim', 0.7343912124633789),\n",
       " (u'finacing', 0.7333649396896362),\n",
       " (u'schumacher', 0.7304519414901733),\n",
       " (u'others', 0.7286326885223389),\n",
       " (u'committed', 0.726068377494812),\n",
       " (u'scams', 0.7253360748291016),\n",
       " (u'herds', 0.7206159830093384),\n",
       " (u'thru_insurnce', 0.7029843330383301),\n",
       " (u'chruch', 0.7029628753662109),\n",
       " (u'ideas', 0.7014973163604736),\n",
       " (u'felony', 0.6972740888595581),\n",
       " (u'theft_deception', 0.6961012482643127),\n",
       " (u'scripts', 0.69463050365448),\n",
       " (u'commit', 0.6936841011047363),\n",
       " (u'thru', 0.693616509437561),\n",
       " (u'daley', 0.6882930994033813),\n",
       " (u'committing', 0.6829313039779663),\n",
       " (u'herds_fraud', 0.6807495355606079),\n",
       " (u'mccarty', 0.6803163290023804)]"
      ]
     },
     "execution_count": 72,
     "metadata": {},
     "output_type": "execute_result"
    }
   ],
   "source": [
    "model.most_similar(positive=['fraud'], topn=20)"
   ]
  },
  {
   "cell_type": "code",
   "execution_count": 78,
   "metadata": {
    "collapsed": false
   },
   "outputs": [
    {
     "data": {
      "text/plain": [
       "[(u'search', 0.9254671931266785),\n",
       " (u'facebook', 0.8930904865264893),\n",
       " (u'social_media', 0.8922886848449707),\n",
       " (u'websites', 0.8822185397148132),\n",
       " (u'googled', 0.8766440749168396),\n",
       " (u'reviews', 0.870497465133667),\n",
       " (u'searched', 0.8674001693725586),\n",
       " (u'reveals', 0.8508349657058716),\n",
       " (u'yelp', 0.8448924422264099),\n",
       " (u'blog', 0.8439939618110657),\n",
       " (u'google_search', 0.8417780995368958),\n",
       " (u'posts', 0.840400218963623),\n",
       " (u'sites', 0.8362839221954346),\n",
       " (u'logo', 0.8324384689331055),\n",
       " (u'similar_stories', 0.8282687664031982),\n",
       " (u'links', 0.8256586790084839),\n",
       " (u'facebook_page', 0.8250905275344849),\n",
       " (u'numerous_complaints', 0.824032187461853),\n",
       " (u'negative_reviews', 0.8225080370903015),\n",
       " (u'tinder', 0.8215990662574768)]"
      ]
     },
     "execution_count": 78,
     "metadata": {},
     "output_type": "execute_result"
    }
   ],
   "source": [
    "model.most_similar(positive=['google'], topn=20)"
   ]
  },
  {
   "cell_type": "code",
   "execution_count": 108,
   "metadata": {
    "collapsed": false
   },
   "outputs": [
    {
     "data": {
      "text/plain": [
       "[(u'attorney_generals', 0.9439666867256165),\n",
       " (u'schneiderman', 0.859863817691803),\n",
       " (u'consumer_affairs', 0.8544109463691711),\n",
       " (u'filing_complaint', 0.8480504751205444),\n",
       " (u'consumer_protection', 0.8477827906608582),\n",
       " (u'investigate', 0.8434239625930786),\n",
       " (u'offices', 0.834975004196167),\n",
       " (u'better_business', 0.8293050527572632),\n",
       " (u'file_complaint', 0.8245018720626831),\n",
       " (u'formal_complaint', 0.82379150390625),\n",
       " (u'cfpb', 0.8180173635482788),\n",
       " (u'federal_trade', 0.8135943412780762),\n",
       " (u'article', 0.8086038827896118),\n",
       " (u'respectfully', 0.807357907295227),\n",
       " (u'lodge', 0.8036432266235352),\n",
       " (u'filed_complaint', 0.8001582622528076),\n",
       " (u'bureau', 0.791593074798584),\n",
       " (u'counsel', 0.7896642684936523),\n",
       " (u'refer', 0.7821816802024841),\n",
       " (u'division_consumer', 0.781112551689148)]"
      ]
     },
     "execution_count": 108,
     "metadata": {},
     "output_type": "execute_result"
    }
   ],
   "source": [
    "model.most_similar(positive=[\"attorney_general\"], topn=20)"
   ]
  },
  {
   "cell_type": "code",
   "execution_count": 84,
   "metadata": {
    "collapsed": false
   },
   "outputs": [
    {
     "data": {
      "text/plain": [
       "[('tinder', 0.57085916674941717),\n",
       " ('yelp', 0.52957863637917491),\n",
       " ('instagram', 0.51811455584390576),\n",
       " ('uber', 0.50122224942553362),\n",
       " ('starbucks', 0.49795903338558251),\n",
       " ('citibank', 0.4879619329971665),\n",
       " ('linkedin', 0.48762062185402388),\n",
       " ('chase', 0.46189347014889526),\n",
       " ('google', 0.45818626054274281),\n",
       " ('airbnb', 0.40217002622500914),\n",
       " ('facebook', 0.36000646193443331),\n",
       " ('sony', 0.34183986599785965),\n",
       " ('amazon', 0.33733224012772467),\n",
       " ('apple', 0.33393577392658724),\n",
       " ('dell', 0.28123713377173432)]"
      ]
     },
     "execution_count": 84,
     "metadata": {},
     "output_type": "execute_result"
    }
   ],
   "source": [
    "company = ['uber','chase','citibank','google','facebook','yelp','apple','instagram','starbucks','amazon','airbnb','sony','dell','tinder','linkedin']\n",
    "sim = [(i,model.similarity('fraud', i)) for i in company]\n",
    "sorted(sim, key=lambda item: -item[1])"
   ]
  },
  {
   "cell_type": "code",
   "execution_count": null,
   "metadata": {
    "collapsed": true
   },
   "outputs": [],
   "source": []
  }
 ],
 "metadata": {
  "kernelspec": {
   "display_name": "Python 2",
   "language": "python",
   "name": "python2"
  },
  "language_info": {
   "codemirror_mode": {
    "name": "ipython",
    "version": 2
   },
   "file_extension": ".py",
   "mimetype": "text/x-python",
   "name": "python",
   "nbconvert_exporter": "python",
   "pygments_lexer": "ipython2",
   "version": "2.7.12"
  }
 },
 "nbformat": 4,
 "nbformat_minor": 0
}
